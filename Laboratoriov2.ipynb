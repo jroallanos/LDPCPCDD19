{
 "cells": [
  {
   "cell_type": "markdown",
   "metadata": {
    "id": "XUZ1dFPHzAHl"
   },
   "source": [
    "<h1><center>Laboratorio 2: El Pandas no muerde 🐼</center></h1>\n",
    "\n",
    "<center><strong>MDS7202: Laboratorio de Programación Científica para Ciencia de Datos</strong></center>"
   ]
  },
  {
   "cell_type": "markdown",
   "metadata": {
    "id": "UD8X1uhGzAHq"
   },
   "source": [
    "### Cuerpo Docente:\n",
    "\n",
    "- Profesor: Pablo Badilla\n",
    "- Auxiliar: Ignacio Meza D.\n",
    "- Ayudante: Diego Irarrázaval"
   ]
  },
  {
   "cell_type": "markdown",
   "metadata": {
    "id": "tXflExjqzAHr"
   },
   "source": [
    "### Equipo: SUPER IMPORTANTE - notebooks sin nombre no serán revisados\n",
    "\n",
    "- Nombre de alumno 1:\n",
    "- Nombre de alumno 2:\n"
   ]
  },
  {
   "cell_type": "markdown",
   "metadata": {
    "id": "AD-V0bbZzAHr"
   },
   "source": [
    "### **Link de repositorio de GitHub:** `http://....`"
   ]
  },
  {
   "cell_type": "markdown",
   "metadata": {
    "id": "EcnsiQMkzAHr"
   },
   "source": [
    "### Indice \n",
    "\n",
    "1. [Temas a tratar](#Temas-a-tratar:)\n",
    "3. [Descripcción del laboratorio](#Descripción-del-laboratorio.)\n",
    "4. [Desarrollo](#Desarrollo)"
   ]
  },
  {
   "cell_type": "markdown",
   "metadata": {
    "id": "6uBLPj1PzAHs"
   },
   "source": [
    "# Temas a tratar\n",
    "\n",
    "- Manejo de DataFrames con la libreria `pandas`.\n",
    "- Visualizaciones interactivas de los datos con `plotly`.\n",
    "\n",
    "## Reglas:\n",
    "\n",
    "- Fecha de entrega: TBD\n",
    "- **Grupos de 2 personas**\n",
    "- **Ausentes** deberán realizar la actividad solos. \n",
    "- Cualquier duda fuera del horario de clases al foro. Mensajes al equipo docente serán respondidos por este medio.\n",
    "- Prohibidas las copias. \n",
    "- Pueden usar cualquer material y segmentos de código del curso que estimen conveniente.\n",
    "\n",
    "### Objetivos principales del laboratorio\n",
    "\n",
    "- Aplicar y aprovechar las ventajas que nos ofrece la libreria `pandas`.\n",
    "- Utilizar `plotly` para obtener información gráfica del dataset.\n",
    "- Aplicar el **Análisis Exploratorio de Datos** a un caso en particular.\n",
    "\n",
    "\n",
    "El laboratorio deberá ser desarrollado **sin el uso indiscriminado de nativos de python** (aka \"for\", \"while\"). La idea es que aprendan a exprimir al máximo las funciones optimizadas que nos entrega `pandas`, las cuales vale mencionar, son bastante más eficientes que los iteradores nativos sobre DataFrames."
   ]
  },
  {
   "cell_type": "markdown",
   "metadata": {
    "id": "MhISwri4zAHy"
   },
   "source": [
    "#Importamos librerias utiles 😸"
   ]
  },
  {
   "cell_type": "code",
   "execution_count": 1,
   "metadata": {
    "ExecuteTime": {
     "end_time": "2021-03-29T00:08:16.884674Z",
     "start_time": "2021-03-29T00:08:16.349846Z"
    },
    "id": "uyc33dKdzAHy"
   },
   "outputs": [],
   "source": [
    "# Libreria Core del lab.\n",
    "import numpy as np\n",
    "import pandas as pd\n",
    "from IPython.display import display\n",
    "\n",
    "#Libreria para visualizar\n",
    "#!pip install --upgrade plotly\n",
    "import plotly.express as px"
   ]
  },
  {
   "cell_type": "markdown",
   "metadata": {
    "id": "xpOTbQcxbSiy"
   },
   "source": [
    "# 1. Rendimiento en Estudiantes 📚"
   ]
  },
  {
   "cell_type": "markdown",
   "metadata": {
    "id": "3Q93vbNS25bM"
   },
   "source": [
    "\n",
    "<p align=\"center\">\n",
    "  <img src=\"https://drive.google.com/uc?export=view&id=1hZZaPQlZe4VupFOXt76_wjuUA5NpUhrw\" width=\"300\" height=\"300\">\n",
    "</p>"
   ]
  },
  {
   "cell_type": "markdown",
   "metadata": {
    "id": "jnmZfFpxTTYX"
   },
   "source": [
    "Para este laboratorio deberán realizar un Análisis Exploratorio de datos sobre el conjunto ```students_grades.csv```, el cual contiene una caracterización sobre el rendimiento y otros atributos de cada alumno de la *Universidad de la Cachaña* ."
   ]
  },
  {
   "cell_type": "code",
   "execution_count": null,
   "metadata": {
    "colab": {
     "base_uri": "https://localhost:8080/"
    },
    "id": "Jqq-s010Iwl1",
    "outputId": "439939e5-ef95-449e-a076-060347cfb431"
   },
   "outputs": [
    {
     "name": "stdout",
     "output_type": "stream",
     "text": [
      "Drive already mounted at /content/drive; to attempt to forcibly remount, call drive.mount(\"/content/drive\", force_remount=True).\n"
     ]
    }
   ],
   "source": [
    "# Usar solamente si utilizan Collab.\n",
    "from google.colab import drive\n",
    "drive.mount(\"/content/drive\")\n"
   ]
  },
  {
   "cell_type": "code",
   "execution_count": 133,
   "metadata": {
    "id": "bED3w3tDbSCf"
   },
   "outputs": [],
   "source": [
    "dir = '/Users/matiassepulveda/Documents/Semestre Otoño 2021/Laboratorio de Ciencia de Datos/Laboratorio 2/202104231153C65226A3407DEBA6__Dataset_lab2/'\n",
    "df_grades = pd.read_csv(dir+'students_grades.csv')"
   ]
  },
  {
   "cell_type": "markdown",
   "metadata": {
    "id": "Y7sGYwOpN1VJ"
   },
   "source": [
    "## 1.1 Revisión de datos [1 punto]\n",
    "\n",
    "<p align=\"center\">\n",
    "  <img src=\"https://media2.giphy.com/media/4FQMuOKR6zQRO/giphy.gif?cid=ecf05e47ii9lhu9tc9tb31d6lafrysp2zyf6u8w3y348mk8t&rid=giphy.gif&ct=g\">\n",
    "</p>\n",
    "\n"
   ]
  },
  {
   "cell_type": "markdown",
   "metadata": {
    "id": "sgVJGeVMMshn"
   },
   "source": [
    "El Rector *Don Caguayo* le comenta que actualmente la Universidad posee un total de **1000** alumnos inscritos. Sin embargo, al revisar su *Excel*, no le cabe en la cabeza que hayan más de **1000** alumnos en la universidad. \n",
    "\n",
    "Consternado, el rector cree que se han realizado malas prácticas al inscribir tanto los registros de las notas como las notas como tal y les solicita a ustedes (aka, los expertos) que revisen los datos. \n",
    "\n",
    "Para esto, usted debe estar al tanto que las notas están en una escala que van del **0 al 100** (porcentaje de logro) y **no es posible que un alumno haya dado más de una vez el mismo examen**.\n",
    "\n",
    "Cree una función que le permita revisar si las diferentes variables que componen el dataset son coherentes y si es posible observar anomalías en estas.\n",
    "\n",
    "> ¿Sera necesario limpiar los datos?, comente esto en la celda ubicada debajo de **justificación**. (agregar si están bien el rango de notas)\n",
    "\n",
    "**To-Do**\n",
    "\n",
    "Crear la función que `analisis_exploratorio` que:\n",
    "- [ ] Imprima un extracto del Dataframe (usar `display` en vez de `print` para los DataFrames).\n",
    "- [ ] Imprima las dimensiones del DataFrame.\n",
    "- [ ] Describa los datos numéricos a través de ```.describe()```.\n",
    "- [ ] Imprima el total de filas repetidas (hint: Buscar el método```duplicated()```.).\n",
    "- [ ] Imprima la cantidad de valores nulos (`isna()`).\n",
    "- [ ] Imprima la cantidad de valores unicos.\n",
    "\n",
    "Además, genere visualizaciones (fuera de la función) que:\n",
    "- [ ] Muestre la distribución de las variables numericas.\n",
    "\n",
    "Por último, \n",
    "\n",
    "- [ ] Justifique si será necesario limpiar los datos y aplique los análisis univariado y/o bivariado vistos en clase.\n"
   ]
  },
  {
   "cell_type": "code",
   "execution_count": 134,
   "metadata": {
    "id": "2C5Mjcj4Xiou"
   },
   "outputs": [],
   "source": [
    "def analisis_preliminar_datos(df_grades):\n",
    "    display(df_grades[0:5])\n",
    "    print('Dimensiones del set de datos (Filas x Columnas): ',df_grades.shape)\n",
    "    print('')\n",
    "    print('Descripción de los datos númericos: ')\n",
    "    print(df_grades.describe())      \n",
    "    duplicados = sum(df_grades.duplicated())\n",
    "    print('')\n",
    "    print('Cantidad de filas duplicadas: ', duplicados)\n",
    "    print('')\n",
    "    print('Cantidad total de valores NAs: ', sum(df_grades.isna().sum()))\n",
    "    print('')\n",
    "    print('Cantidad total de valores únicos por columna: ')\n",
    "    print('')\n",
    "    print(df_grades.nunique())\n",
    "    print('')\n",
    "    print('Cantidad total de filas únicas: ', len(df_grades) - duplicados)"
   ]
  },
  {
   "cell_type": "code",
   "execution_count": 135,
   "metadata": {},
   "outputs": [
    {
     "data": {
      "text/html": [
       "<div>\n",
       "<style scoped>\n",
       "    .dataframe tbody tr th:only-of-type {\n",
       "        vertical-align: middle;\n",
       "    }\n",
       "\n",
       "    .dataframe tbody tr th {\n",
       "        vertical-align: top;\n",
       "    }\n",
       "\n",
       "    .dataframe thead th {\n",
       "        text-align: right;\n",
       "    }\n",
       "</style>\n",
       "<table border=\"1\" class=\"dataframe\">\n",
       "  <thead>\n",
       "    <tr style=\"text-align: right;\">\n",
       "      <th></th>\n",
       "      <th>names</th>\n",
       "      <th>gender</th>\n",
       "      <th>race/ethnicity</th>\n",
       "      <th>parental level of education</th>\n",
       "      <th>lunch</th>\n",
       "      <th>test preparation course</th>\n",
       "      <th>math score</th>\n",
       "      <th>reading score</th>\n",
       "      <th>writing score</th>\n",
       "    </tr>\n",
       "  </thead>\n",
       "  <tbody>\n",
       "    <tr>\n",
       "      <th>0</th>\n",
       "      <td>Rita Courtney</td>\n",
       "      <td>female</td>\n",
       "      <td>group B</td>\n",
       "      <td>some high school</td>\n",
       "      <td>standard</td>\n",
       "      <td>none</td>\n",
       "      <td>37.0</td>\n",
       "      <td>46.0</td>\n",
       "      <td>46.0</td>\n",
       "    </tr>\n",
       "    <tr>\n",
       "      <th>1</th>\n",
       "      <td>Madeline Fuller</td>\n",
       "      <td>female</td>\n",
       "      <td>group C</td>\n",
       "      <td>some high school</td>\n",
       "      <td>standard</td>\n",
       "      <td>none</td>\n",
       "      <td>124.0</td>\n",
       "      <td>142.0</td>\n",
       "      <td>142.0</td>\n",
       "    </tr>\n",
       "    <tr>\n",
       "      <th>2</th>\n",
       "      <td>Daniel Rester</td>\n",
       "      <td>male</td>\n",
       "      <td>group E</td>\n",
       "      <td>associate's degree</td>\n",
       "      <td>standard</td>\n",
       "      <td>none</td>\n",
       "      <td>156.0</td>\n",
       "      <td>196.0</td>\n",
       "      <td>193.0</td>\n",
       "    </tr>\n",
       "    <tr>\n",
       "      <th>3</th>\n",
       "      <td>Charles Linstrom</td>\n",
       "      <td>male</td>\n",
       "      <td>group A</td>\n",
       "      <td>bachelor's degree</td>\n",
       "      <td>standard</td>\n",
       "      <td>completed</td>\n",
       "      <td>80.0</td>\n",
       "      <td>78.0</td>\n",
       "      <td>81.0</td>\n",
       "    </tr>\n",
       "    <tr>\n",
       "      <th>4</th>\n",
       "      <td>Geraldine Hale</td>\n",
       "      <td>female</td>\n",
       "      <td>group A</td>\n",
       "      <td>associate's degree</td>\n",
       "      <td>standard</td>\n",
       "      <td>none</td>\n",
       "      <td>131.0</td>\n",
       "      <td>166.0</td>\n",
       "      <td>166.0</td>\n",
       "    </tr>\n",
       "  </tbody>\n",
       "</table>\n",
       "</div>"
      ],
      "text/plain": [
       "              names  gender race/ethnicity parental level of education  \\\n",
       "0     Rita Courtney  female        group B            some high school   \n",
       "1   Madeline Fuller  female        group C            some high school   \n",
       "2     Daniel Rester    male        group E          associate's degree   \n",
       "3  Charles Linstrom    male        group A           bachelor's degree   \n",
       "4    Geraldine Hale  female        group A          associate's degree   \n",
       "\n",
       "      lunch test preparation course  math score  reading score  writing score  \n",
       "0  standard                    none        37.0           46.0           46.0  \n",
       "1  standard                    none       124.0          142.0          142.0  \n",
       "2  standard                    none       156.0          196.0          193.0  \n",
       "3  standard               completed        80.0           78.0           81.0  \n",
       "4  standard                    none       131.0          166.0          166.0  "
      ]
     },
     "metadata": {},
     "output_type": "display_data"
    },
    {
     "name": "stdout",
     "output_type": "stream",
     "text": [
      "Dimensiones del set de datos (Filas x Columnas):  (1400, 9)\n",
      "\n",
      "Descripción de los datos númericos: \n",
      "        math score  reading score  writing score\n",
      "count  1360.000000    1360.000000    1353.000000\n",
      "mean     89.538971      93.086029      91.852919\n",
      "std      47.152422      46.385775      47.043570\n",
      "min       0.000000      17.000000      10.000000\n",
      "25%      59.000000      63.000000      62.000000\n",
      "50%      72.000000      76.000000      75.000000\n",
      "75%      97.250000     100.000000     100.000000\n",
      "max     196.000000     196.000000     196.000000\n",
      "\n",
      "Cantidad de filas duplicadas:  3\n",
      "\n",
      "Cantidad total de valores NAs:  127\n",
      "\n",
      "Cantidad total de valores únicos por columna: \n",
      "\n",
      "names                          1153\n",
      "gender                            2\n",
      "race/ethnicity                    5\n",
      "parental level of education       6\n",
      "lunch                             2\n",
      "test preparation course           2\n",
      "math score                       96\n",
      "reading score                    88\n",
      "writing score                    92\n",
      "dtype: int64\n",
      "\n",
      "Cantidad total de filas únicas:  1397\n"
     ]
    }
   ],
   "source": [
    "analisis_preliminar_datos(df_grades)"
   ]
  },
  {
   "cell_type": "markdown",
   "metadata": {
    "id": "p0qeqAQBkZ1H"
   },
   "source": [
    "> Utilice alguna visualización (gráfique) para observar el comportamiento de los datos numericos. ¿Estan todos los valores correctos?"
   ]
  },
  {
   "cell_type": "code",
   "execution_count": 136,
   "metadata": {},
   "outputs": [
    {
     "data": {
      "application/vnd.plotly.v1+json": {
       "config": {
        "plotlyServerURL": "https://plot.ly"
       },
       "data": [
        {
         "alignmentgroup": "True",
         "bingroup": "x",
         "hovertemplate": "writing score=%{x}<br>count=%{y}<extra></extra>",
         "legendgroup": "",
         "marker": {
          "color": "#636efa"
         },
         "name": "",
         "offsetgroup": "",
         "orientation": "v",
         "showlegend": false,
         "type": "histogram",
         "x": [
          46,
          142,
          193,
          81,
          166,
          63,
          76,
          87,
          69,
          64,
          193,
          193,
          193,
          41,
          131,
          61,
          71,
          82,
          147,
          70,
          58,
          72,
          193,
          124,
          62,
          68,
          46,
          74,
          193,
          60,
          68,
          77,
          null,
          124,
          142,
          100,
          74,
          55,
          80,
          70,
          75,
          67,
          78,
          88,
          124,
          85,
          74,
          65,
          124,
          54,
          62,
          62,
          54,
          63,
          60,
          27,
          76,
          142,
          72,
          193,
          193,
          57,
          124,
          53,
          78,
          142,
          27,
          70,
          188,
          61,
          67,
          65,
          193,
          79,
          71,
          196,
          61,
          64,
          85,
          65,
          196,
          87,
          193,
          95,
          85,
          122,
          196,
          60,
          47,
          50,
          182,
          56,
          52,
          124,
          142,
          88,
          82,
          61,
          65,
          92,
          86,
          73,
          196,
          124,
          193,
          78,
          91,
          124,
          81,
          93,
          58,
          70,
          53,
          142,
          null,
          78,
          88,
          193,
          42,
          74,
          67,
          77,
          null,
          193,
          78,
          142,
          null,
          60,
          83,
          61,
          196,
          74,
          66,
          64,
          193,
          142,
          70,
          193,
          51,
          142,
          70,
          193,
          196,
          124,
          59,
          83,
          54,
          null,
          85,
          100,
          72,
          151,
          124,
          43,
          193,
          63,
          82,
          71,
          65,
          78,
          74,
          43,
          188,
          74,
          60,
          85,
          61,
          76,
          77,
          45,
          58,
          95,
          71,
          57,
          78,
          59,
          58,
          74,
          193,
          46,
          62,
          78,
          74,
          81,
          193,
          72,
          82,
          73,
          128,
          124,
          50,
          124,
          59,
          44,
          57,
          54,
          32,
          142,
          73,
          74,
          57,
          193,
          52,
          69,
          53,
          54,
          48,
          124,
          90,
          75,
          83,
          94,
          92,
          91,
          62,
          64,
          124,
          193,
          45,
          193,
          58,
          52,
          63,
          60,
          74,
          59,
          86,
          55,
          131,
          142,
          54,
          193,
          193,
          196,
          193,
          63,
          73,
          46,
          156,
          90,
          79,
          58,
          66,
          72,
          41,
          122,
          142,
          193,
          42,
          70,
          72,
          131,
          77,
          76,
          67,
          85,
          null,
          66,
          142,
          54,
          72,
          193,
          196,
          166,
          68,
          85,
          76,
          62,
          60,
          58,
          56,
          64,
          null,
          75,
          72,
          193,
          196,
          196,
          83,
          100,
          56,
          66,
          71,
          67,
          76,
          142,
          193,
          null,
          124,
          96,
          188,
          68,
          80,
          87,
          52,
          142,
          82,
          47,
          65,
          124,
          84,
          142,
          79,
          52,
          41,
          73,
          83,
          65,
          82,
          76,
          79,
          36,
          33,
          null,
          45,
          193,
          58,
          80,
          79,
          73,
          142,
          62,
          73,
          70,
          61,
          196,
          196,
          75,
          68,
          49,
          64,
          124,
          73,
          68,
          91,
          68,
          142,
          68,
          56,
          193,
          86,
          69,
          57,
          142,
          66,
          70,
          74,
          128,
          56,
          45,
          57,
          45,
          58,
          193,
          156,
          193,
          51,
          47,
          38,
          78,
          193,
          69,
          37,
          124,
          51,
          90,
          90,
          51,
          58,
          142,
          66,
          94,
          19,
          69,
          56,
          193,
          null,
          193,
          174,
          46,
          196,
          82,
          124,
          57,
          100,
          81,
          193,
          131,
          54,
          91,
          193,
          80,
          142,
          84,
          70,
          156,
          52,
          68,
          73,
          78,
          142,
          79,
          70,
          193,
          84,
          74,
          193,
          69,
          75,
          193,
          70,
          68,
          44,
          69,
          68,
          193,
          68,
          89,
          72,
          65,
          196,
          66,
          69,
          73,
          72,
          82,
          69,
          69,
          77,
          142,
          73,
          124,
          72,
          77,
          86,
          142,
          75,
          null,
          80,
          142,
          156,
          124,
          54,
          193,
          193,
          68,
          93,
          193,
          73,
          92,
          74,
          142,
          98,
          70,
          73,
          75,
          77,
          81,
          124,
          52,
          193,
          51,
          51,
          96,
          null,
          62,
          74,
          196,
          75,
          61,
          67,
          77,
          44,
          67,
          62,
          100,
          142,
          89,
          80,
          78,
          64,
          77,
          124,
          196,
          142,
          61,
          72,
          67,
          86,
          61,
          80,
          67,
          53,
          55,
          null,
          87,
          71,
          null,
          59,
          50,
          142,
          124,
          null,
          81,
          69,
          147,
          74,
          54,
          55,
          60,
          193,
          196,
          null,
          96,
          93,
          71,
          91,
          42,
          83,
          66,
          193,
          81,
          124,
          147,
          41,
          56,
          77,
          58,
          66,
          124,
          52,
          47,
          41,
          68,
          63,
          62,
          71,
          39,
          80,
          61,
          70,
          72,
          89,
          81,
          48,
          193,
          38,
          60,
          55,
          54,
          null,
          86,
          124,
          196,
          70,
          73,
          72,
          47,
          38,
          131,
          49,
          88,
          22,
          80,
          66,
          80,
          83,
          50,
          131,
          87,
          null,
          null,
          85,
          87,
          85,
          87,
          70,
          67,
          70,
          61,
          51,
          142,
          61,
          193,
          null,
          193,
          48,
          57,
          193,
          147,
          87,
          89,
          null,
          65,
          52,
          80,
          88,
          52,
          56,
          80,
          193,
          68,
          156,
          47,
          51,
          193,
          80,
          73,
          68,
          89,
          193,
          86,
          142,
          142,
          70,
          57,
          193,
          77,
          69,
          80,
          73,
          63,
          124,
          124,
          78,
          76,
          196,
          193,
          73,
          52,
          66,
          74,
          142,
          60,
          82,
          193,
          65,
          46,
          69,
          76,
          46,
          72,
          38,
          51,
          null,
          33,
          142,
          84,
          193,
          85,
          193,
          60,
          80,
          null,
          42,
          65,
          58,
          64,
          null,
          58,
          131,
          142,
          83,
          91,
          193,
          97,
          80,
          66,
          193,
          64,
          null,
          193,
          193,
          66,
          156,
          124,
          193,
          100,
          193,
          23,
          62,
          64,
          65,
          82,
          91,
          null,
          75,
          69,
          64,
          43,
          69,
          47,
          74,
          57,
          124,
          193,
          48,
          147,
          193,
          56,
          94,
          91,
          57,
          76,
          50,
          63,
          79,
          44,
          95,
          193,
          193,
          193,
          193,
          71,
          131,
          57,
          41,
          193,
          62,
          68,
          43,
          54,
          65,
          76,
          47,
          64,
          75,
          78,
          196,
          73,
          193,
          57,
          95,
          131,
          66,
          38,
          124,
          76,
          79,
          182,
          82,
          85,
          65,
          86,
          73,
          65,
          76,
          124,
          70,
          49,
          51,
          48,
          null,
          80,
          73,
          65,
          82,
          59,
          73,
          193,
          84,
          142,
          null,
          77,
          75,
          68,
          88,
          86,
          51,
          62,
          79,
          54,
          193,
          37,
          42,
          62,
          76,
          89,
          97,
          124,
          68,
          92,
          55,
          68,
          60,
          171,
          71,
          88,
          75,
          53,
          73,
          91,
          43,
          81,
          74,
          36,
          70,
          75,
          93,
          50,
          52,
          42,
          124,
          156,
          64,
          53,
          53,
          51,
          53,
          34,
          92,
          58,
          72,
          76,
          66,
          100,
          38,
          61,
          71,
          193,
          87,
          85,
          92,
          56,
          50,
          48,
          82,
          38,
          77,
          63,
          52,
          89,
          54,
          83,
          54,
          66,
          69,
          56,
          188,
          193,
          83,
          100,
          87,
          156,
          196,
          188,
          79,
          124,
          75,
          171,
          78,
          193,
          82,
          84,
          68,
          196,
          78,
          142,
          193,
          166,
          156,
          142,
          156,
          52,
          62,
          142,
          82,
          74,
          70,
          44,
          66,
          78,
          193,
          93,
          44,
          61,
          55,
          71,
          72,
          null,
          48,
          174,
          193,
          193,
          98,
          142,
          43,
          193,
          66,
          54,
          null,
          59,
          71,
          124,
          196,
          84,
          72,
          40,
          58,
          193,
          27,
          70,
          94,
          72,
          74,
          52,
          null,
          100,
          42,
          54,
          68,
          75,
          81,
          193,
          59,
          53,
          90,
          73,
          100,
          51,
          82,
          100,
          61,
          124,
          72,
          76,
          46,
          null,
          193,
          95,
          62,
          193,
          93,
          196,
          68,
          79,
          53,
          null,
          51,
          49,
          84,
          63,
          196,
          78,
          74,
          77,
          56,
          60,
          90,
          82,
          85,
          64,
          174,
          70,
          45,
          69,
          76,
          193,
          51,
          60,
          36,
          45,
          70,
          43,
          69,
          97,
          193,
          74,
          43,
          72,
          62,
          64,
          82,
          64,
          43,
          60,
          193,
          65,
          70,
          193,
          35,
          193,
          77,
          80,
          49,
          124,
          74,
          124,
          53,
          null,
          53,
          77,
          95,
          49,
          75,
          95,
          36,
          34,
          78,
          82,
          52,
          74,
          89,
          60,
          58,
          54,
          57,
          67,
          74,
          90,
          193,
          124,
          34,
          67,
          196,
          61,
          80,
          62,
          41,
          44,
          57,
          50,
          193,
          142,
          73,
          84,
          70,
          null,
          57,
          196,
          71,
          73,
          null,
          81,
          193,
          124,
          196,
          61,
          79,
          42,
          142,
          95,
          62,
          193,
          83,
          193,
          188,
          63,
          71,
          85,
          79,
          74,
          53,
          76,
          54,
          60,
          null,
          196,
          58,
          142,
          142,
          196,
          78,
          124,
          128,
          34,
          142,
          77,
          27,
          46,
          142,
          86,
          69,
          193,
          61,
          99,
          49,
          76,
          65,
          128,
          66,
          76,
          52,
          78,
          156,
          86,
          81,
          193,
          66,
          193,
          77,
          55,
          193,
          63,
          80,
          null,
          47,
          79,
          38,
          80,
          193,
          57,
          41,
          64,
          75,
          68,
          54,
          142,
          77,
          80,
          59,
          75,
          58,
          38,
          196,
          131,
          74,
          52,
          66,
          null,
          74,
          55,
          79,
          193,
          55,
          55,
          64,
          81,
          64,
          193,
          55,
          62,
          142,
          82,
          74,
          68,
          64,
          88,
          73,
          188,
          83,
          49,
          55,
          77,
          79,
          15,
          84,
          63,
          65,
          56,
          61,
          124,
          78,
          193,
          124,
          42,
          93,
          87,
          193,
          193,
          84,
          67,
          96,
          75,
          193,
          124,
          67,
          89,
          68,
          124,
          78,
          83,
          90,
          43,
          193,
          66,
          86,
          94,
          52,
          60,
          124,
          62,
          99,
          76,
          55,
          193,
          59,
          57,
          59,
          79,
          null,
          88,
          76,
          74,
          63,
          43,
          51,
          null,
          193,
          60,
          65,
          39,
          40,
          81,
          79,
          166,
          70,
          128,
          124,
          61,
          94,
          70,
          67,
          64,
          69,
          84,
          76,
          193,
          72,
          100,
          66,
          124,
          188,
          22,
          193,
          124,
          82,
          70,
          54,
          78,
          40,
          142,
          193,
          151,
          64,
          67,
          147,
          69,
          null,
          182,
          69,
          73,
          67,
          null,
          72,
          64,
          62,
          67,
          142,
          88,
          51,
          65,
          53,
          71,
          91,
          62,
          28,
          193,
          84,
          53,
          64,
          124,
          null,
          67,
          42,
          33,
          69,
          null,
          193,
          193,
          57,
          null,
          68,
          82,
          47,
          52,
          99,
          70,
          67,
          193,
          81,
          68,
          49,
          124,
          124,
          193,
          80,
          76,
          67,
          68,
          81,
          80,
          124,
          63,
          67,
          42,
          75,
          77,
          84,
          68,
          40,
          60,
          92,
          77,
          73,
          50,
          124,
          84,
          77,
          74,
          70,
          50,
          82,
          193,
          65,
          53,
          131,
          67,
          91,
          72,
          124,
          null,
          100,
          193,
          77,
          193,
          66,
          48,
          54,
          93,
          62,
          71,
          196,
          64,
          84,
          80,
          72,
          54,
          80,
          193,
          193,
          64,
          59,
          74,
          10,
          193,
          142,
          62,
          81,
          81,
          193,
          64,
          100,
          49,
          44,
          81,
          54,
          68,
          193,
          88,
          92,
          62,
          90,
          59,
          92,
          74,
          56,
          54,
          90,
          193,
          46,
          49,
          53,
          32,
          78,
          78,
          67,
          82,
          193,
          74,
          75,
          99,
          70,
          79,
          67,
          131,
          70,
          75,
          80,
          43,
          193,
          30,
          71,
          49,
          36,
          193,
          81,
          62,
          193,
          76
         ],
         "xaxis": "x",
         "yaxis": "y"
        },
        {
         "alignmentgroup": "True",
         "hovertemplate": "writing score=%{x}<extra></extra>",
         "legendgroup": "",
         "marker": {
          "color": "#636efa"
         },
         "name": "",
         "offsetgroup": "",
         "scalegroup": "x",
         "showlegend": false,
         "type": "violin",
         "x": [
          46,
          142,
          193,
          81,
          166,
          63,
          76,
          87,
          69,
          64,
          193,
          193,
          193,
          41,
          131,
          61,
          71,
          82,
          147,
          70,
          58,
          72,
          193,
          124,
          62,
          68,
          46,
          74,
          193,
          60,
          68,
          77,
          null,
          124,
          142,
          100,
          74,
          55,
          80,
          70,
          75,
          67,
          78,
          88,
          124,
          85,
          74,
          65,
          124,
          54,
          62,
          62,
          54,
          63,
          60,
          27,
          76,
          142,
          72,
          193,
          193,
          57,
          124,
          53,
          78,
          142,
          27,
          70,
          188,
          61,
          67,
          65,
          193,
          79,
          71,
          196,
          61,
          64,
          85,
          65,
          196,
          87,
          193,
          95,
          85,
          122,
          196,
          60,
          47,
          50,
          182,
          56,
          52,
          124,
          142,
          88,
          82,
          61,
          65,
          92,
          86,
          73,
          196,
          124,
          193,
          78,
          91,
          124,
          81,
          93,
          58,
          70,
          53,
          142,
          null,
          78,
          88,
          193,
          42,
          74,
          67,
          77,
          null,
          193,
          78,
          142,
          null,
          60,
          83,
          61,
          196,
          74,
          66,
          64,
          193,
          142,
          70,
          193,
          51,
          142,
          70,
          193,
          196,
          124,
          59,
          83,
          54,
          null,
          85,
          100,
          72,
          151,
          124,
          43,
          193,
          63,
          82,
          71,
          65,
          78,
          74,
          43,
          188,
          74,
          60,
          85,
          61,
          76,
          77,
          45,
          58,
          95,
          71,
          57,
          78,
          59,
          58,
          74,
          193,
          46,
          62,
          78,
          74,
          81,
          193,
          72,
          82,
          73,
          128,
          124,
          50,
          124,
          59,
          44,
          57,
          54,
          32,
          142,
          73,
          74,
          57,
          193,
          52,
          69,
          53,
          54,
          48,
          124,
          90,
          75,
          83,
          94,
          92,
          91,
          62,
          64,
          124,
          193,
          45,
          193,
          58,
          52,
          63,
          60,
          74,
          59,
          86,
          55,
          131,
          142,
          54,
          193,
          193,
          196,
          193,
          63,
          73,
          46,
          156,
          90,
          79,
          58,
          66,
          72,
          41,
          122,
          142,
          193,
          42,
          70,
          72,
          131,
          77,
          76,
          67,
          85,
          null,
          66,
          142,
          54,
          72,
          193,
          196,
          166,
          68,
          85,
          76,
          62,
          60,
          58,
          56,
          64,
          null,
          75,
          72,
          193,
          196,
          196,
          83,
          100,
          56,
          66,
          71,
          67,
          76,
          142,
          193,
          null,
          124,
          96,
          188,
          68,
          80,
          87,
          52,
          142,
          82,
          47,
          65,
          124,
          84,
          142,
          79,
          52,
          41,
          73,
          83,
          65,
          82,
          76,
          79,
          36,
          33,
          null,
          45,
          193,
          58,
          80,
          79,
          73,
          142,
          62,
          73,
          70,
          61,
          196,
          196,
          75,
          68,
          49,
          64,
          124,
          73,
          68,
          91,
          68,
          142,
          68,
          56,
          193,
          86,
          69,
          57,
          142,
          66,
          70,
          74,
          128,
          56,
          45,
          57,
          45,
          58,
          193,
          156,
          193,
          51,
          47,
          38,
          78,
          193,
          69,
          37,
          124,
          51,
          90,
          90,
          51,
          58,
          142,
          66,
          94,
          19,
          69,
          56,
          193,
          null,
          193,
          174,
          46,
          196,
          82,
          124,
          57,
          100,
          81,
          193,
          131,
          54,
          91,
          193,
          80,
          142,
          84,
          70,
          156,
          52,
          68,
          73,
          78,
          142,
          79,
          70,
          193,
          84,
          74,
          193,
          69,
          75,
          193,
          70,
          68,
          44,
          69,
          68,
          193,
          68,
          89,
          72,
          65,
          196,
          66,
          69,
          73,
          72,
          82,
          69,
          69,
          77,
          142,
          73,
          124,
          72,
          77,
          86,
          142,
          75,
          null,
          80,
          142,
          156,
          124,
          54,
          193,
          193,
          68,
          93,
          193,
          73,
          92,
          74,
          142,
          98,
          70,
          73,
          75,
          77,
          81,
          124,
          52,
          193,
          51,
          51,
          96,
          null,
          62,
          74,
          196,
          75,
          61,
          67,
          77,
          44,
          67,
          62,
          100,
          142,
          89,
          80,
          78,
          64,
          77,
          124,
          196,
          142,
          61,
          72,
          67,
          86,
          61,
          80,
          67,
          53,
          55,
          null,
          87,
          71,
          null,
          59,
          50,
          142,
          124,
          null,
          81,
          69,
          147,
          74,
          54,
          55,
          60,
          193,
          196,
          null,
          96,
          93,
          71,
          91,
          42,
          83,
          66,
          193,
          81,
          124,
          147,
          41,
          56,
          77,
          58,
          66,
          124,
          52,
          47,
          41,
          68,
          63,
          62,
          71,
          39,
          80,
          61,
          70,
          72,
          89,
          81,
          48,
          193,
          38,
          60,
          55,
          54,
          null,
          86,
          124,
          196,
          70,
          73,
          72,
          47,
          38,
          131,
          49,
          88,
          22,
          80,
          66,
          80,
          83,
          50,
          131,
          87,
          null,
          null,
          85,
          87,
          85,
          87,
          70,
          67,
          70,
          61,
          51,
          142,
          61,
          193,
          null,
          193,
          48,
          57,
          193,
          147,
          87,
          89,
          null,
          65,
          52,
          80,
          88,
          52,
          56,
          80,
          193,
          68,
          156,
          47,
          51,
          193,
          80,
          73,
          68,
          89,
          193,
          86,
          142,
          142,
          70,
          57,
          193,
          77,
          69,
          80,
          73,
          63,
          124,
          124,
          78,
          76,
          196,
          193,
          73,
          52,
          66,
          74,
          142,
          60,
          82,
          193,
          65,
          46,
          69,
          76,
          46,
          72,
          38,
          51,
          null,
          33,
          142,
          84,
          193,
          85,
          193,
          60,
          80,
          null,
          42,
          65,
          58,
          64,
          null,
          58,
          131,
          142,
          83,
          91,
          193,
          97,
          80,
          66,
          193,
          64,
          null,
          193,
          193,
          66,
          156,
          124,
          193,
          100,
          193,
          23,
          62,
          64,
          65,
          82,
          91,
          null,
          75,
          69,
          64,
          43,
          69,
          47,
          74,
          57,
          124,
          193,
          48,
          147,
          193,
          56,
          94,
          91,
          57,
          76,
          50,
          63,
          79,
          44,
          95,
          193,
          193,
          193,
          193,
          71,
          131,
          57,
          41,
          193,
          62,
          68,
          43,
          54,
          65,
          76,
          47,
          64,
          75,
          78,
          196,
          73,
          193,
          57,
          95,
          131,
          66,
          38,
          124,
          76,
          79,
          182,
          82,
          85,
          65,
          86,
          73,
          65,
          76,
          124,
          70,
          49,
          51,
          48,
          null,
          80,
          73,
          65,
          82,
          59,
          73,
          193,
          84,
          142,
          null,
          77,
          75,
          68,
          88,
          86,
          51,
          62,
          79,
          54,
          193,
          37,
          42,
          62,
          76,
          89,
          97,
          124,
          68,
          92,
          55,
          68,
          60,
          171,
          71,
          88,
          75,
          53,
          73,
          91,
          43,
          81,
          74,
          36,
          70,
          75,
          93,
          50,
          52,
          42,
          124,
          156,
          64,
          53,
          53,
          51,
          53,
          34,
          92,
          58,
          72,
          76,
          66,
          100,
          38,
          61,
          71,
          193,
          87,
          85,
          92,
          56,
          50,
          48,
          82,
          38,
          77,
          63,
          52,
          89,
          54,
          83,
          54,
          66,
          69,
          56,
          188,
          193,
          83,
          100,
          87,
          156,
          196,
          188,
          79,
          124,
          75,
          171,
          78,
          193,
          82,
          84,
          68,
          196,
          78,
          142,
          193,
          166,
          156,
          142,
          156,
          52,
          62,
          142,
          82,
          74,
          70,
          44,
          66,
          78,
          193,
          93,
          44,
          61,
          55,
          71,
          72,
          null,
          48,
          174,
          193,
          193,
          98,
          142,
          43,
          193,
          66,
          54,
          null,
          59,
          71,
          124,
          196,
          84,
          72,
          40,
          58,
          193,
          27,
          70,
          94,
          72,
          74,
          52,
          null,
          100,
          42,
          54,
          68,
          75,
          81,
          193,
          59,
          53,
          90,
          73,
          100,
          51,
          82,
          100,
          61,
          124,
          72,
          76,
          46,
          null,
          193,
          95,
          62,
          193,
          93,
          196,
          68,
          79,
          53,
          null,
          51,
          49,
          84,
          63,
          196,
          78,
          74,
          77,
          56,
          60,
          90,
          82,
          85,
          64,
          174,
          70,
          45,
          69,
          76,
          193,
          51,
          60,
          36,
          45,
          70,
          43,
          69,
          97,
          193,
          74,
          43,
          72,
          62,
          64,
          82,
          64,
          43,
          60,
          193,
          65,
          70,
          193,
          35,
          193,
          77,
          80,
          49,
          124,
          74,
          124,
          53,
          null,
          53,
          77,
          95,
          49,
          75,
          95,
          36,
          34,
          78,
          82,
          52,
          74,
          89,
          60,
          58,
          54,
          57,
          67,
          74,
          90,
          193,
          124,
          34,
          67,
          196,
          61,
          80,
          62,
          41,
          44,
          57,
          50,
          193,
          142,
          73,
          84,
          70,
          null,
          57,
          196,
          71,
          73,
          null,
          81,
          193,
          124,
          196,
          61,
          79,
          42,
          142,
          95,
          62,
          193,
          83,
          193,
          188,
          63,
          71,
          85,
          79,
          74,
          53,
          76,
          54,
          60,
          null,
          196,
          58,
          142,
          142,
          196,
          78,
          124,
          128,
          34,
          142,
          77,
          27,
          46,
          142,
          86,
          69,
          193,
          61,
          99,
          49,
          76,
          65,
          128,
          66,
          76,
          52,
          78,
          156,
          86,
          81,
          193,
          66,
          193,
          77,
          55,
          193,
          63,
          80,
          null,
          47,
          79,
          38,
          80,
          193,
          57,
          41,
          64,
          75,
          68,
          54,
          142,
          77,
          80,
          59,
          75,
          58,
          38,
          196,
          131,
          74,
          52,
          66,
          null,
          74,
          55,
          79,
          193,
          55,
          55,
          64,
          81,
          64,
          193,
          55,
          62,
          142,
          82,
          74,
          68,
          64,
          88,
          73,
          188,
          83,
          49,
          55,
          77,
          79,
          15,
          84,
          63,
          65,
          56,
          61,
          124,
          78,
          193,
          124,
          42,
          93,
          87,
          193,
          193,
          84,
          67,
          96,
          75,
          193,
          124,
          67,
          89,
          68,
          124,
          78,
          83,
          90,
          43,
          193,
          66,
          86,
          94,
          52,
          60,
          124,
          62,
          99,
          76,
          55,
          193,
          59,
          57,
          59,
          79,
          null,
          88,
          76,
          74,
          63,
          43,
          51,
          null,
          193,
          60,
          65,
          39,
          40,
          81,
          79,
          166,
          70,
          128,
          124,
          61,
          94,
          70,
          67,
          64,
          69,
          84,
          76,
          193,
          72,
          100,
          66,
          124,
          188,
          22,
          193,
          124,
          82,
          70,
          54,
          78,
          40,
          142,
          193,
          151,
          64,
          67,
          147,
          69,
          null,
          182,
          69,
          73,
          67,
          null,
          72,
          64,
          62,
          67,
          142,
          88,
          51,
          65,
          53,
          71,
          91,
          62,
          28,
          193,
          84,
          53,
          64,
          124,
          null,
          67,
          42,
          33,
          69,
          null,
          193,
          193,
          57,
          null,
          68,
          82,
          47,
          52,
          99,
          70,
          67,
          193,
          81,
          68,
          49,
          124,
          124,
          193,
          80,
          76,
          67,
          68,
          81,
          80,
          124,
          63,
          67,
          42,
          75,
          77,
          84,
          68,
          40,
          60,
          92,
          77,
          73,
          50,
          124,
          84,
          77,
          74,
          70,
          50,
          82,
          193,
          65,
          53,
          131,
          67,
          91,
          72,
          124,
          null,
          100,
          193,
          77,
          193,
          66,
          48,
          54,
          93,
          62,
          71,
          196,
          64,
          84,
          80,
          72,
          54,
          80,
          193,
          193,
          64,
          59,
          74,
          10,
          193,
          142,
          62,
          81,
          81,
          193,
          64,
          100,
          49,
          44,
          81,
          54,
          68,
          193,
          88,
          92,
          62,
          90,
          59,
          92,
          74,
          56,
          54,
          90,
          193,
          46,
          49,
          53,
          32,
          78,
          78,
          67,
          82,
          193,
          74,
          75,
          99,
          70,
          79,
          67,
          131,
          70,
          75,
          80,
          43,
          193,
          30,
          71,
          49,
          36,
          193,
          81,
          62,
          193,
          76
         ],
         "xaxis": "x2",
         "yaxis": "y2"
        }
       ],
       "layout": {
        "barmode": "relative",
        "legend": {
         "tracegroupgap": 0
        },
        "template": {
         "data": {
          "bar": [
           {
            "error_x": {
             "color": "#2a3f5f"
            },
            "error_y": {
             "color": "#2a3f5f"
            },
            "marker": {
             "line": {
              "color": "#E5ECF6",
              "width": 0.5
             }
            },
            "type": "bar"
           }
          ],
          "barpolar": [
           {
            "marker": {
             "line": {
              "color": "#E5ECF6",
              "width": 0.5
             }
            },
            "type": "barpolar"
           }
          ],
          "carpet": [
           {
            "aaxis": {
             "endlinecolor": "#2a3f5f",
             "gridcolor": "white",
             "linecolor": "white",
             "minorgridcolor": "white",
             "startlinecolor": "#2a3f5f"
            },
            "baxis": {
             "endlinecolor": "#2a3f5f",
             "gridcolor": "white",
             "linecolor": "white",
             "minorgridcolor": "white",
             "startlinecolor": "#2a3f5f"
            },
            "type": "carpet"
           }
          ],
          "choropleth": [
           {
            "colorbar": {
             "outlinewidth": 0,
             "ticks": ""
            },
            "type": "choropleth"
           }
          ],
          "contour": [
           {
            "colorbar": {
             "outlinewidth": 0,
             "ticks": ""
            },
            "colorscale": [
             [
              0,
              "#0d0887"
             ],
             [
              0.1111111111111111,
              "#46039f"
             ],
             [
              0.2222222222222222,
              "#7201a8"
             ],
             [
              0.3333333333333333,
              "#9c179e"
             ],
             [
              0.4444444444444444,
              "#bd3786"
             ],
             [
              0.5555555555555556,
              "#d8576b"
             ],
             [
              0.6666666666666666,
              "#ed7953"
             ],
             [
              0.7777777777777778,
              "#fb9f3a"
             ],
             [
              0.8888888888888888,
              "#fdca26"
             ],
             [
              1,
              "#f0f921"
             ]
            ],
            "type": "contour"
           }
          ],
          "contourcarpet": [
           {
            "colorbar": {
             "outlinewidth": 0,
             "ticks": ""
            },
            "type": "contourcarpet"
           }
          ],
          "heatmap": [
           {
            "colorbar": {
             "outlinewidth": 0,
             "ticks": ""
            },
            "colorscale": [
             [
              0,
              "#0d0887"
             ],
             [
              0.1111111111111111,
              "#46039f"
             ],
             [
              0.2222222222222222,
              "#7201a8"
             ],
             [
              0.3333333333333333,
              "#9c179e"
             ],
             [
              0.4444444444444444,
              "#bd3786"
             ],
             [
              0.5555555555555556,
              "#d8576b"
             ],
             [
              0.6666666666666666,
              "#ed7953"
             ],
             [
              0.7777777777777778,
              "#fb9f3a"
             ],
             [
              0.8888888888888888,
              "#fdca26"
             ],
             [
              1,
              "#f0f921"
             ]
            ],
            "type": "heatmap"
           }
          ],
          "heatmapgl": [
           {
            "colorbar": {
             "outlinewidth": 0,
             "ticks": ""
            },
            "colorscale": [
             [
              0,
              "#0d0887"
             ],
             [
              0.1111111111111111,
              "#46039f"
             ],
             [
              0.2222222222222222,
              "#7201a8"
             ],
             [
              0.3333333333333333,
              "#9c179e"
             ],
             [
              0.4444444444444444,
              "#bd3786"
             ],
             [
              0.5555555555555556,
              "#d8576b"
             ],
             [
              0.6666666666666666,
              "#ed7953"
             ],
             [
              0.7777777777777778,
              "#fb9f3a"
             ],
             [
              0.8888888888888888,
              "#fdca26"
             ],
             [
              1,
              "#f0f921"
             ]
            ],
            "type": "heatmapgl"
           }
          ],
          "histogram": [
           {
            "marker": {
             "colorbar": {
              "outlinewidth": 0,
              "ticks": ""
             }
            },
            "type": "histogram"
           }
          ],
          "histogram2d": [
           {
            "colorbar": {
             "outlinewidth": 0,
             "ticks": ""
            },
            "colorscale": [
             [
              0,
              "#0d0887"
             ],
             [
              0.1111111111111111,
              "#46039f"
             ],
             [
              0.2222222222222222,
              "#7201a8"
             ],
             [
              0.3333333333333333,
              "#9c179e"
             ],
             [
              0.4444444444444444,
              "#bd3786"
             ],
             [
              0.5555555555555556,
              "#d8576b"
             ],
             [
              0.6666666666666666,
              "#ed7953"
             ],
             [
              0.7777777777777778,
              "#fb9f3a"
             ],
             [
              0.8888888888888888,
              "#fdca26"
             ],
             [
              1,
              "#f0f921"
             ]
            ],
            "type": "histogram2d"
           }
          ],
          "histogram2dcontour": [
           {
            "colorbar": {
             "outlinewidth": 0,
             "ticks": ""
            },
            "colorscale": [
             [
              0,
              "#0d0887"
             ],
             [
              0.1111111111111111,
              "#46039f"
             ],
             [
              0.2222222222222222,
              "#7201a8"
             ],
             [
              0.3333333333333333,
              "#9c179e"
             ],
             [
              0.4444444444444444,
              "#bd3786"
             ],
             [
              0.5555555555555556,
              "#d8576b"
             ],
             [
              0.6666666666666666,
              "#ed7953"
             ],
             [
              0.7777777777777778,
              "#fb9f3a"
             ],
             [
              0.8888888888888888,
              "#fdca26"
             ],
             [
              1,
              "#f0f921"
             ]
            ],
            "type": "histogram2dcontour"
           }
          ],
          "mesh3d": [
           {
            "colorbar": {
             "outlinewidth": 0,
             "ticks": ""
            },
            "type": "mesh3d"
           }
          ],
          "parcoords": [
           {
            "line": {
             "colorbar": {
              "outlinewidth": 0,
              "ticks": ""
             }
            },
            "type": "parcoords"
           }
          ],
          "pie": [
           {
            "automargin": true,
            "type": "pie"
           }
          ],
          "scatter": [
           {
            "marker": {
             "colorbar": {
              "outlinewidth": 0,
              "ticks": ""
             }
            },
            "type": "scatter"
           }
          ],
          "scatter3d": [
           {
            "line": {
             "colorbar": {
              "outlinewidth": 0,
              "ticks": ""
             }
            },
            "marker": {
             "colorbar": {
              "outlinewidth": 0,
              "ticks": ""
             }
            },
            "type": "scatter3d"
           }
          ],
          "scattercarpet": [
           {
            "marker": {
             "colorbar": {
              "outlinewidth": 0,
              "ticks": ""
             }
            },
            "type": "scattercarpet"
           }
          ],
          "scattergeo": [
           {
            "marker": {
             "colorbar": {
              "outlinewidth": 0,
              "ticks": ""
             }
            },
            "type": "scattergeo"
           }
          ],
          "scattergl": [
           {
            "marker": {
             "colorbar": {
              "outlinewidth": 0,
              "ticks": ""
             }
            },
            "type": "scattergl"
           }
          ],
          "scattermapbox": [
           {
            "marker": {
             "colorbar": {
              "outlinewidth": 0,
              "ticks": ""
             }
            },
            "type": "scattermapbox"
           }
          ],
          "scatterpolar": [
           {
            "marker": {
             "colorbar": {
              "outlinewidth": 0,
              "ticks": ""
             }
            },
            "type": "scatterpolar"
           }
          ],
          "scatterpolargl": [
           {
            "marker": {
             "colorbar": {
              "outlinewidth": 0,
              "ticks": ""
             }
            },
            "type": "scatterpolargl"
           }
          ],
          "scatterternary": [
           {
            "marker": {
             "colorbar": {
              "outlinewidth": 0,
              "ticks": ""
             }
            },
            "type": "scatterternary"
           }
          ],
          "surface": [
           {
            "colorbar": {
             "outlinewidth": 0,
             "ticks": ""
            },
            "colorscale": [
             [
              0,
              "#0d0887"
             ],
             [
              0.1111111111111111,
              "#46039f"
             ],
             [
              0.2222222222222222,
              "#7201a8"
             ],
             [
              0.3333333333333333,
              "#9c179e"
             ],
             [
              0.4444444444444444,
              "#bd3786"
             ],
             [
              0.5555555555555556,
              "#d8576b"
             ],
             [
              0.6666666666666666,
              "#ed7953"
             ],
             [
              0.7777777777777778,
              "#fb9f3a"
             ],
             [
              0.8888888888888888,
              "#fdca26"
             ],
             [
              1,
              "#f0f921"
             ]
            ],
            "type": "surface"
           }
          ],
          "table": [
           {
            "cells": {
             "fill": {
              "color": "#EBF0F8"
             },
             "line": {
              "color": "white"
             }
            },
            "header": {
             "fill": {
              "color": "#C8D4E3"
             },
             "line": {
              "color": "white"
             }
            },
            "type": "table"
           }
          ]
         },
         "layout": {
          "annotationdefaults": {
           "arrowcolor": "#2a3f5f",
           "arrowhead": 0,
           "arrowwidth": 1
          },
          "autotypenumbers": "strict",
          "coloraxis": {
           "colorbar": {
            "outlinewidth": 0,
            "ticks": ""
           }
          },
          "colorscale": {
           "diverging": [
            [
             0,
             "#8e0152"
            ],
            [
             0.1,
             "#c51b7d"
            ],
            [
             0.2,
             "#de77ae"
            ],
            [
             0.3,
             "#f1b6da"
            ],
            [
             0.4,
             "#fde0ef"
            ],
            [
             0.5,
             "#f7f7f7"
            ],
            [
             0.6,
             "#e6f5d0"
            ],
            [
             0.7,
             "#b8e186"
            ],
            [
             0.8,
             "#7fbc41"
            ],
            [
             0.9,
             "#4d9221"
            ],
            [
             1,
             "#276419"
            ]
           ],
           "sequential": [
            [
             0,
             "#0d0887"
            ],
            [
             0.1111111111111111,
             "#46039f"
            ],
            [
             0.2222222222222222,
             "#7201a8"
            ],
            [
             0.3333333333333333,
             "#9c179e"
            ],
            [
             0.4444444444444444,
             "#bd3786"
            ],
            [
             0.5555555555555556,
             "#d8576b"
            ],
            [
             0.6666666666666666,
             "#ed7953"
            ],
            [
             0.7777777777777778,
             "#fb9f3a"
            ],
            [
             0.8888888888888888,
             "#fdca26"
            ],
            [
             1,
             "#f0f921"
            ]
           ],
           "sequentialminus": [
            [
             0,
             "#0d0887"
            ],
            [
             0.1111111111111111,
             "#46039f"
            ],
            [
             0.2222222222222222,
             "#7201a8"
            ],
            [
             0.3333333333333333,
             "#9c179e"
            ],
            [
             0.4444444444444444,
             "#bd3786"
            ],
            [
             0.5555555555555556,
             "#d8576b"
            ],
            [
             0.6666666666666666,
             "#ed7953"
            ],
            [
             0.7777777777777778,
             "#fb9f3a"
            ],
            [
             0.8888888888888888,
             "#fdca26"
            ],
            [
             1,
             "#f0f921"
            ]
           ]
          },
          "colorway": [
           "#636efa",
           "#EF553B",
           "#00cc96",
           "#ab63fa",
           "#FFA15A",
           "#19d3f3",
           "#FF6692",
           "#B6E880",
           "#FF97FF",
           "#FECB52"
          ],
          "font": {
           "color": "#2a3f5f"
          },
          "geo": {
           "bgcolor": "white",
           "lakecolor": "white",
           "landcolor": "#E5ECF6",
           "showlakes": true,
           "showland": true,
           "subunitcolor": "white"
          },
          "hoverlabel": {
           "align": "left"
          },
          "hovermode": "closest",
          "mapbox": {
           "style": "light"
          },
          "paper_bgcolor": "white",
          "plot_bgcolor": "#E5ECF6",
          "polar": {
           "angularaxis": {
            "gridcolor": "white",
            "linecolor": "white",
            "ticks": ""
           },
           "bgcolor": "#E5ECF6",
           "radialaxis": {
            "gridcolor": "white",
            "linecolor": "white",
            "ticks": ""
           }
          },
          "scene": {
           "xaxis": {
            "backgroundcolor": "#E5ECF6",
            "gridcolor": "white",
            "gridwidth": 2,
            "linecolor": "white",
            "showbackground": true,
            "ticks": "",
            "zerolinecolor": "white"
           },
           "yaxis": {
            "backgroundcolor": "#E5ECF6",
            "gridcolor": "white",
            "gridwidth": 2,
            "linecolor": "white",
            "showbackground": true,
            "ticks": "",
            "zerolinecolor": "white"
           },
           "zaxis": {
            "backgroundcolor": "#E5ECF6",
            "gridcolor": "white",
            "gridwidth": 2,
            "linecolor": "white",
            "showbackground": true,
            "ticks": "",
            "zerolinecolor": "white"
           }
          },
          "shapedefaults": {
           "line": {
            "color": "#2a3f5f"
           }
          },
          "ternary": {
           "aaxis": {
            "gridcolor": "white",
            "linecolor": "white",
            "ticks": ""
           },
           "baxis": {
            "gridcolor": "white",
            "linecolor": "white",
            "ticks": ""
           },
           "bgcolor": "#E5ECF6",
           "caxis": {
            "gridcolor": "white",
            "linecolor": "white",
            "ticks": ""
           }
          },
          "title": {
           "x": 0.05
          },
          "xaxis": {
           "automargin": true,
           "gridcolor": "white",
           "linecolor": "white",
           "ticks": "",
           "title": {
            "standoff": 15
           },
           "zerolinecolor": "white",
           "zerolinewidth": 2
          },
          "yaxis": {
           "automargin": true,
           "gridcolor": "white",
           "linecolor": "white",
           "ticks": "",
           "title": {
            "standoff": 15
           },
           "zerolinecolor": "white",
           "zerolinewidth": 2
          }
         }
        },
        "title": {
         "text": "Análisis de la variable writing score"
        },
        "xaxis": {
         "anchor": "y",
         "domain": [
          0,
          1
         ],
         "title": {
          "text": "writing score"
         }
        },
        "xaxis2": {
         "anchor": "y2",
         "domain": [
          0,
          1
         ],
         "matches": "x",
         "showgrid": true,
         "showticklabels": false
        },
        "yaxis": {
         "anchor": "x",
         "domain": [
          0,
          0.8316
         ],
         "title": {
          "text": "count"
         }
        },
        "yaxis2": {
         "anchor": "x2",
         "domain": [
          0.8416,
          1
         ],
         "matches": "y2",
         "showgrid": false,
         "showline": false,
         "showticklabels": false,
         "ticks": ""
        }
       }
      },
      "text/html": [
       "<div>                            <div id=\"97ef281c-f458-4d60-8e52-c2cb17970877\" class=\"plotly-graph-div\" style=\"height:525px; width:100%;\"></div>            <script type=\"text/javascript\">                require([\"plotly\"], function(Plotly) {                    window.PLOTLYENV=window.PLOTLYENV || {};                                    if (document.getElementById(\"97ef281c-f458-4d60-8e52-c2cb17970877\")) {                    Plotly.newPlot(                        \"97ef281c-f458-4d60-8e52-c2cb17970877\",                        [{\"alignmentgroup\": \"True\", \"bingroup\": \"x\", \"hovertemplate\": \"writing score=%{x}<br>count=%{y}<extra></extra>\", \"legendgroup\": \"\", \"marker\": {\"color\": \"#636efa\"}, \"name\": \"\", \"offsetgroup\": \"\", \"orientation\": \"v\", \"showlegend\": false, \"type\": \"histogram\", \"x\": [46.0, 142.0, 193.0, 81.0, 166.0, 63.0, 76.0, 87.0, 69.0, 64.0, 193.0, 193.0, 193.0, 41.0, 131.0, 61.0, 71.0, 82.0, 147.0, 70.0, 58.0, 72.0, 193.0, 124.0, 62.0, 68.0, 46.0, 74.0, 193.0, 60.0, 68.0, 77.0, null, 124.0, 142.0, 100.0, 74.0, 55.0, 80.0, 70.0, 75.0, 67.0, 78.0, 88.0, 124.0, 85.0, 74.0, 65.0, 124.0, 54.0, 62.0, 62.0, 54.0, 63.0, 60.0, 27.0, 76.0, 142.0, 72.0, 193.0, 193.0, 57.0, 124.0, 53.0, 78.0, 142.0, 27.0, 70.0, 188.0, 61.0, 67.0, 65.0, 193.0, 79.0, 71.0, 196.0, 61.0, 64.0, 85.0, 65.0, 196.0, 87.0, 193.0, 95.0, 85.0, 122.0, 196.0, 60.0, 47.0, 50.0, 182.0, 56.0, 52.0, 124.0, 142.0, 88.0, 82.0, 61.0, 65.0, 92.0, 86.0, 73.0, 196.0, 124.0, 193.0, 78.0, 91.0, 124.0, 81.0, 93.0, 58.0, 70.0, 53.0, 142.0, null, 78.0, 88.0, 193.0, 42.0, 74.0, 67.0, 77.0, null, 193.0, 78.0, 142.0, null, 60.0, 83.0, 61.0, 196.0, 74.0, 66.0, 64.0, 193.0, 142.0, 70.0, 193.0, 51.0, 142.0, 70.0, 193.0, 196.0, 124.0, 59.0, 83.0, 54.0, null, 85.0, 100.0, 72.0, 151.0, 124.0, 43.0, 193.0, 63.0, 82.0, 71.0, 65.0, 78.0, 74.0, 43.0, 188.0, 74.0, 60.0, 85.0, 61.0, 76.0, 77.0, 45.0, 58.0, 95.0, 71.0, 57.0, 78.0, 59.0, 58.0, 74.0, 193.0, 46.0, 62.0, 78.0, 74.0, 81.0, 193.0, 72.0, 82.0, 73.0, 128.0, 124.0, 50.0, 124.0, 59.0, 44.0, 57.0, 54.0, 32.0, 142.0, 73.0, 74.0, 57.0, 193.0, 52.0, 69.0, 53.0, 54.0, 48.0, 124.0, 90.0, 75.0, 83.0, 94.0, 92.0, 91.0, 62.0, 64.0, 124.0, 193.0, 45.0, 193.0, 58.0, 52.0, 63.0, 60.0, 74.0, 59.0, 86.0, 55.0, 131.0, 142.0, 54.0, 193.0, 193.0, 196.0, 193.0, 63.0, 73.0, 46.0, 156.0, 90.0, 79.0, 58.0, 66.0, 72.0, 41.0, 122.0, 142.0, 193.0, 42.0, 70.0, 72.0, 131.0, 77.0, 76.0, 67.0, 85.0, null, 66.0, 142.0, 54.0, 72.0, 193.0, 196.0, 166.0, 68.0, 85.0, 76.0, 62.0, 60.0, 58.0, 56.0, 64.0, null, 75.0, 72.0, 193.0, 196.0, 196.0, 83.0, 100.0, 56.0, 66.0, 71.0, 67.0, 76.0, 142.0, 193.0, null, 124.0, 96.0, 188.0, 68.0, 80.0, 87.0, 52.0, 142.0, 82.0, 47.0, 65.0, 124.0, 84.0, 142.0, 79.0, 52.0, 41.0, 73.0, 83.0, 65.0, 82.0, 76.0, 79.0, 36.0, 33.0, null, 45.0, 193.0, 58.0, 80.0, 79.0, 73.0, 142.0, 62.0, 73.0, 70.0, 61.0, 196.0, 196.0, 75.0, 68.0, 49.0, 64.0, 124.0, 73.0, 68.0, 91.0, 68.0, 142.0, 68.0, 56.0, 193.0, 86.0, 69.0, 57.0, 142.0, 66.0, 70.0, 74.0, 128.0, 56.0, 45.0, 57.0, 45.0, 58.0, 193.0, 156.0, 193.0, 51.0, 47.0, 38.0, 78.0, 193.0, 69.0, 37.0, 124.0, 51.0, 90.0, 90.0, 51.0, 58.0, 142.0, 66.0, 94.0, 19.0, 69.0, 56.0, 193.0, null, 193.0, 174.0, 46.0, 196.0, 82.0, 124.0, 57.0, 100.0, 81.0, 193.0, 131.0, 54.0, 91.0, 193.0, 80.0, 142.0, 84.0, 70.0, 156.0, 52.0, 68.0, 73.0, 78.0, 142.0, 79.0, 70.0, 193.0, 84.0, 74.0, 193.0, 69.0, 75.0, 193.0, 70.0, 68.0, 44.0, 69.0, 68.0, 193.0, 68.0, 89.0, 72.0, 65.0, 196.0, 66.0, 69.0, 73.0, 72.0, 82.0, 69.0, 69.0, 77.0, 142.0, 73.0, 124.0, 72.0, 77.0, 86.0, 142.0, 75.0, null, 80.0, 142.0, 156.0, 124.0, 54.0, 193.0, 193.0, 68.0, 93.0, 193.0, 73.0, 92.0, 74.0, 142.0, 98.0, 70.0, 73.0, 75.0, 77.0, 81.0, 124.0, 52.0, 193.0, 51.0, 51.0, 96.0, null, 62.0, 74.0, 196.0, 75.0, 61.0, 67.0, 77.0, 44.0, 67.0, 62.0, 100.0, 142.0, 89.0, 80.0, 78.0, 64.0, 77.0, 124.0, 196.0, 142.0, 61.0, 72.0, 67.0, 86.0, 61.0, 80.0, 67.0, 53.0, 55.0, null, 87.0, 71.0, null, 59.0, 50.0, 142.0, 124.0, null, 81.0, 69.0, 147.0, 74.0, 54.0, 55.0, 60.0, 193.0, 196.0, null, 96.0, 93.0, 71.0, 91.0, 42.0, 83.0, 66.0, 193.0, 81.0, 124.0, 147.0, 41.0, 56.0, 77.0, 58.0, 66.0, 124.0, 52.0, 47.0, 41.0, 68.0, 63.0, 62.0, 71.0, 39.0, 80.0, 61.0, 70.0, 72.0, 89.0, 81.0, 48.0, 193.0, 38.0, 60.0, 55.0, 54.0, null, 86.0, 124.0, 196.0, 70.0, 73.0, 72.0, 47.0, 38.0, 131.0, 49.0, 88.0, 22.0, 80.0, 66.0, 80.0, 83.0, 50.0, 131.0, 87.0, null, null, 85.0, 87.0, 85.0, 87.0, 70.0, 67.0, 70.0, 61.0, 51.0, 142.0, 61.0, 193.0, null, 193.0, 48.0, 57.0, 193.0, 147.0, 87.0, 89.0, null, 65.0, 52.0, 80.0, 88.0, 52.0, 56.0, 80.0, 193.0, 68.0, 156.0, 47.0, 51.0, 193.0, 80.0, 73.0, 68.0, 89.0, 193.0, 86.0, 142.0, 142.0, 70.0, 57.0, 193.0, 77.0, 69.0, 80.0, 73.0, 63.0, 124.0, 124.0, 78.0, 76.0, 196.0, 193.0, 73.0, 52.0, 66.0, 74.0, 142.0, 60.0, 82.0, 193.0, 65.0, 46.0, 69.0, 76.0, 46.0, 72.0, 38.0, 51.0, null, 33.0, 142.0, 84.0, 193.0, 85.0, 193.0, 60.0, 80.0, null, 42.0, 65.0, 58.0, 64.0, null, 58.0, 131.0, 142.0, 83.0, 91.0, 193.0, 97.0, 80.0, 66.0, 193.0, 64.0, null, 193.0, 193.0, 66.0, 156.0, 124.0, 193.0, 100.0, 193.0, 23.0, 62.0, 64.0, 65.0, 82.0, 91.0, null, 75.0, 69.0, 64.0, 43.0, 69.0, 47.0, 74.0, 57.0, 124.0, 193.0, 48.0, 147.0, 193.0, 56.0, 94.0, 91.0, 57.0, 76.0, 50.0, 63.0, 79.0, 44.0, 95.0, 193.0, 193.0, 193.0, 193.0, 71.0, 131.0, 57.0, 41.0, 193.0, 62.0, 68.0, 43.0, 54.0, 65.0, 76.0, 47.0, 64.0, 75.0, 78.0, 196.0, 73.0, 193.0, 57.0, 95.0, 131.0, 66.0, 38.0, 124.0, 76.0, 79.0, 182.0, 82.0, 85.0, 65.0, 86.0, 73.0, 65.0, 76.0, 124.0, 70.0, 49.0, 51.0, 48.0, null, 80.0, 73.0, 65.0, 82.0, 59.0, 73.0, 193.0, 84.0, 142.0, null, 77.0, 75.0, 68.0, 88.0, 86.0, 51.0, 62.0, 79.0, 54.0, 193.0, 37.0, 42.0, 62.0, 76.0, 89.0, 97.0, 124.0, 68.0, 92.0, 55.0, 68.0, 60.0, 171.0, 71.0, 88.0, 75.0, 53.0, 73.0, 91.0, 43.0, 81.0, 74.0, 36.0, 70.0, 75.0, 93.0, 50.0, 52.0, 42.0, 124.0, 156.0, 64.0, 53.0, 53.0, 51.0, 53.0, 34.0, 92.0, 58.0, 72.0, 76.0, 66.0, 100.0, 38.0, 61.0, 71.0, 193.0, 87.0, 85.0, 92.0, 56.0, 50.0, 48.0, 82.0, 38.0, 77.0, 63.0, 52.0, 89.0, 54.0, 83.0, 54.0, 66.0, 69.0, 56.0, 188.0, 193.0, 83.0, 100.0, 87.0, 156.0, 196.0, 188.0, 79.0, 124.0, 75.0, 171.0, 78.0, 193.0, 82.0, 84.0, 68.0, 196.0, 78.0, 142.0, 193.0, 166.0, 156.0, 142.0, 156.0, 52.0, 62.0, 142.0, 82.0, 74.0, 70.0, 44.0, 66.0, 78.0, 193.0, 93.0, 44.0, 61.0, 55.0, 71.0, 72.0, null, 48.0, 174.0, 193.0, 193.0, 98.0, 142.0, 43.0, 193.0, 66.0, 54.0, null, 59.0, 71.0, 124.0, 196.0, 84.0, 72.0, 40.0, 58.0, 193.0, 27.0, 70.0, 94.0, 72.0, 74.0, 52.0, null, 100.0, 42.0, 54.0, 68.0, 75.0, 81.0, 193.0, 59.0, 53.0, 90.0, 73.0, 100.0, 51.0, 82.0, 100.0, 61.0, 124.0, 72.0, 76.0, 46.0, null, 193.0, 95.0, 62.0, 193.0, 93.0, 196.0, 68.0, 79.0, 53.0, null, 51.0, 49.0, 84.0, 63.0, 196.0, 78.0, 74.0, 77.0, 56.0, 60.0, 90.0, 82.0, 85.0, 64.0, 174.0, 70.0, 45.0, 69.0, 76.0, 193.0, 51.0, 60.0, 36.0, 45.0, 70.0, 43.0, 69.0, 97.0, 193.0, 74.0, 43.0, 72.0, 62.0, 64.0, 82.0, 64.0, 43.0, 60.0, 193.0, 65.0, 70.0, 193.0, 35.0, 193.0, 77.0, 80.0, 49.0, 124.0, 74.0, 124.0, 53.0, null, 53.0, 77.0, 95.0, 49.0, 75.0, 95.0, 36.0, 34.0, 78.0, 82.0, 52.0, 74.0, 89.0, 60.0, 58.0, 54.0, 57.0, 67.0, 74.0, 90.0, 193.0, 124.0, 34.0, 67.0, 196.0, 61.0, 80.0, 62.0, 41.0, 44.0, 57.0, 50.0, 193.0, 142.0, 73.0, 84.0, 70.0, null, 57.0, 196.0, 71.0, 73.0, null, 81.0, 193.0, 124.0, 196.0, 61.0, 79.0, 42.0, 142.0, 95.0, 62.0, 193.0, 83.0, 193.0, 188.0, 63.0, 71.0, 85.0, 79.0, 74.0, 53.0, 76.0, 54.0, 60.0, null, 196.0, 58.0, 142.0, 142.0, 196.0, 78.0, 124.0, 128.0, 34.0, 142.0, 77.0, 27.0, 46.0, 142.0, 86.0, 69.0, 193.0, 61.0, 99.0, 49.0, 76.0, 65.0, 128.0, 66.0, 76.0, 52.0, 78.0, 156.0, 86.0, 81.0, 193.0, 66.0, 193.0, 77.0, 55.0, 193.0, 63.0, 80.0, null, 47.0, 79.0, 38.0, 80.0, 193.0, 57.0, 41.0, 64.0, 75.0, 68.0, 54.0, 142.0, 77.0, 80.0, 59.0, 75.0, 58.0, 38.0, 196.0, 131.0, 74.0, 52.0, 66.0, null, 74.0, 55.0, 79.0, 193.0, 55.0, 55.0, 64.0, 81.0, 64.0, 193.0, 55.0, 62.0, 142.0, 82.0, 74.0, 68.0, 64.0, 88.0, 73.0, 188.0, 83.0, 49.0, 55.0, 77.0, 79.0, 15.0, 84.0, 63.0, 65.0, 56.0, 61.0, 124.0, 78.0, 193.0, 124.0, 42.0, 93.0, 87.0, 193.0, 193.0, 84.0, 67.0, 96.0, 75.0, 193.0, 124.0, 67.0, 89.0, 68.0, 124.0, 78.0, 83.0, 90.0, 43.0, 193.0, 66.0, 86.0, 94.0, 52.0, 60.0, 124.0, 62.0, 99.0, 76.0, 55.0, 193.0, 59.0, 57.0, 59.0, 79.0, null, 88.0, 76.0, 74.0, 63.0, 43.0, 51.0, null, 193.0, 60.0, 65.0, 39.0, 40.0, 81.0, 79.0, 166.0, 70.0, 128.0, 124.0, 61.0, 94.0, 70.0, 67.0, 64.0, 69.0, 84.0, 76.0, 193.0, 72.0, 100.0, 66.0, 124.0, 188.0, 22.0, 193.0, 124.0, 82.0, 70.0, 54.0, 78.0, 40.0, 142.0, 193.0, 151.0, 64.0, 67.0, 147.0, 69.0, null, 182.0, 69.0, 73.0, 67.0, null, 72.0, 64.0, 62.0, 67.0, 142.0, 88.0, 51.0, 65.0, 53.0, 71.0, 91.0, 62.0, 28.0, 193.0, 84.0, 53.0, 64.0, 124.0, null, 67.0, 42.0, 33.0, 69.0, null, 193.0, 193.0, 57.0, null, 68.0, 82.0, 47.0, 52.0, 99.0, 70.0, 67.0, 193.0, 81.0, 68.0, 49.0, 124.0, 124.0, 193.0, 80.0, 76.0, 67.0, 68.0, 81.0, 80.0, 124.0, 63.0, 67.0, 42.0, 75.0, 77.0, 84.0, 68.0, 40.0, 60.0, 92.0, 77.0, 73.0, 50.0, 124.0, 84.0, 77.0, 74.0, 70.0, 50.0, 82.0, 193.0, 65.0, 53.0, 131.0, 67.0, 91.0, 72.0, 124.0, null, 100.0, 193.0, 77.0, 193.0, 66.0, 48.0, 54.0, 93.0, 62.0, 71.0, 196.0, 64.0, 84.0, 80.0, 72.0, 54.0, 80.0, 193.0, 193.0, 64.0, 59.0, 74.0, 10.0, 193.0, 142.0, 62.0, 81.0, 81.0, 193.0, 64.0, 100.0, 49.0, 44.0, 81.0, 54.0, 68.0, 193.0, 88.0, 92.0, 62.0, 90.0, 59.0, 92.0, 74.0, 56.0, 54.0, 90.0, 193.0, 46.0, 49.0, 53.0, 32.0, 78.0, 78.0, 67.0, 82.0, 193.0, 74.0, 75.0, 99.0, 70.0, 79.0, 67.0, 131.0, 70.0, 75.0, 80.0, 43.0, 193.0, 30.0, 71.0, 49.0, 36.0, 193.0, 81.0, 62.0, 193.0, 76.0], \"xaxis\": \"x\", \"yaxis\": \"y\"}, {\"alignmentgroup\": \"True\", \"hovertemplate\": \"writing score=%{x}<extra></extra>\", \"legendgroup\": \"\", \"marker\": {\"color\": \"#636efa\"}, \"name\": \"\", \"offsetgroup\": \"\", \"scalegroup\": \"x\", \"showlegend\": false, \"type\": \"violin\", \"x\": [46.0, 142.0, 193.0, 81.0, 166.0, 63.0, 76.0, 87.0, 69.0, 64.0, 193.0, 193.0, 193.0, 41.0, 131.0, 61.0, 71.0, 82.0, 147.0, 70.0, 58.0, 72.0, 193.0, 124.0, 62.0, 68.0, 46.0, 74.0, 193.0, 60.0, 68.0, 77.0, null, 124.0, 142.0, 100.0, 74.0, 55.0, 80.0, 70.0, 75.0, 67.0, 78.0, 88.0, 124.0, 85.0, 74.0, 65.0, 124.0, 54.0, 62.0, 62.0, 54.0, 63.0, 60.0, 27.0, 76.0, 142.0, 72.0, 193.0, 193.0, 57.0, 124.0, 53.0, 78.0, 142.0, 27.0, 70.0, 188.0, 61.0, 67.0, 65.0, 193.0, 79.0, 71.0, 196.0, 61.0, 64.0, 85.0, 65.0, 196.0, 87.0, 193.0, 95.0, 85.0, 122.0, 196.0, 60.0, 47.0, 50.0, 182.0, 56.0, 52.0, 124.0, 142.0, 88.0, 82.0, 61.0, 65.0, 92.0, 86.0, 73.0, 196.0, 124.0, 193.0, 78.0, 91.0, 124.0, 81.0, 93.0, 58.0, 70.0, 53.0, 142.0, null, 78.0, 88.0, 193.0, 42.0, 74.0, 67.0, 77.0, null, 193.0, 78.0, 142.0, null, 60.0, 83.0, 61.0, 196.0, 74.0, 66.0, 64.0, 193.0, 142.0, 70.0, 193.0, 51.0, 142.0, 70.0, 193.0, 196.0, 124.0, 59.0, 83.0, 54.0, null, 85.0, 100.0, 72.0, 151.0, 124.0, 43.0, 193.0, 63.0, 82.0, 71.0, 65.0, 78.0, 74.0, 43.0, 188.0, 74.0, 60.0, 85.0, 61.0, 76.0, 77.0, 45.0, 58.0, 95.0, 71.0, 57.0, 78.0, 59.0, 58.0, 74.0, 193.0, 46.0, 62.0, 78.0, 74.0, 81.0, 193.0, 72.0, 82.0, 73.0, 128.0, 124.0, 50.0, 124.0, 59.0, 44.0, 57.0, 54.0, 32.0, 142.0, 73.0, 74.0, 57.0, 193.0, 52.0, 69.0, 53.0, 54.0, 48.0, 124.0, 90.0, 75.0, 83.0, 94.0, 92.0, 91.0, 62.0, 64.0, 124.0, 193.0, 45.0, 193.0, 58.0, 52.0, 63.0, 60.0, 74.0, 59.0, 86.0, 55.0, 131.0, 142.0, 54.0, 193.0, 193.0, 196.0, 193.0, 63.0, 73.0, 46.0, 156.0, 90.0, 79.0, 58.0, 66.0, 72.0, 41.0, 122.0, 142.0, 193.0, 42.0, 70.0, 72.0, 131.0, 77.0, 76.0, 67.0, 85.0, null, 66.0, 142.0, 54.0, 72.0, 193.0, 196.0, 166.0, 68.0, 85.0, 76.0, 62.0, 60.0, 58.0, 56.0, 64.0, null, 75.0, 72.0, 193.0, 196.0, 196.0, 83.0, 100.0, 56.0, 66.0, 71.0, 67.0, 76.0, 142.0, 193.0, null, 124.0, 96.0, 188.0, 68.0, 80.0, 87.0, 52.0, 142.0, 82.0, 47.0, 65.0, 124.0, 84.0, 142.0, 79.0, 52.0, 41.0, 73.0, 83.0, 65.0, 82.0, 76.0, 79.0, 36.0, 33.0, null, 45.0, 193.0, 58.0, 80.0, 79.0, 73.0, 142.0, 62.0, 73.0, 70.0, 61.0, 196.0, 196.0, 75.0, 68.0, 49.0, 64.0, 124.0, 73.0, 68.0, 91.0, 68.0, 142.0, 68.0, 56.0, 193.0, 86.0, 69.0, 57.0, 142.0, 66.0, 70.0, 74.0, 128.0, 56.0, 45.0, 57.0, 45.0, 58.0, 193.0, 156.0, 193.0, 51.0, 47.0, 38.0, 78.0, 193.0, 69.0, 37.0, 124.0, 51.0, 90.0, 90.0, 51.0, 58.0, 142.0, 66.0, 94.0, 19.0, 69.0, 56.0, 193.0, null, 193.0, 174.0, 46.0, 196.0, 82.0, 124.0, 57.0, 100.0, 81.0, 193.0, 131.0, 54.0, 91.0, 193.0, 80.0, 142.0, 84.0, 70.0, 156.0, 52.0, 68.0, 73.0, 78.0, 142.0, 79.0, 70.0, 193.0, 84.0, 74.0, 193.0, 69.0, 75.0, 193.0, 70.0, 68.0, 44.0, 69.0, 68.0, 193.0, 68.0, 89.0, 72.0, 65.0, 196.0, 66.0, 69.0, 73.0, 72.0, 82.0, 69.0, 69.0, 77.0, 142.0, 73.0, 124.0, 72.0, 77.0, 86.0, 142.0, 75.0, null, 80.0, 142.0, 156.0, 124.0, 54.0, 193.0, 193.0, 68.0, 93.0, 193.0, 73.0, 92.0, 74.0, 142.0, 98.0, 70.0, 73.0, 75.0, 77.0, 81.0, 124.0, 52.0, 193.0, 51.0, 51.0, 96.0, null, 62.0, 74.0, 196.0, 75.0, 61.0, 67.0, 77.0, 44.0, 67.0, 62.0, 100.0, 142.0, 89.0, 80.0, 78.0, 64.0, 77.0, 124.0, 196.0, 142.0, 61.0, 72.0, 67.0, 86.0, 61.0, 80.0, 67.0, 53.0, 55.0, null, 87.0, 71.0, null, 59.0, 50.0, 142.0, 124.0, null, 81.0, 69.0, 147.0, 74.0, 54.0, 55.0, 60.0, 193.0, 196.0, null, 96.0, 93.0, 71.0, 91.0, 42.0, 83.0, 66.0, 193.0, 81.0, 124.0, 147.0, 41.0, 56.0, 77.0, 58.0, 66.0, 124.0, 52.0, 47.0, 41.0, 68.0, 63.0, 62.0, 71.0, 39.0, 80.0, 61.0, 70.0, 72.0, 89.0, 81.0, 48.0, 193.0, 38.0, 60.0, 55.0, 54.0, null, 86.0, 124.0, 196.0, 70.0, 73.0, 72.0, 47.0, 38.0, 131.0, 49.0, 88.0, 22.0, 80.0, 66.0, 80.0, 83.0, 50.0, 131.0, 87.0, null, null, 85.0, 87.0, 85.0, 87.0, 70.0, 67.0, 70.0, 61.0, 51.0, 142.0, 61.0, 193.0, null, 193.0, 48.0, 57.0, 193.0, 147.0, 87.0, 89.0, null, 65.0, 52.0, 80.0, 88.0, 52.0, 56.0, 80.0, 193.0, 68.0, 156.0, 47.0, 51.0, 193.0, 80.0, 73.0, 68.0, 89.0, 193.0, 86.0, 142.0, 142.0, 70.0, 57.0, 193.0, 77.0, 69.0, 80.0, 73.0, 63.0, 124.0, 124.0, 78.0, 76.0, 196.0, 193.0, 73.0, 52.0, 66.0, 74.0, 142.0, 60.0, 82.0, 193.0, 65.0, 46.0, 69.0, 76.0, 46.0, 72.0, 38.0, 51.0, null, 33.0, 142.0, 84.0, 193.0, 85.0, 193.0, 60.0, 80.0, null, 42.0, 65.0, 58.0, 64.0, null, 58.0, 131.0, 142.0, 83.0, 91.0, 193.0, 97.0, 80.0, 66.0, 193.0, 64.0, null, 193.0, 193.0, 66.0, 156.0, 124.0, 193.0, 100.0, 193.0, 23.0, 62.0, 64.0, 65.0, 82.0, 91.0, null, 75.0, 69.0, 64.0, 43.0, 69.0, 47.0, 74.0, 57.0, 124.0, 193.0, 48.0, 147.0, 193.0, 56.0, 94.0, 91.0, 57.0, 76.0, 50.0, 63.0, 79.0, 44.0, 95.0, 193.0, 193.0, 193.0, 193.0, 71.0, 131.0, 57.0, 41.0, 193.0, 62.0, 68.0, 43.0, 54.0, 65.0, 76.0, 47.0, 64.0, 75.0, 78.0, 196.0, 73.0, 193.0, 57.0, 95.0, 131.0, 66.0, 38.0, 124.0, 76.0, 79.0, 182.0, 82.0, 85.0, 65.0, 86.0, 73.0, 65.0, 76.0, 124.0, 70.0, 49.0, 51.0, 48.0, null, 80.0, 73.0, 65.0, 82.0, 59.0, 73.0, 193.0, 84.0, 142.0, null, 77.0, 75.0, 68.0, 88.0, 86.0, 51.0, 62.0, 79.0, 54.0, 193.0, 37.0, 42.0, 62.0, 76.0, 89.0, 97.0, 124.0, 68.0, 92.0, 55.0, 68.0, 60.0, 171.0, 71.0, 88.0, 75.0, 53.0, 73.0, 91.0, 43.0, 81.0, 74.0, 36.0, 70.0, 75.0, 93.0, 50.0, 52.0, 42.0, 124.0, 156.0, 64.0, 53.0, 53.0, 51.0, 53.0, 34.0, 92.0, 58.0, 72.0, 76.0, 66.0, 100.0, 38.0, 61.0, 71.0, 193.0, 87.0, 85.0, 92.0, 56.0, 50.0, 48.0, 82.0, 38.0, 77.0, 63.0, 52.0, 89.0, 54.0, 83.0, 54.0, 66.0, 69.0, 56.0, 188.0, 193.0, 83.0, 100.0, 87.0, 156.0, 196.0, 188.0, 79.0, 124.0, 75.0, 171.0, 78.0, 193.0, 82.0, 84.0, 68.0, 196.0, 78.0, 142.0, 193.0, 166.0, 156.0, 142.0, 156.0, 52.0, 62.0, 142.0, 82.0, 74.0, 70.0, 44.0, 66.0, 78.0, 193.0, 93.0, 44.0, 61.0, 55.0, 71.0, 72.0, null, 48.0, 174.0, 193.0, 193.0, 98.0, 142.0, 43.0, 193.0, 66.0, 54.0, null, 59.0, 71.0, 124.0, 196.0, 84.0, 72.0, 40.0, 58.0, 193.0, 27.0, 70.0, 94.0, 72.0, 74.0, 52.0, null, 100.0, 42.0, 54.0, 68.0, 75.0, 81.0, 193.0, 59.0, 53.0, 90.0, 73.0, 100.0, 51.0, 82.0, 100.0, 61.0, 124.0, 72.0, 76.0, 46.0, null, 193.0, 95.0, 62.0, 193.0, 93.0, 196.0, 68.0, 79.0, 53.0, null, 51.0, 49.0, 84.0, 63.0, 196.0, 78.0, 74.0, 77.0, 56.0, 60.0, 90.0, 82.0, 85.0, 64.0, 174.0, 70.0, 45.0, 69.0, 76.0, 193.0, 51.0, 60.0, 36.0, 45.0, 70.0, 43.0, 69.0, 97.0, 193.0, 74.0, 43.0, 72.0, 62.0, 64.0, 82.0, 64.0, 43.0, 60.0, 193.0, 65.0, 70.0, 193.0, 35.0, 193.0, 77.0, 80.0, 49.0, 124.0, 74.0, 124.0, 53.0, null, 53.0, 77.0, 95.0, 49.0, 75.0, 95.0, 36.0, 34.0, 78.0, 82.0, 52.0, 74.0, 89.0, 60.0, 58.0, 54.0, 57.0, 67.0, 74.0, 90.0, 193.0, 124.0, 34.0, 67.0, 196.0, 61.0, 80.0, 62.0, 41.0, 44.0, 57.0, 50.0, 193.0, 142.0, 73.0, 84.0, 70.0, null, 57.0, 196.0, 71.0, 73.0, null, 81.0, 193.0, 124.0, 196.0, 61.0, 79.0, 42.0, 142.0, 95.0, 62.0, 193.0, 83.0, 193.0, 188.0, 63.0, 71.0, 85.0, 79.0, 74.0, 53.0, 76.0, 54.0, 60.0, null, 196.0, 58.0, 142.0, 142.0, 196.0, 78.0, 124.0, 128.0, 34.0, 142.0, 77.0, 27.0, 46.0, 142.0, 86.0, 69.0, 193.0, 61.0, 99.0, 49.0, 76.0, 65.0, 128.0, 66.0, 76.0, 52.0, 78.0, 156.0, 86.0, 81.0, 193.0, 66.0, 193.0, 77.0, 55.0, 193.0, 63.0, 80.0, null, 47.0, 79.0, 38.0, 80.0, 193.0, 57.0, 41.0, 64.0, 75.0, 68.0, 54.0, 142.0, 77.0, 80.0, 59.0, 75.0, 58.0, 38.0, 196.0, 131.0, 74.0, 52.0, 66.0, null, 74.0, 55.0, 79.0, 193.0, 55.0, 55.0, 64.0, 81.0, 64.0, 193.0, 55.0, 62.0, 142.0, 82.0, 74.0, 68.0, 64.0, 88.0, 73.0, 188.0, 83.0, 49.0, 55.0, 77.0, 79.0, 15.0, 84.0, 63.0, 65.0, 56.0, 61.0, 124.0, 78.0, 193.0, 124.0, 42.0, 93.0, 87.0, 193.0, 193.0, 84.0, 67.0, 96.0, 75.0, 193.0, 124.0, 67.0, 89.0, 68.0, 124.0, 78.0, 83.0, 90.0, 43.0, 193.0, 66.0, 86.0, 94.0, 52.0, 60.0, 124.0, 62.0, 99.0, 76.0, 55.0, 193.0, 59.0, 57.0, 59.0, 79.0, null, 88.0, 76.0, 74.0, 63.0, 43.0, 51.0, null, 193.0, 60.0, 65.0, 39.0, 40.0, 81.0, 79.0, 166.0, 70.0, 128.0, 124.0, 61.0, 94.0, 70.0, 67.0, 64.0, 69.0, 84.0, 76.0, 193.0, 72.0, 100.0, 66.0, 124.0, 188.0, 22.0, 193.0, 124.0, 82.0, 70.0, 54.0, 78.0, 40.0, 142.0, 193.0, 151.0, 64.0, 67.0, 147.0, 69.0, null, 182.0, 69.0, 73.0, 67.0, null, 72.0, 64.0, 62.0, 67.0, 142.0, 88.0, 51.0, 65.0, 53.0, 71.0, 91.0, 62.0, 28.0, 193.0, 84.0, 53.0, 64.0, 124.0, null, 67.0, 42.0, 33.0, 69.0, null, 193.0, 193.0, 57.0, null, 68.0, 82.0, 47.0, 52.0, 99.0, 70.0, 67.0, 193.0, 81.0, 68.0, 49.0, 124.0, 124.0, 193.0, 80.0, 76.0, 67.0, 68.0, 81.0, 80.0, 124.0, 63.0, 67.0, 42.0, 75.0, 77.0, 84.0, 68.0, 40.0, 60.0, 92.0, 77.0, 73.0, 50.0, 124.0, 84.0, 77.0, 74.0, 70.0, 50.0, 82.0, 193.0, 65.0, 53.0, 131.0, 67.0, 91.0, 72.0, 124.0, null, 100.0, 193.0, 77.0, 193.0, 66.0, 48.0, 54.0, 93.0, 62.0, 71.0, 196.0, 64.0, 84.0, 80.0, 72.0, 54.0, 80.0, 193.0, 193.0, 64.0, 59.0, 74.0, 10.0, 193.0, 142.0, 62.0, 81.0, 81.0, 193.0, 64.0, 100.0, 49.0, 44.0, 81.0, 54.0, 68.0, 193.0, 88.0, 92.0, 62.0, 90.0, 59.0, 92.0, 74.0, 56.0, 54.0, 90.0, 193.0, 46.0, 49.0, 53.0, 32.0, 78.0, 78.0, 67.0, 82.0, 193.0, 74.0, 75.0, 99.0, 70.0, 79.0, 67.0, 131.0, 70.0, 75.0, 80.0, 43.0, 193.0, 30.0, 71.0, 49.0, 36.0, 193.0, 81.0, 62.0, 193.0, 76.0], \"xaxis\": \"x2\", \"yaxis\": \"y2\"}],                        {\"barmode\": \"relative\", \"legend\": {\"tracegroupgap\": 0}, \"template\": {\"data\": {\"bar\": [{\"error_x\": {\"color\": \"#2a3f5f\"}, \"error_y\": {\"color\": \"#2a3f5f\"}, \"marker\": {\"line\": {\"color\": \"#E5ECF6\", \"width\": 0.5}}, \"type\": \"bar\"}], \"barpolar\": [{\"marker\": {\"line\": {\"color\": \"#E5ECF6\", \"width\": 0.5}}, \"type\": \"barpolar\"}], \"carpet\": [{\"aaxis\": {\"endlinecolor\": \"#2a3f5f\", \"gridcolor\": \"white\", \"linecolor\": \"white\", \"minorgridcolor\": \"white\", \"startlinecolor\": \"#2a3f5f\"}, \"baxis\": {\"endlinecolor\": \"#2a3f5f\", \"gridcolor\": \"white\", \"linecolor\": \"white\", \"minorgridcolor\": \"white\", \"startlinecolor\": \"#2a3f5f\"}, \"type\": \"carpet\"}], \"choropleth\": [{\"colorbar\": {\"outlinewidth\": 0, \"ticks\": \"\"}, \"type\": \"choropleth\"}], \"contour\": [{\"colorbar\": {\"outlinewidth\": 0, \"ticks\": \"\"}, \"colorscale\": [[0.0, \"#0d0887\"], [0.1111111111111111, \"#46039f\"], [0.2222222222222222, \"#7201a8\"], [0.3333333333333333, \"#9c179e\"], [0.4444444444444444, \"#bd3786\"], [0.5555555555555556, \"#d8576b\"], [0.6666666666666666, \"#ed7953\"], [0.7777777777777778, \"#fb9f3a\"], [0.8888888888888888, \"#fdca26\"], [1.0, \"#f0f921\"]], \"type\": \"contour\"}], \"contourcarpet\": [{\"colorbar\": {\"outlinewidth\": 0, \"ticks\": \"\"}, \"type\": \"contourcarpet\"}], \"heatmap\": [{\"colorbar\": {\"outlinewidth\": 0, \"ticks\": \"\"}, \"colorscale\": [[0.0, \"#0d0887\"], [0.1111111111111111, \"#46039f\"], [0.2222222222222222, \"#7201a8\"], [0.3333333333333333, \"#9c179e\"], [0.4444444444444444, \"#bd3786\"], [0.5555555555555556, \"#d8576b\"], [0.6666666666666666, \"#ed7953\"], [0.7777777777777778, \"#fb9f3a\"], [0.8888888888888888, \"#fdca26\"], [1.0, \"#f0f921\"]], \"type\": \"heatmap\"}], \"heatmapgl\": [{\"colorbar\": {\"outlinewidth\": 0, \"ticks\": \"\"}, \"colorscale\": [[0.0, \"#0d0887\"], [0.1111111111111111, \"#46039f\"], [0.2222222222222222, \"#7201a8\"], [0.3333333333333333, \"#9c179e\"], [0.4444444444444444, \"#bd3786\"], [0.5555555555555556, \"#d8576b\"], [0.6666666666666666, \"#ed7953\"], [0.7777777777777778, \"#fb9f3a\"], [0.8888888888888888, \"#fdca26\"], [1.0, \"#f0f921\"]], \"type\": \"heatmapgl\"}], \"histogram\": [{\"marker\": {\"colorbar\": {\"outlinewidth\": 0, \"ticks\": \"\"}}, \"type\": \"histogram\"}], \"histogram2d\": [{\"colorbar\": {\"outlinewidth\": 0, \"ticks\": \"\"}, \"colorscale\": [[0.0, \"#0d0887\"], [0.1111111111111111, \"#46039f\"], [0.2222222222222222, \"#7201a8\"], [0.3333333333333333, \"#9c179e\"], [0.4444444444444444, \"#bd3786\"], [0.5555555555555556, \"#d8576b\"], [0.6666666666666666, \"#ed7953\"], [0.7777777777777778, \"#fb9f3a\"], [0.8888888888888888, \"#fdca26\"], [1.0, \"#f0f921\"]], \"type\": \"histogram2d\"}], \"histogram2dcontour\": [{\"colorbar\": {\"outlinewidth\": 0, \"ticks\": \"\"}, \"colorscale\": [[0.0, \"#0d0887\"], [0.1111111111111111, \"#46039f\"], [0.2222222222222222, \"#7201a8\"], [0.3333333333333333, \"#9c179e\"], [0.4444444444444444, \"#bd3786\"], [0.5555555555555556, \"#d8576b\"], [0.6666666666666666, \"#ed7953\"], [0.7777777777777778, \"#fb9f3a\"], [0.8888888888888888, \"#fdca26\"], [1.0, \"#f0f921\"]], \"type\": \"histogram2dcontour\"}], \"mesh3d\": [{\"colorbar\": {\"outlinewidth\": 0, \"ticks\": \"\"}, \"type\": \"mesh3d\"}], \"parcoords\": [{\"line\": {\"colorbar\": {\"outlinewidth\": 0, \"ticks\": \"\"}}, \"type\": \"parcoords\"}], \"pie\": [{\"automargin\": true, \"type\": \"pie\"}], \"scatter\": [{\"marker\": {\"colorbar\": {\"outlinewidth\": 0, \"ticks\": \"\"}}, \"type\": \"scatter\"}], \"scatter3d\": [{\"line\": {\"colorbar\": {\"outlinewidth\": 0, \"ticks\": \"\"}}, \"marker\": {\"colorbar\": {\"outlinewidth\": 0, \"ticks\": \"\"}}, \"type\": \"scatter3d\"}], \"scattercarpet\": [{\"marker\": {\"colorbar\": {\"outlinewidth\": 0, \"ticks\": \"\"}}, \"type\": \"scattercarpet\"}], \"scattergeo\": [{\"marker\": {\"colorbar\": {\"outlinewidth\": 0, \"ticks\": \"\"}}, \"type\": \"scattergeo\"}], \"scattergl\": [{\"marker\": {\"colorbar\": {\"outlinewidth\": 0, \"ticks\": \"\"}}, \"type\": \"scattergl\"}], \"scattermapbox\": [{\"marker\": {\"colorbar\": {\"outlinewidth\": 0, \"ticks\": \"\"}}, \"type\": \"scattermapbox\"}], \"scatterpolar\": [{\"marker\": {\"colorbar\": {\"outlinewidth\": 0, \"ticks\": \"\"}}, \"type\": \"scatterpolar\"}], \"scatterpolargl\": [{\"marker\": {\"colorbar\": {\"outlinewidth\": 0, \"ticks\": \"\"}}, \"type\": \"scatterpolargl\"}], \"scatterternary\": [{\"marker\": {\"colorbar\": {\"outlinewidth\": 0, \"ticks\": \"\"}}, \"type\": \"scatterternary\"}], \"surface\": [{\"colorbar\": {\"outlinewidth\": 0, \"ticks\": \"\"}, \"colorscale\": [[0.0, \"#0d0887\"], [0.1111111111111111, \"#46039f\"], [0.2222222222222222, \"#7201a8\"], [0.3333333333333333, \"#9c179e\"], [0.4444444444444444, \"#bd3786\"], [0.5555555555555556, \"#d8576b\"], [0.6666666666666666, \"#ed7953\"], [0.7777777777777778, \"#fb9f3a\"], [0.8888888888888888, \"#fdca26\"], [1.0, \"#f0f921\"]], \"type\": \"surface\"}], \"table\": [{\"cells\": {\"fill\": {\"color\": \"#EBF0F8\"}, \"line\": {\"color\": \"white\"}}, \"header\": {\"fill\": {\"color\": \"#C8D4E3\"}, \"line\": {\"color\": \"white\"}}, \"type\": \"table\"}]}, \"layout\": {\"annotationdefaults\": {\"arrowcolor\": \"#2a3f5f\", \"arrowhead\": 0, \"arrowwidth\": 1}, \"autotypenumbers\": \"strict\", \"coloraxis\": {\"colorbar\": {\"outlinewidth\": 0, \"ticks\": \"\"}}, \"colorscale\": {\"diverging\": [[0, \"#8e0152\"], [0.1, \"#c51b7d\"], [0.2, \"#de77ae\"], [0.3, \"#f1b6da\"], [0.4, \"#fde0ef\"], [0.5, \"#f7f7f7\"], [0.6, \"#e6f5d0\"], [0.7, \"#b8e186\"], [0.8, \"#7fbc41\"], [0.9, \"#4d9221\"], [1, \"#276419\"]], \"sequential\": [[0.0, \"#0d0887\"], [0.1111111111111111, \"#46039f\"], [0.2222222222222222, \"#7201a8\"], [0.3333333333333333, \"#9c179e\"], [0.4444444444444444, \"#bd3786\"], [0.5555555555555556, \"#d8576b\"], [0.6666666666666666, \"#ed7953\"], [0.7777777777777778, \"#fb9f3a\"], [0.8888888888888888, \"#fdca26\"], [1.0, \"#f0f921\"]], \"sequentialminus\": [[0.0, \"#0d0887\"], [0.1111111111111111, \"#46039f\"], [0.2222222222222222, \"#7201a8\"], [0.3333333333333333, \"#9c179e\"], [0.4444444444444444, \"#bd3786\"], [0.5555555555555556, \"#d8576b\"], [0.6666666666666666, \"#ed7953\"], [0.7777777777777778, \"#fb9f3a\"], [0.8888888888888888, \"#fdca26\"], [1.0, \"#f0f921\"]]}, \"colorway\": [\"#636efa\", \"#EF553B\", \"#00cc96\", \"#ab63fa\", \"#FFA15A\", \"#19d3f3\", \"#FF6692\", \"#B6E880\", \"#FF97FF\", \"#FECB52\"], \"font\": {\"color\": \"#2a3f5f\"}, \"geo\": {\"bgcolor\": \"white\", \"lakecolor\": \"white\", \"landcolor\": \"#E5ECF6\", \"showlakes\": true, \"showland\": true, \"subunitcolor\": \"white\"}, \"hoverlabel\": {\"align\": \"left\"}, \"hovermode\": \"closest\", \"mapbox\": {\"style\": \"light\"}, \"paper_bgcolor\": \"white\", \"plot_bgcolor\": \"#E5ECF6\", \"polar\": {\"angularaxis\": {\"gridcolor\": \"white\", \"linecolor\": \"white\", \"ticks\": \"\"}, \"bgcolor\": \"#E5ECF6\", \"radialaxis\": {\"gridcolor\": \"white\", \"linecolor\": \"white\", \"ticks\": \"\"}}, \"scene\": {\"xaxis\": {\"backgroundcolor\": \"#E5ECF6\", \"gridcolor\": \"white\", \"gridwidth\": 2, \"linecolor\": \"white\", \"showbackground\": true, \"ticks\": \"\", \"zerolinecolor\": \"white\"}, \"yaxis\": {\"backgroundcolor\": \"#E5ECF6\", \"gridcolor\": \"white\", \"gridwidth\": 2, \"linecolor\": \"white\", \"showbackground\": true, \"ticks\": \"\", \"zerolinecolor\": \"white\"}, \"zaxis\": {\"backgroundcolor\": \"#E5ECF6\", \"gridcolor\": \"white\", \"gridwidth\": 2, \"linecolor\": \"white\", \"showbackground\": true, \"ticks\": \"\", \"zerolinecolor\": \"white\"}}, \"shapedefaults\": {\"line\": {\"color\": \"#2a3f5f\"}}, \"ternary\": {\"aaxis\": {\"gridcolor\": \"white\", \"linecolor\": \"white\", \"ticks\": \"\"}, \"baxis\": {\"gridcolor\": \"white\", \"linecolor\": \"white\", \"ticks\": \"\"}, \"bgcolor\": \"#E5ECF6\", \"caxis\": {\"gridcolor\": \"white\", \"linecolor\": \"white\", \"ticks\": \"\"}}, \"title\": {\"x\": 0.05}, \"xaxis\": {\"automargin\": true, \"gridcolor\": \"white\", \"linecolor\": \"white\", \"ticks\": \"\", \"title\": {\"standoff\": 15}, \"zerolinecolor\": \"white\", \"zerolinewidth\": 2}, \"yaxis\": {\"automargin\": true, \"gridcolor\": \"white\", \"linecolor\": \"white\", \"ticks\": \"\", \"title\": {\"standoff\": 15}, \"zerolinecolor\": \"white\", \"zerolinewidth\": 2}}}, \"title\": {\"text\": \"An\\u00e1lisis de la variable writing score\"}, \"xaxis\": {\"anchor\": \"y\", \"domain\": [0.0, 1.0], \"title\": {\"text\": \"writing score\"}}, \"xaxis2\": {\"anchor\": \"y2\", \"domain\": [0.0, 1.0], \"matches\": \"x\", \"showgrid\": true, \"showticklabels\": false}, \"yaxis\": {\"anchor\": \"x\", \"domain\": [0.0, 0.8316], \"title\": {\"text\": \"count\"}}, \"yaxis2\": {\"anchor\": \"x2\", \"domain\": [0.8416, 1.0], \"matches\": \"y2\", \"showgrid\": false, \"showline\": false, \"showticklabels\": false, \"ticks\": \"\"}},                        {\"responsive\": true}                    ).then(function(){\n",
       "                            \n",
       "var gd = document.getElementById('97ef281c-f458-4d60-8e52-c2cb17970877');\n",
       "var x = new MutationObserver(function (mutations, observer) {{\n",
       "        var display = window.getComputedStyle(gd).display;\n",
       "        if (!display || display === 'none') {{\n",
       "            console.log([gd, 'removed!']);\n",
       "            Plotly.purge(gd);\n",
       "            observer.disconnect();\n",
       "        }}\n",
       "}});\n",
       "\n",
       "// Listen for the removal of the full notebook cells\n",
       "var notebookContainer = gd.closest('#notebook-container');\n",
       "if (notebookContainer) {{\n",
       "    x.observe(notebookContainer, {childList: true});\n",
       "}}\n",
       "\n",
       "// Listen for the clearing of the current output cell\n",
       "var outputEl = gd.closest('.output');\n",
       "if (outputEl) {{\n",
       "    x.observe(outputEl, {childList: true});\n",
       "}}\n",
       "\n",
       "                        })                };                });            </script>        </div>"
      ]
     },
     "metadata": {},
     "output_type": "display_data"
    }
   ],
   "source": [
    "# Se procede a visualizar las distribuciones de las variables numericas, se escribe en una misma linea para no\n",
    "# ensuciar el código\n",
    "\n",
    "#px.histogram(df_grades, x= 'reading score', title='Análisis de la variable reading score', marginal='violin')\n",
    "#px.histogram(df_grades, x= 'math score', title='Análisis de la variable math score', marginal='violin')\n",
    "px.histogram(df_grades, x= 'writing score', title='Análisis de la variable writing score', marginal='violin')"
   ]
  },
  {
   "cell_type": "markdown",
   "metadata": {
    "id": "nxRj-Hi2QUHQ"
   },
   "source": [
    "**Justificación:**"
   ]
  },
  {
   "cell_type": "markdown",
   "metadata": {
    "id": "CR2ZEOcbQW9X"
   },
   "source": [
    "```\n",
    "Se puede ver en las distribuciones anteriores y los resultados de la función analisis_preliminar_datos() que existen valores que exceden el umbral posible de 100 como porcentaje de logro, es más se puede ver que los valores anteriores que caben dentro del umbral 0 a 100 tienen un comportamiento bastante normal en comparación a estos datos que son cuestionables.\n",
    "\n",
    "Otro aspecto importante, es notar ya que vemos un comportamiento bastante normal en los datos que se encuentran en el umbral, la mediana no debería estar tan alejada del promedio, pero debido a estos otros datos cuestionables el promedio se aleja bastante.\n",
    "\n",
    "```"
   ]
  },
  {
   "cell_type": "markdown",
   "metadata": {
    "id": "YJfqPXFZjQiA"
   },
   "source": [
    "## 1.2 Limpieza de Datos [1 punto]\n",
    "\n",
    "<p align=\"center\">\n",
    "  <img src=\"https://media3.giphy.com/media/c09yGbnSyaFRS/giphy.gif?cid=ecf05e47d0ejjjnpfj0ywcbwz7zk7sw2rfdpis890gmdpvj2&rid=giphy.gif&ct=g\">\n",
    "</p>\n"
   ]
  },
  {
   "cell_type": "markdown",
   "metadata": {
    "id": "syO5lHKvv6Wt"
   },
   "source": [
    "En base a lo realizado anteriormente, tome la decisión (si es necesario) de limpiar el dataset. Asuma los supuestos que estime conveniente para limpiar el DataFrame y cree una función que le permita limpiar los datos, si estima que no es necesario realizar esto, omita esta parte.\n",
    "\n",
    "**To-Do:**\n",
    "\n",
    "- [ ] Decidir si realizar o no la limpieza.\n",
    "- [ ] Crear función que nos permita limpiar el dataset.\n",
    "- [ ] Justifique las asunciones realizadas para limpiar los datos.\n",
    "\n",
    "**Hint**\n",
    "\n",
    "En el caso que decida limpiar el dataset, puede que le sean de utilidad las funciones ```.drop_duplicates()``` y ```.dropna()```.\n"
   ]
  },
  {
   "cell_type": "code",
   "execution_count": 137,
   "metadata": {},
   "outputs": [],
   "source": [
    "def limpiar_dataset(df_grades):\n",
    "    # Primero vamos a filtrar para mantener sólo los valores de las pruebas que sean menores a 100, ya que no es factible \n",
    "    # tener un puntaje mayor de ese umbral\n",
    "    df_grades = df_grades[(df_grades['math score'] <= 100) & (df_grades['reading score']<=100) & (df_grades['writing score']<=100)]\n",
    "    # Luego vamos a filtrar los nombres únicos ya que no es posible que un alumno haya dado más de una vez el mismo examen.\n",
    "    df_grades = df_grades.drop_duplicates('names')\n",
    "    # Finalmente se decide no filtrar los valores NA, a continuación se explica por qué.\n",
    "    return df_grades"
   ]
  },
  {
   "cell_type": "code",
   "execution_count": 138,
   "metadata": {},
   "outputs": [],
   "source": [
    "# Ejecutar antes para luego probar analisis_preliminar_datos\n",
    "df_grades = limpiar_dataset(df_grades)"
   ]
  },
  {
   "cell_type": "markdown",
   "metadata": {
    "id": "iAnb7kcRj9gJ"
   },
   "source": [
    "> Utilice la función creada en el punto 1.1 para verificar sus resultados."
   ]
  },
  {
   "cell_type": "code",
   "execution_count": 139,
   "metadata": {},
   "outputs": [
    {
     "data": {
      "text/html": [
       "<div>\n",
       "<style scoped>\n",
       "    .dataframe tbody tr th:only-of-type {\n",
       "        vertical-align: middle;\n",
       "    }\n",
       "\n",
       "    .dataframe tbody tr th {\n",
       "        vertical-align: top;\n",
       "    }\n",
       "\n",
       "    .dataframe thead th {\n",
       "        text-align: right;\n",
       "    }\n",
       "</style>\n",
       "<table border=\"1\" class=\"dataframe\">\n",
       "  <thead>\n",
       "    <tr style=\"text-align: right;\">\n",
       "      <th></th>\n",
       "      <th>names</th>\n",
       "      <th>gender</th>\n",
       "      <th>race/ethnicity</th>\n",
       "      <th>parental level of education</th>\n",
       "      <th>lunch</th>\n",
       "      <th>test preparation course</th>\n",
       "      <th>math score</th>\n",
       "      <th>reading score</th>\n",
       "      <th>writing score</th>\n",
       "    </tr>\n",
       "  </thead>\n",
       "  <tbody>\n",
       "    <tr>\n",
       "      <th>0</th>\n",
       "      <td>Rita Courtney</td>\n",
       "      <td>female</td>\n",
       "      <td>group B</td>\n",
       "      <td>some high school</td>\n",
       "      <td>standard</td>\n",
       "      <td>none</td>\n",
       "      <td>37.0</td>\n",
       "      <td>46.0</td>\n",
       "      <td>46.0</td>\n",
       "    </tr>\n",
       "    <tr>\n",
       "      <th>3</th>\n",
       "      <td>Charles Linstrom</td>\n",
       "      <td>male</td>\n",
       "      <td>group A</td>\n",
       "      <td>bachelor's degree</td>\n",
       "      <td>standard</td>\n",
       "      <td>completed</td>\n",
       "      <td>80.0</td>\n",
       "      <td>78.0</td>\n",
       "      <td>81.0</td>\n",
       "    </tr>\n",
       "    <tr>\n",
       "      <th>5</th>\n",
       "      <td>Brian Young</td>\n",
       "      <td>male</td>\n",
       "      <td>group C</td>\n",
       "      <td>some high school</td>\n",
       "      <td>standard</td>\n",
       "      <td>none</td>\n",
       "      <td>73.0</td>\n",
       "      <td>66.0</td>\n",
       "      <td>63.0</td>\n",
       "    </tr>\n",
       "    <tr>\n",
       "      <th>6</th>\n",
       "      <td>Howard Jimenez</td>\n",
       "      <td>male</td>\n",
       "      <td>group E</td>\n",
       "      <td>some high school</td>\n",
       "      <td>standard</td>\n",
       "      <td>completed</td>\n",
       "      <td>81.0</td>\n",
       "      <td>75.0</td>\n",
       "      <td>76.0</td>\n",
       "    </tr>\n",
       "    <tr>\n",
       "      <th>7</th>\n",
       "      <td>Wayne Wilson</td>\n",
       "      <td>male</td>\n",
       "      <td>group B</td>\n",
       "      <td>some high school</td>\n",
       "      <td>standard</td>\n",
       "      <td>completed</td>\n",
       "      <td>94.0</td>\n",
       "      <td>86.0</td>\n",
       "      <td>87.0</td>\n",
       "    </tr>\n",
       "  </tbody>\n",
       "</table>\n",
       "</div>"
      ],
      "text/plain": [
       "              names  gender race/ethnicity parental level of education  \\\n",
       "0     Rita Courtney  female        group B            some high school   \n",
       "3  Charles Linstrom    male        group A           bachelor's degree   \n",
       "5       Brian Young    male        group C            some high school   \n",
       "6    Howard Jimenez    male        group E            some high school   \n",
       "7      Wayne Wilson    male        group B            some high school   \n",
       "\n",
       "      lunch test preparation course  math score  reading score  writing score  \n",
       "0  standard                    none        37.0           46.0           46.0  \n",
       "3  standard               completed        80.0           78.0           81.0  \n",
       "5  standard                    none        73.0           66.0           63.0  \n",
       "6  standard               completed        81.0           75.0           76.0  \n",
       "7  standard               completed        94.0           86.0           87.0  "
      ]
     },
     "metadata": {},
     "output_type": "display_data"
    },
    {
     "name": "stdout",
     "output_type": "stream",
     "text": [
      "Dimensiones del set de datos (Filas x Columnas):  (1000, 9)\n",
      "\n",
      "Descripción de los datos númericos: \n",
      "       math score  reading score  writing score\n",
      "count  1000.00000    1000.000000    1000.000000\n",
      "mean     66.08900      69.169000      68.054000\n",
      "std      15.16308      14.600192      15.195657\n",
      "min       0.00000      17.000000      10.000000\n",
      "25%      57.00000      59.000000      57.750000\n",
      "50%      66.00000      70.000000      69.000000\n",
      "75%      77.00000      79.000000      79.000000\n",
      "max     100.00000     100.000000     100.000000\n",
      "\n",
      "Cantidad de filas duplicadas:  0\n",
      "\n",
      "Cantidad total de valores NAs:  0\n",
      "\n",
      "Cantidad total de valores únicos por columna: \n",
      "\n",
      "names                          1000\n",
      "gender                            2\n",
      "race/ethnicity                    5\n",
      "parental level of education       6\n",
      "lunch                             2\n",
      "test preparation course           2\n",
      "math score                       81\n",
      "reading score                    72\n",
      "writing score                    77\n",
      "dtype: int64\n",
      "\n",
      "Cantidad total de filas únicas:  1000\n"
     ]
    }
   ],
   "source": [
    "analisis_preliminar_datos(df_grades)"
   ]
  },
  {
   "cell_type": "markdown",
   "metadata": {
    "id": "mPmHNen3jZCX"
   },
   "source": [
    "**Justificación:**"
   ]
  },
  {
   "cell_type": "markdown",
   "metadata": {
    "id": "uCK_RZEajZHI"
   },
   "source": [
    "```\n",
    "Retomando lo anteriormente detallado, se decide primero filtrar los filas de las pruebas que exceden el umbral específicado de 100 (antes en la distribución se ve que no bajan de 0), ya que según las indicaciones esto no es posible ya que es un porcentaje de logro.\n",
    "\n",
    "Luego, se decide filtrar los nombres duplicados, ya que no es posible que una persona haya rendido más de una vez estas pruebas.\n",
    "\n",
    "Finalmente, se decide no eliminar NA en caso de que hayan quedado en el set de datos debido a que esta información puede ser valiosa en caso de que pueda ser un indicativo de que un determinado sector de los estudiantes no haya rendido las pruebas por algún motivo en especial y esto puede ser explicado mediante los datos.\n",
    "```"
   ]
  },
  {
   "cell_type": "markdown",
   "metadata": {
    "id": "2tnenh4uOF6k"
   },
   "source": [
    "## 1.3 Análisis exploratorio de datos\n",
    "\n",
    "\n",
    "\n",
    "<p align=\"center\">\n",
    "  <img src=\"https://media4.giphy.com/media/ko7twHhomhk8E/giphy.gif?cid=ecf05e47xmgfz8ftaom8saa4cwktxpb0fkui9yk3nakb4ff1&rid=giphy.gif&ct=g\">\n",
    "</p>\n"
   ]
  },
  {
   "cell_type": "markdown",
   "metadata": {
    "id": "Qecw0sKor_Au"
   },
   "source": [
    "### 1.3.1 Transformación de notas a \"Nota Chilena\" [0.5 punto]"
   ]
  },
  {
   "cell_type": "markdown",
   "metadata": {
    "id": "BfmD-9yi4PnX"
   },
   "source": [
    "En la ultima reunion con Don Caguayo este les comenta es complejo para el y su equipo entender la graduación de notas de 0 a 100. Por ende, le comenta que desde hace harto tiempo tienen la intención de *trnasformar* todas sus notas a la \"Escala Chilena\". Para esto les facilita la siguiente ecuación:\n",
    "\n",
    "$$Nota \\, Chilena= \\% \\, de \\, logro*0.06 + 1$$\n",
    "\n",
    "Utilizando la ecuación entregada, cree un función que le permita pasar a la escala Chilena las notas que se escapan del rango [1,7]. \n",
    "\n",
    "(No ocupe ningún tipo de ciclo).\n",
    "\n",
    "**To-Do**\n",
    "\n",
    "- [ ] Tranforme los valores a la escala chilena.\n",
    "- [ ] Asigne los valores transformados al DataFrame."
   ]
  },
  {
   "cell_type": "code",
   "execution_count": 140,
   "metadata": {
    "id": "Rm-BVxoVXvVa"
   },
   "outputs": [],
   "source": [
    "def transformar_notas_dataset(df_grades):\n",
    "    math_nota_chilena = df_grades['math score']*0.06 + 1\n",
    "    reading_nota_chilena = df_grades['reading score']*0.06 + 1\n",
    "    writing_nota_chilena = df_grades['writing score']*0.06 + 1\n",
    "    df_grades['math score'] = math_nota_chilena \n",
    "    df_grades['reading score'] = reading_nota_chilena\n",
    "    df_grades['writing score'] = writing_nota_chilena\n",
    "    return df_grades"
   ]
  },
  {
   "cell_type": "code",
   "execution_count": 141,
   "metadata": {},
   "outputs": [],
   "source": [
    "# Ejecutar esta celda sólo 1 vez antes de continuar\n",
    "df_grades = transformar_notas_dataset(df_grades)"
   ]
  },
  {
   "cell_type": "markdown",
   "metadata": {
    "id": "QGe-Hb2UTAE1"
   },
   "source": [
    "### 1.3.2 Obtención de promedio de alumnos [0.5 puntos]"
   ]
  },
  {
   "cell_type": "markdown",
   "metadata": {
    "id": "AEkWI5K-OZgt"
   },
   "source": [
    "Con todas las notas adjuntadas, la prestigiosa *Universidad De la Cachaña* necesita obtener el promedio general de cada uno de los alumnos (Grade Point Average - GPA). Para esto se le solicita que calcule el promedio con cada una de las asignaturas y el promedio se anexe como una nueva columna al final del DataFrame original.\n",
    "\n",
    "**To-Do:**\n",
    "- [ ] Obtenga el promedio de cada uno de los alumnos.\n",
    "- [ ] Anexe esta información en el DataFrame original.\n"
   ]
  },
  {
   "cell_type": "code",
   "execution_count": 143,
   "metadata": {
    "id": "eZEiDhk_Xyey"
   },
   "outputs": [
    {
     "data": {
      "text/html": [
       "<div>\n",
       "<style scoped>\n",
       "    .dataframe tbody tr th:only-of-type {\n",
       "        vertical-align: middle;\n",
       "    }\n",
       "\n",
       "    .dataframe tbody tr th {\n",
       "        vertical-align: top;\n",
       "    }\n",
       "\n",
       "    .dataframe thead th {\n",
       "        text-align: right;\n",
       "    }\n",
       "</style>\n",
       "<table border=\"1\" class=\"dataframe\">\n",
       "  <thead>\n",
       "    <tr style=\"text-align: right;\">\n",
       "      <th></th>\n",
       "      <th>names</th>\n",
       "      <th>gender</th>\n",
       "      <th>race/ethnicity</th>\n",
       "      <th>parental level of education</th>\n",
       "      <th>lunch</th>\n",
       "      <th>test preparation course</th>\n",
       "      <th>math score</th>\n",
       "      <th>reading score</th>\n",
       "      <th>writing score</th>\n",
       "      <th>GPA</th>\n",
       "    </tr>\n",
       "  </thead>\n",
       "  <tbody>\n",
       "    <tr>\n",
       "      <th>0</th>\n",
       "      <td>Rita Courtney</td>\n",
       "      <td>female</td>\n",
       "      <td>group B</td>\n",
       "      <td>some high school</td>\n",
       "      <td>standard</td>\n",
       "      <td>none</td>\n",
       "      <td>3.22</td>\n",
       "      <td>3.76</td>\n",
       "      <td>3.76</td>\n",
       "      <td>3.58</td>\n",
       "    </tr>\n",
       "    <tr>\n",
       "      <th>3</th>\n",
       "      <td>Charles Linstrom</td>\n",
       "      <td>male</td>\n",
       "      <td>group A</td>\n",
       "      <td>bachelor's degree</td>\n",
       "      <td>standard</td>\n",
       "      <td>completed</td>\n",
       "      <td>5.80</td>\n",
       "      <td>5.68</td>\n",
       "      <td>5.86</td>\n",
       "      <td>5.78</td>\n",
       "    </tr>\n",
       "    <tr>\n",
       "      <th>5</th>\n",
       "      <td>Brian Young</td>\n",
       "      <td>male</td>\n",
       "      <td>group C</td>\n",
       "      <td>some high school</td>\n",
       "      <td>standard</td>\n",
       "      <td>none</td>\n",
       "      <td>5.38</td>\n",
       "      <td>4.96</td>\n",
       "      <td>4.78</td>\n",
       "      <td>5.04</td>\n",
       "    </tr>\n",
       "    <tr>\n",
       "      <th>6</th>\n",
       "      <td>Howard Jimenez</td>\n",
       "      <td>male</td>\n",
       "      <td>group E</td>\n",
       "      <td>some high school</td>\n",
       "      <td>standard</td>\n",
       "      <td>completed</td>\n",
       "      <td>5.86</td>\n",
       "      <td>5.50</td>\n",
       "      <td>5.56</td>\n",
       "      <td>5.64</td>\n",
       "    </tr>\n",
       "    <tr>\n",
       "      <th>7</th>\n",
       "      <td>Wayne Wilson</td>\n",
       "      <td>male</td>\n",
       "      <td>group B</td>\n",
       "      <td>some high school</td>\n",
       "      <td>standard</td>\n",
       "      <td>completed</td>\n",
       "      <td>6.64</td>\n",
       "      <td>6.16</td>\n",
       "      <td>6.22</td>\n",
       "      <td>6.34</td>\n",
       "    </tr>\n",
       "  </tbody>\n",
       "</table>\n",
       "</div>"
      ],
      "text/plain": [
       "              names  gender race/ethnicity parental level of education  \\\n",
       "0     Rita Courtney  female        group B            some high school   \n",
       "3  Charles Linstrom    male        group A           bachelor's degree   \n",
       "5       Brian Young    male        group C            some high school   \n",
       "6    Howard Jimenez    male        group E            some high school   \n",
       "7      Wayne Wilson    male        group B            some high school   \n",
       "\n",
       "      lunch test preparation course  math score  reading score  writing score  \\\n",
       "0  standard                    none        3.22           3.76           3.76   \n",
       "3  standard               completed        5.80           5.68           5.86   \n",
       "5  standard                    none        5.38           4.96           4.78   \n",
       "6  standard               completed        5.86           5.50           5.56   \n",
       "7  standard               completed        6.64           6.16           6.22   \n",
       "\n",
       "    GPA  \n",
       "0  3.58  \n",
       "3  5.78  \n",
       "5  5.04  \n",
       "6  5.64  \n",
       "7  6.34  "
      ]
     },
     "execution_count": 143,
     "metadata": {},
     "output_type": "execute_result"
    }
   ],
   "source": [
    "GPA = (df_grades['math score'] + df_grades['reading score'] + df_grades['writing score'])/3\n",
    "df_grades['GPA'] = GPA\n",
    "df_grades.head(5)"
   ]
  },
  {
   "cell_type": "markdown",
   "metadata": {
    "id": "uA0ZXAWyBoLX"
   },
   "source": [
    "### 1.3.3 Reprobados [1 punto]"
   ]
  },
  {
   "cell_type": "markdown",
   "metadata": {
    "id": "k1FKahC3_g5_"
   },
   "source": [
    "Contentos con su desempeño, la Universidad les solicita que obtengan los alumnos quienes han reprobado el año. Para esto se considerará que un alumno ha reprobado el año cuando el promedio de notas es inferior a 4.0 en la Escala Chilena.\n",
    "\n",
    "Cree una función que permita obtener dos Dataframes, el primero debe poseer solamente los alumnos que han reprobado en la prestigiosa universidad y el segundo debe entregar un DataFrame similar al original, pero marcado con una \"R\" el promedio de notas de los alumnos reprobados.\n",
    "\n",
    "**To-Do:**\n",
    "\n",
    "- [ ] Obtenga una máscara DataFrame con los alumnos que reprobaron el año.\n",
    "- [ ] Reemplaze todos los GPA reprobados con una **R**."
   ]
  },
  {
   "cell_type": "code",
   "execution_count": 144,
   "metadata": {
    "id": "hHNzsREkX05X"
   },
   "outputs": [],
   "source": [
    "reprobados = df_grades[df_grades['GPA'] < 4.0]\n",
    "df_grades_R = df_grades.copy()\n",
    "df_grades_R['GPA'] = df_grades['GPA'].replace([reprobados['GPA']] , 'R')"
   ]
  },
  {
   "cell_type": "code",
   "execution_count": 145,
   "metadata": {},
   "outputs": [
    {
     "data": {
      "text/html": [
       "<div>\n",
       "<style scoped>\n",
       "    .dataframe tbody tr th:only-of-type {\n",
       "        vertical-align: middle;\n",
       "    }\n",
       "\n",
       "    .dataframe tbody tr th {\n",
       "        vertical-align: top;\n",
       "    }\n",
       "\n",
       "    .dataframe thead th {\n",
       "        text-align: right;\n",
       "    }\n",
       "</style>\n",
       "<table border=\"1\" class=\"dataframe\">\n",
       "  <thead>\n",
       "    <tr style=\"text-align: right;\">\n",
       "      <th></th>\n",
       "      <th>names</th>\n",
       "      <th>gender</th>\n",
       "      <th>race/ethnicity</th>\n",
       "      <th>parental level of education</th>\n",
       "      <th>lunch</th>\n",
       "      <th>test preparation course</th>\n",
       "      <th>math score</th>\n",
       "      <th>reading score</th>\n",
       "      <th>writing score</th>\n",
       "      <th>GPA</th>\n",
       "    </tr>\n",
       "  </thead>\n",
       "  <tbody>\n",
       "    <tr>\n",
       "      <th>0</th>\n",
       "      <td>Rita Courtney</td>\n",
       "      <td>female</td>\n",
       "      <td>group B</td>\n",
       "      <td>some high school</td>\n",
       "      <td>standard</td>\n",
       "      <td>none</td>\n",
       "      <td>3.22</td>\n",
       "      <td>3.76</td>\n",
       "      <td>3.76</td>\n",
       "      <td>R</td>\n",
       "    </tr>\n",
       "    <tr>\n",
       "      <th>3</th>\n",
       "      <td>Charles Linstrom</td>\n",
       "      <td>male</td>\n",
       "      <td>group A</td>\n",
       "      <td>bachelor's degree</td>\n",
       "      <td>standard</td>\n",
       "      <td>completed</td>\n",
       "      <td>5.80</td>\n",
       "      <td>5.68</td>\n",
       "      <td>5.86</td>\n",
       "      <td>5.78</td>\n",
       "    </tr>\n",
       "    <tr>\n",
       "      <th>5</th>\n",
       "      <td>Brian Young</td>\n",
       "      <td>male</td>\n",
       "      <td>group C</td>\n",
       "      <td>some high school</td>\n",
       "      <td>standard</td>\n",
       "      <td>none</td>\n",
       "      <td>5.38</td>\n",
       "      <td>4.96</td>\n",
       "      <td>4.78</td>\n",
       "      <td>5.04</td>\n",
       "    </tr>\n",
       "    <tr>\n",
       "      <th>6</th>\n",
       "      <td>Howard Jimenez</td>\n",
       "      <td>male</td>\n",
       "      <td>group E</td>\n",
       "      <td>some high school</td>\n",
       "      <td>standard</td>\n",
       "      <td>completed</td>\n",
       "      <td>5.86</td>\n",
       "      <td>5.50</td>\n",
       "      <td>5.56</td>\n",
       "      <td>5.64</td>\n",
       "    </tr>\n",
       "    <tr>\n",
       "      <th>7</th>\n",
       "      <td>Wayne Wilson</td>\n",
       "      <td>male</td>\n",
       "      <td>group B</td>\n",
       "      <td>some high school</td>\n",
       "      <td>standard</td>\n",
       "      <td>completed</td>\n",
       "      <td>6.64</td>\n",
       "      <td>6.16</td>\n",
       "      <td>6.22</td>\n",
       "      <td>6.34</td>\n",
       "    </tr>\n",
       "    <tr>\n",
       "      <th>...</th>\n",
       "      <td>...</td>\n",
       "      <td>...</td>\n",
       "      <td>...</td>\n",
       "      <td>...</td>\n",
       "      <td>...</td>\n",
       "      <td>...</td>\n",
       "      <td>...</td>\n",
       "      <td>...</td>\n",
       "      <td>...</td>\n",
       "      <td>...</td>\n",
       "    </tr>\n",
       "    <tr>\n",
       "      <th>1392</th>\n",
       "      <td>Richard Young</td>\n",
       "      <td>male</td>\n",
       "      <td>group D</td>\n",
       "      <td>high school</td>\n",
       "      <td>standard</td>\n",
       "      <td>none</td>\n",
       "      <td>5.14</td>\n",
       "      <td>5.50</td>\n",
       "      <td>5.26</td>\n",
       "      <td>5.3</td>\n",
       "    </tr>\n",
       "    <tr>\n",
       "      <th>1394</th>\n",
       "      <td>Wanda Russell</td>\n",
       "      <td>female</td>\n",
       "      <td>group B</td>\n",
       "      <td>high school</td>\n",
       "      <td>free/reduced</td>\n",
       "      <td>completed</td>\n",
       "      <td>2.38</td>\n",
       "      <td>3.64</td>\n",
       "      <td>3.16</td>\n",
       "      <td>R</td>\n",
       "    </tr>\n",
       "    <tr>\n",
       "      <th>1396</th>\n",
       "      <td>Marina Zeigler</td>\n",
       "      <td>female</td>\n",
       "      <td>group C</td>\n",
       "      <td>bachelor's degree</td>\n",
       "      <td>free/reduced</td>\n",
       "      <td>completed</td>\n",
       "      <td>4.96</td>\n",
       "      <td>5.44</td>\n",
       "      <td>5.86</td>\n",
       "      <td>5.42</td>\n",
       "    </tr>\n",
       "    <tr>\n",
       "      <th>1397</th>\n",
       "      <td>Laurie Carter</td>\n",
       "      <td>female</td>\n",
       "      <td>group B</td>\n",
       "      <td>some high school</td>\n",
       "      <td>standard</td>\n",
       "      <td>completed</td>\n",
       "      <td>4.24</td>\n",
       "      <td>4.66</td>\n",
       "      <td>4.72</td>\n",
       "      <td>4.54</td>\n",
       "    </tr>\n",
       "    <tr>\n",
       "      <th>1399</th>\n",
       "      <td>Amanda Perez</td>\n",
       "      <td>female</td>\n",
       "      <td>group A</td>\n",
       "      <td>high school</td>\n",
       "      <td>standard</td>\n",
       "      <td>completed</td>\n",
       "      <td>5.08</td>\n",
       "      <td>5.80</td>\n",
       "      <td>5.56</td>\n",
       "      <td>5.48</td>\n",
       "    </tr>\n",
       "  </tbody>\n",
       "</table>\n",
       "<p>1000 rows × 10 columns</p>\n",
       "</div>"
      ],
      "text/plain": [
       "                 names  gender race/ethnicity parental level of education  \\\n",
       "0        Rita Courtney  female        group B            some high school   \n",
       "3     Charles Linstrom    male        group A           bachelor's degree   \n",
       "5          Brian Young    male        group C            some high school   \n",
       "6       Howard Jimenez    male        group E            some high school   \n",
       "7         Wayne Wilson    male        group B            some high school   \n",
       "...                ...     ...            ...                         ...   \n",
       "1392     Richard Young    male        group D                 high school   \n",
       "1394     Wanda Russell  female        group B                 high school   \n",
       "1396    Marina Zeigler  female        group C           bachelor's degree   \n",
       "1397     Laurie Carter  female        group B            some high school   \n",
       "1399      Amanda Perez  female        group A                 high school   \n",
       "\n",
       "             lunch test preparation course  math score  reading score  \\\n",
       "0         standard                    none        3.22           3.76   \n",
       "3         standard               completed        5.80           5.68   \n",
       "5         standard                    none        5.38           4.96   \n",
       "6         standard               completed        5.86           5.50   \n",
       "7         standard               completed        6.64           6.16   \n",
       "...            ...                     ...         ...            ...   \n",
       "1392      standard                    none        5.14           5.50   \n",
       "1394  free/reduced               completed        2.38           3.64   \n",
       "1396  free/reduced               completed        4.96           5.44   \n",
       "1397      standard               completed        4.24           4.66   \n",
       "1399      standard               completed        5.08           5.80   \n",
       "\n",
       "      writing score   GPA  \n",
       "0              3.76     R  \n",
       "3              5.86  5.78  \n",
       "5              4.78  5.04  \n",
       "6              5.56  5.64  \n",
       "7              6.22  6.34  \n",
       "...             ...   ...  \n",
       "1392           5.26   5.3  \n",
       "1394           3.16     R  \n",
       "1396           5.86  5.42  \n",
       "1397           4.72  4.54  \n",
       "1399           5.56  5.48  \n",
       "\n",
       "[1000 rows x 10 columns]"
      ]
     },
     "execution_count": 145,
     "metadata": {},
     "output_type": "execute_result"
    }
   ],
   "source": [
    "df_grades_R"
   ]
  },
  {
   "cell_type": "markdown",
   "metadata": {
    "id": "nFP8X1L4B1v9"
   },
   "source": [
    "### 1.3.4 Información por Categorías [1 punto]"
   ]
  },
  {
   "cell_type": "markdown",
   "metadata": {
    "id": "XBhjYjJ0D8ar"
   },
   "source": [
    "Motivado por saber más sobre los datos, el Rector les solicita que genere una función que le permita comparar los promedios de diferentes **atributos categóricos** del DataFrame. Para esto su función deberá tener como entrada el DataFrame con todos los promedios (sin agregar las R's) y calcular el promedio **agrupando por etnias y el nivel educacional de los padres**.\n",
    "\n",
    "**To-Do:**\n",
    "\n",
    "- [ ] Hacer una función que nos permita obtener la comparación de promedios para dos atributos categóricos.\n",
    "- [ ] Cada uno de los grupos expuestos deben exponer el porcentaje de alumnos que representan en el colegio.\n",
    "- [ ] Comente lo que observa de los resultados.\n",
    "- [ ] Visualice los datos generados con [`px.sunburst`](https://plotly.com/python/sunburst-charts/ ).\n"
   ]
  },
  {
   "cell_type": "code",
   "execution_count": 149,
   "metadata": {
    "id": "0RPEcP31X6_d"
   },
   "outputs": [],
   "source": [
    "def compara_promedios(df_grades):\n",
    "    df_grades_agrupado = df_grades.groupby(['race/ethnicity', 'parental level of education']).mean().round(2)\n",
    "    count = df_grades.groupby(['race/ethnicity', 'parental level of education']).count()['names']\n",
    "    df_grades_agrupado['percentaje %'] = 100*count/len(df_grades)\n",
    "    return df_grades_agrupado"
   ]
  },
  {
   "cell_type": "code",
   "execution_count": 150,
   "metadata": {},
   "outputs": [
    {
     "data": {
      "text/html": [
       "<div>\n",
       "<style scoped>\n",
       "    .dataframe tbody tr th:only-of-type {\n",
       "        vertical-align: middle;\n",
       "    }\n",
       "\n",
       "    .dataframe tbody tr th {\n",
       "        vertical-align: top;\n",
       "    }\n",
       "\n",
       "    .dataframe thead th {\n",
       "        text-align: right;\n",
       "    }\n",
       "</style>\n",
       "<table border=\"1\" class=\"dataframe\">\n",
       "  <thead>\n",
       "    <tr style=\"text-align: right;\">\n",
       "      <th></th>\n",
       "      <th></th>\n",
       "      <th>math score</th>\n",
       "      <th>reading score</th>\n",
       "      <th>writing score</th>\n",
       "      <th>GPA</th>\n",
       "      <th>percentaje %</th>\n",
       "    </tr>\n",
       "    <tr>\n",
       "      <th>race/ethnicity</th>\n",
       "      <th>parental level of education</th>\n",
       "      <th></th>\n",
       "      <th></th>\n",
       "      <th></th>\n",
       "      <th></th>\n",
       "      <th></th>\n",
       "    </tr>\n",
       "  </thead>\n",
       "  <tbody>\n",
       "    <tr>\n",
       "      <th rowspan=\"6\" valign=\"top\">group A</th>\n",
       "      <th>associate's degree</th>\n",
       "      <td>4.66</td>\n",
       "      <td>5.02</td>\n",
       "      <td>4.81</td>\n",
       "      <td>4.83</td>\n",
       "      <td>1.4</td>\n",
       "    </tr>\n",
       "    <tr>\n",
       "      <th>bachelor's degree</th>\n",
       "      <td>5.03</td>\n",
       "      <td>5.08</td>\n",
       "      <td>5.10</td>\n",
       "      <td>5.07</td>\n",
       "      <td>1.2</td>\n",
       "    </tr>\n",
       "    <tr>\n",
       "      <th>high school</th>\n",
       "      <td>4.63</td>\n",
       "      <td>4.77</td>\n",
       "      <td>4.63</td>\n",
       "      <td>4.68</td>\n",
       "      <td>1.8</td>\n",
       "    </tr>\n",
       "    <tr>\n",
       "      <th>master's degree</th>\n",
       "      <td>4.46</td>\n",
       "      <td>4.88</td>\n",
       "      <td>5.06</td>\n",
       "      <td>4.80</td>\n",
       "      <td>0.3</td>\n",
       "    </tr>\n",
       "    <tr>\n",
       "      <th>some college</th>\n",
       "      <td>4.83</td>\n",
       "      <td>4.95</td>\n",
       "      <td>4.90</td>\n",
       "      <td>4.89</td>\n",
       "      <td>1.8</td>\n",
       "    </tr>\n",
       "    <tr>\n",
       "      <th>some high school</th>\n",
       "      <td>4.54</td>\n",
       "      <td>4.72</td>\n",
       "      <td>4.51</td>\n",
       "      <td>4.59</td>\n",
       "      <td>2.4</td>\n",
       "    </tr>\n",
       "    <tr>\n",
       "      <th rowspan=\"6\" valign=\"top\">group B</th>\n",
       "      <th>associate's degree</th>\n",
       "      <td>4.97</td>\n",
       "      <td>5.18</td>\n",
       "      <td>5.09</td>\n",
       "      <td>5.08</td>\n",
       "      <td>4.1</td>\n",
       "    </tr>\n",
       "    <tr>\n",
       "      <th>bachelor's degree</th>\n",
       "      <td>5.16</td>\n",
       "      <td>5.38</td>\n",
       "      <td>5.30</td>\n",
       "      <td>5.28</td>\n",
       "      <td>2.0</td>\n",
       "    </tr>\n",
       "    <tr>\n",
       "      <th>high school</th>\n",
       "      <td>4.59</td>\n",
       "      <td>4.81</td>\n",
       "      <td>4.68</td>\n",
       "      <td>4.69</td>\n",
       "      <td>4.8</td>\n",
       "    </tr>\n",
       "    <tr>\n",
       "      <th>master's degree</th>\n",
       "      <td>5.03</td>\n",
       "      <td>5.81</td>\n",
       "      <td>5.63</td>\n",
       "      <td>5.49</td>\n",
       "      <td>0.6</td>\n",
       "    </tr>\n",
       "    <tr>\n",
       "      <th>some college</th>\n",
       "      <td>4.79</td>\n",
       "      <td>4.95</td>\n",
       "      <td>4.85</td>\n",
       "      <td>4.86</td>\n",
       "      <td>3.7</td>\n",
       "    </tr>\n",
       "    <tr>\n",
       "      <th>some high school</th>\n",
       "      <td>4.71</td>\n",
       "      <td>4.99</td>\n",
       "      <td>4.88</td>\n",
       "      <td>4.86</td>\n",
       "      <td>3.8</td>\n",
       "    </tr>\n",
       "    <tr>\n",
       "      <th rowspan=\"6\" valign=\"top\">group C</th>\n",
       "      <th>associate's degree</th>\n",
       "      <td>5.00</td>\n",
       "      <td>5.27</td>\n",
       "      <td>5.22</td>\n",
       "      <td>5.16</td>\n",
       "      <td>7.8</td>\n",
       "    </tr>\n",
       "    <tr>\n",
       "      <th>bachelor's degree</th>\n",
       "      <td>5.09</td>\n",
       "      <td>5.54</td>\n",
       "      <td>5.55</td>\n",
       "      <td>5.39</td>\n",
       "      <td>4.0</td>\n",
       "    </tr>\n",
       "    <tr>\n",
       "      <th>high school</th>\n",
       "      <td>4.65</td>\n",
       "      <td>4.87</td>\n",
       "      <td>4.70</td>\n",
       "      <td>4.74</td>\n",
       "      <td>6.4</td>\n",
       "    </tr>\n",
       "    <tr>\n",
       "      <th>master's degree</th>\n",
       "      <td>5.02</td>\n",
       "      <td>5.23</td>\n",
       "      <td>5.17</td>\n",
       "      <td>5.14</td>\n",
       "      <td>1.9</td>\n",
       "    </tr>\n",
       "    <tr>\n",
       "      <th>some college</th>\n",
       "      <td>4.91</td>\n",
       "      <td>5.17</td>\n",
       "      <td>5.13</td>\n",
       "      <td>5.07</td>\n",
       "      <td>6.9</td>\n",
       "    </tr>\n",
       "    <tr>\n",
       "      <th>some high school</th>\n",
       "      <td>4.63</td>\n",
       "      <td>4.94</td>\n",
       "      <td>4.80</td>\n",
       "      <td>4.79</td>\n",
       "      <td>4.9</td>\n",
       "    </tr>\n",
       "    <tr>\n",
       "      <th rowspan=\"6\" valign=\"top\">group D</th>\n",
       "      <th>associate's degree</th>\n",
       "      <td>5.06</td>\n",
       "      <td>5.23</td>\n",
       "      <td>5.19</td>\n",
       "      <td>5.16</td>\n",
       "      <td>5.0</td>\n",
       "    </tr>\n",
       "    <tr>\n",
       "      <th>bachelor's degree</th>\n",
       "      <td>5.05</td>\n",
       "      <td>5.21</td>\n",
       "      <td>5.31</td>\n",
       "      <td>5.19</td>\n",
       "      <td>2.8</td>\n",
       "    </tr>\n",
       "    <tr>\n",
       "      <th>high school</th>\n",
       "      <td>4.77</td>\n",
       "      <td>4.86</td>\n",
       "      <td>4.79</td>\n",
       "      <td>4.81</td>\n",
       "      <td>4.4</td>\n",
       "    </tr>\n",
       "    <tr>\n",
       "      <th>master's degree</th>\n",
       "      <td>5.35</td>\n",
       "      <td>5.63</td>\n",
       "      <td>5.78</td>\n",
       "      <td>5.59</td>\n",
       "      <td>2.3</td>\n",
       "    </tr>\n",
       "    <tr>\n",
       "      <th>some college</th>\n",
       "      <td>5.12</td>\n",
       "      <td>5.25</td>\n",
       "      <td>5.30</td>\n",
       "      <td>5.23</td>\n",
       "      <td>6.7</td>\n",
       "    </tr>\n",
       "    <tr>\n",
       "      <th>some high school</th>\n",
       "      <td>5.01</td>\n",
       "      <td>5.20</td>\n",
       "      <td>5.15</td>\n",
       "      <td>5.12</td>\n",
       "      <td>5.0</td>\n",
       "    </tr>\n",
       "    <tr>\n",
       "      <th rowspan=\"6\" valign=\"top\">group E</th>\n",
       "      <th>associate's degree</th>\n",
       "      <td>5.49</td>\n",
       "      <td>5.43</td>\n",
       "      <td>5.39</td>\n",
       "      <td>5.44</td>\n",
       "      <td>3.9</td>\n",
       "    </tr>\n",
       "    <tr>\n",
       "      <th>bachelor's degree</th>\n",
       "      <td>5.59</td>\n",
       "      <td>5.49</td>\n",
       "      <td>5.52</td>\n",
       "      <td>5.54</td>\n",
       "      <td>1.8</td>\n",
       "    </tr>\n",
       "    <tr>\n",
       "      <th>high school</th>\n",
       "      <td>5.25</td>\n",
       "      <td>5.22</td>\n",
       "      <td>5.05</td>\n",
       "      <td>5.17</td>\n",
       "      <td>2.2</td>\n",
       "    </tr>\n",
       "    <tr>\n",
       "      <th>master's degree</th>\n",
       "      <td>5.48</td>\n",
       "      <td>5.93</td>\n",
       "      <td>5.83</td>\n",
       "      <td>5.74</td>\n",
       "      <td>0.8</td>\n",
       "    </tr>\n",
       "    <tr>\n",
       "      <th>some college</th>\n",
       "      <td>5.43</td>\n",
       "      <td>5.36</td>\n",
       "      <td>5.21</td>\n",
       "      <td>5.33</td>\n",
       "      <td>3.5</td>\n",
       "    </tr>\n",
       "    <tr>\n",
       "      <th>some high school</th>\n",
       "      <td>5.33</td>\n",
       "      <td>5.17</td>\n",
       "      <td>4.99</td>\n",
       "      <td>5.16</td>\n",
       "      <td>1.8</td>\n",
       "    </tr>\n",
       "  </tbody>\n",
       "</table>\n",
       "</div>"
      ],
      "text/plain": [
       "                                            math score  reading score  \\\n",
       "race/ethnicity parental level of education                              \n",
       "group A        associate's degree                 4.66           5.02   \n",
       "               bachelor's degree                  5.03           5.08   \n",
       "               high school                        4.63           4.77   \n",
       "               master's degree                    4.46           4.88   \n",
       "               some college                       4.83           4.95   \n",
       "               some high school                   4.54           4.72   \n",
       "group B        associate's degree                 4.97           5.18   \n",
       "               bachelor's degree                  5.16           5.38   \n",
       "               high school                        4.59           4.81   \n",
       "               master's degree                    5.03           5.81   \n",
       "               some college                       4.79           4.95   \n",
       "               some high school                   4.71           4.99   \n",
       "group C        associate's degree                 5.00           5.27   \n",
       "               bachelor's degree                  5.09           5.54   \n",
       "               high school                        4.65           4.87   \n",
       "               master's degree                    5.02           5.23   \n",
       "               some college                       4.91           5.17   \n",
       "               some high school                   4.63           4.94   \n",
       "group D        associate's degree                 5.06           5.23   \n",
       "               bachelor's degree                  5.05           5.21   \n",
       "               high school                        4.77           4.86   \n",
       "               master's degree                    5.35           5.63   \n",
       "               some college                       5.12           5.25   \n",
       "               some high school                   5.01           5.20   \n",
       "group E        associate's degree                 5.49           5.43   \n",
       "               bachelor's degree                  5.59           5.49   \n",
       "               high school                        5.25           5.22   \n",
       "               master's degree                    5.48           5.93   \n",
       "               some college                       5.43           5.36   \n",
       "               some high school                   5.33           5.17   \n",
       "\n",
       "                                            writing score   GPA  percentaje %  \n",
       "race/ethnicity parental level of education                                     \n",
       "group A        associate's degree                    4.81  4.83           1.4  \n",
       "               bachelor's degree                     5.10  5.07           1.2  \n",
       "               high school                           4.63  4.68           1.8  \n",
       "               master's degree                       5.06  4.80           0.3  \n",
       "               some college                          4.90  4.89           1.8  \n",
       "               some high school                      4.51  4.59           2.4  \n",
       "group B        associate's degree                    5.09  5.08           4.1  \n",
       "               bachelor's degree                     5.30  5.28           2.0  \n",
       "               high school                           4.68  4.69           4.8  \n",
       "               master's degree                       5.63  5.49           0.6  \n",
       "               some college                          4.85  4.86           3.7  \n",
       "               some high school                      4.88  4.86           3.8  \n",
       "group C        associate's degree                    5.22  5.16           7.8  \n",
       "               bachelor's degree                     5.55  5.39           4.0  \n",
       "               high school                           4.70  4.74           6.4  \n",
       "               master's degree                       5.17  5.14           1.9  \n",
       "               some college                          5.13  5.07           6.9  \n",
       "               some high school                      4.80  4.79           4.9  \n",
       "group D        associate's degree                    5.19  5.16           5.0  \n",
       "               bachelor's degree                     5.31  5.19           2.8  \n",
       "               high school                           4.79  4.81           4.4  \n",
       "               master's degree                       5.78  5.59           2.3  \n",
       "               some college                          5.30  5.23           6.7  \n",
       "               some high school                      5.15  5.12           5.0  \n",
       "group E        associate's degree                    5.39  5.44           3.9  \n",
       "               bachelor's degree                     5.52  5.54           1.8  \n",
       "               high school                           5.05  5.17           2.2  \n",
       "               master's degree                       5.83  5.74           0.8  \n",
       "               some college                          5.21  5.33           3.5  \n",
       "               some high school                      4.99  5.16           1.8  "
      ]
     },
     "execution_count": 150,
     "metadata": {},
     "output_type": "execute_result"
    }
   ],
   "source": [
    "compara_promedios(df_grades)"
   ]
  },
  {
   "cell_type": "markdown",
   "metadata": {
    "id": "fiKzYNbiYJft"
   },
   "source": [
    "**Respuesta Esperada:**"
   ]
  },
  {
   "cell_type": "markdown",
   "metadata": {
    "id": "KVlklaVeZca7"
   },
   "source": [
    "| race/ethnicity | parental level of education | math score | reading score | writing score |  GPA | percentaje % |\n",
    "|---------------:|----------------------------:|-----------:|--------------:|--------------:|-----:|-------------:|\n",
    "|     group A    |      associate's degree     |       4.66 |          5.02 |          4.81 | 4.83 |          1.4 |\n",
    "|                |      bachelor's degree      |       5.03 |          5.08 |          5.10 | 5.07 |          1.2 |\n",
    "|                |         high school         |       4.63 |          4.77 |          4.63 | 4.68 |          1.8 |\n",
    "|                |       master's degree       |       4.46 |          4.88 |          5.06 | 4.80 |          0.3 |\n",
    "|                |         some college        |       4.83 |          4.95 |          4.90 | 4.89 |          1.8 |\n",
    "|                |       some high school      |       4.54 |          4.72 |          4.51 | 4.59 |          2.4 |\n",
    "|     group B    |      associate's degree     |       4.97 |          5.18 |          5.09 | 5.08 |          4.1 |\n",
    "|                |      bachelor's degree      |       5.16 |          5.38 |          5.30 | 5.28 |          2.0 |\n",
    "|                |         high school         |       4.59 |          4.81 |          4.68 | 4.69 |          4.8 |\n",
    "|                |       master's degree       |       5.03 |          5.81 |          5.63 | 5.49 |          0.6 |\n",
    "|                |         some college        |       4.79 |          4.95 |          4.85 | 4.86 |          3.7 |\n",
    "|                |       some high school      |       4.71 |          4.99 |          4.88 | 4.86 |          3.8 |\n",
    "|     group C    |      associate's degree     |       5.00 |          5.27 |          5.22 | 5.16 |          7.8 |\n",
    "|                |      bachelor's degree      |       5.09 |          5.54 |          5.55 | 5.39 |          4.0 |\n",
    "|                |         high school         |       4.65 |          4.87 |          4.70 | 4.74 |          6.4 |\n",
    "|                |       master's degree       |       5.02 |          5.23 |          5.17 | 5.14 |          1.9 |\n",
    "|                |         some college        |       4.91 |          5.17 |          5.13 | 5.07 |          6.9 |\n",
    "|                |       some high school      |       4.63 |          4.94 |          4.80 | 4.79 |          4.9 |\n",
    "|     group D    |      associate's degree     |       5.06 |          5.23 |          5.19 | 5.16 |          5.0 |\n",
    "|                |      bachelor's degree      |       5.05 |          5.21 |          5.31 | 5.19 |          2.8 |\n",
    "|                |         high school         |       4.77 |          4.86 |          4.79 | 4.81 |          4.4 |\n",
    "|                |       master's degree       |       5.35 |          5.63 |          5.78 | 5.59 |          2.3 |\n",
    "|                |         some college        |       5.12 |          5.25 |          5.30 | 5.23 |          6.7 |\n",
    "|                |       some high school      |       5.01 |          5.20 |          5.15 | 5.12 |          5.0 |\n",
    "|     group E    |      associate's degree     |       5.49 |          5.43 |          5.39 | 5.44 |          3.9 |\n",
    "|                |      bachelor's degree      |       5.59 |          5.49 |          5.52 | 5.54 |          1.8 |\n",
    "|                |         high school         |       5.25 |          5.22 |          5.05 | 5.17 |          2.2 |\n",
    "|                |       master's degree       |       5.48 |          5.93 |          5.83 | 5.74 |          0.8 |\n",
    "|                |         some college        |       5.43 |          5.36 |          5.21 | 5.33 |          3.5 |\n",
    "|                |       some high school      |       5.33 |          5.17 |          4.99 | 5.16 |          1.8 |"
   ]
  },
  {
   "cell_type": "markdown",
   "metadata": {
    "id": "l-lLgxXpKKYL"
   },
   "source": [
    "> Visualice utilizando [`px.sunburst`](https://plotly.com/python/sunburst-charts/ ) el DataFrame obtenido en esta sección. "
   ]
  },
  {
   "cell_type": "code",
   "execution_count": 182,
   "metadata": {
    "id": "e1NYcBxNKUnN"
   },
   "outputs": [
    {
     "data": {
      "application/vnd.plotly.v1+json": {
       "config": {
        "plotlyServerURL": "https://plot.ly"
       },
       "data": [
        {
         "branchvalues": "total",
         "customdata": [
          [
           4.83
          ],
          [
           5.08
          ],
          [
           5.16
          ],
          [
           5.16
          ],
          [
           5.44
          ],
          [
           5.07
          ],
          [
           5.28
          ],
          [
           5.39
          ],
          [
           5.19
          ],
          [
           5.54
          ],
          [
           4.68
          ],
          [
           4.69
          ],
          [
           4.74
          ],
          [
           4.81
          ],
          [
           5.17
          ],
          [
           4.8
          ],
          [
           5.49
          ],
          [
           5.14
          ],
          [
           5.59
          ],
          [
           5.74
          ],
          [
           4.89
          ],
          [
           4.86
          ],
          [
           5.07
          ],
          [
           5.23
          ],
          [
           5.33
          ],
          [
           4.59
          ],
          [
           4.86
          ],
          [
           4.79
          ],
          [
           5.12
          ],
          [
           5.16
          ],
          [
           4.778426966292136
          ],
          [
           4.9286315789473685
          ],
          [
           5.027084639498433
          ],
          [
           5.1524427480916035
          ],
          [
           5.364071428571427
          ]
         ],
         "domain": {
          "x": [
           0,
           1
          ],
          "y": [
           0,
           1
          ]
         },
         "hovertemplate": "labels=%{label}<br>percentaje %=%{value}<br>parent=%{parent}<br>id=%{id}<br>GPA=%{color}<extra></extra>",
         "ids": [
          "group A/associate's degree",
          "group B/associate's degree",
          "group C/associate's degree",
          "group D/associate's degree",
          "group E/associate's degree",
          "group A/bachelor's degree",
          "group B/bachelor's degree",
          "group C/bachelor's degree",
          "group D/bachelor's degree",
          "group E/bachelor's degree",
          "group A/high school",
          "group B/high school",
          "group C/high school",
          "group D/high school",
          "group E/high school",
          "group A/master's degree",
          "group B/master's degree",
          "group C/master's degree",
          "group D/master's degree",
          "group E/master's degree",
          "group A/some college",
          "group B/some college",
          "group C/some college",
          "group D/some college",
          "group E/some college",
          "group A/some high school",
          "group B/some high school",
          "group C/some high school",
          "group D/some high school",
          "group E/some high school",
          "group A",
          "group B",
          "group C",
          "group D",
          "group E"
         ],
         "labels": [
          "associate's degree",
          "associate's degree",
          "associate's degree",
          "associate's degree",
          "associate's degree",
          "bachelor's degree",
          "bachelor's degree",
          "bachelor's degree",
          "bachelor's degree",
          "bachelor's degree",
          "high school",
          "high school",
          "high school",
          "high school",
          "high school",
          "master's degree",
          "master's degree",
          "master's degree",
          "master's degree",
          "master's degree",
          "some college",
          "some college",
          "some college",
          "some college",
          "some college",
          "some high school",
          "some high school",
          "some high school",
          "some high school",
          "some high school",
          "group A",
          "group B",
          "group C",
          "group D",
          "group E"
         ],
         "marker": {
          "coloraxis": "coloraxis",
          "colors": [
           4.83,
           5.08,
           5.16,
           5.16,
           5.44,
           5.07,
           5.28,
           5.39,
           5.19,
           5.54,
           4.68,
           4.69,
           4.74,
           4.81,
           5.17,
           4.8,
           5.49,
           5.14,
           5.59,
           5.74,
           4.89,
           4.86,
           5.07,
           5.23,
           5.33,
           4.59,
           4.86,
           4.79,
           5.12,
           5.16,
           4.778426966292136,
           4.9286315789473685,
           5.027084639498433,
           5.1524427480916035,
           5.364071428571427
          ]
         },
         "name": "",
         "parents": [
          "group A",
          "group B",
          "group C",
          "group D",
          "group E",
          "group A",
          "group B",
          "group C",
          "group D",
          "group E",
          "group A",
          "group B",
          "group C",
          "group D",
          "group E",
          "group A",
          "group B",
          "group C",
          "group D",
          "group E",
          "group A",
          "group B",
          "group C",
          "group D",
          "group E",
          "group A",
          "group B",
          "group C",
          "group D",
          "group E",
          "",
          "",
          "",
          "",
          ""
         ],
         "type": "sunburst",
         "values": [
          1.4,
          4.1,
          7.8,
          5,
          3.9,
          1.2,
          2,
          4,
          2.8,
          1.8,
          1.8,
          4.8,
          6.4,
          4.4,
          2.2,
          0.3,
          0.6,
          1.9,
          2.3,
          0.8,
          1.8,
          3.7,
          6.9,
          6.7,
          3.5,
          2.4,
          3.8,
          4.9,
          5,
          1.8,
          8.899999999999999,
          19,
          31.9,
          26.2,
          14.000000000000002
         ]
        }
       ],
       "layout": {
        "coloraxis": {
         "colorbar": {
          "title": {
           "text": "GPA"
          }
         },
         "colorscale": [
          [
           0,
           "#0d0887"
          ],
          [
           0.1111111111111111,
           "#46039f"
          ],
          [
           0.2222222222222222,
           "#7201a8"
          ],
          [
           0.3333333333333333,
           "#9c179e"
          ],
          [
           0.4444444444444444,
           "#bd3786"
          ],
          [
           0.5555555555555556,
           "#d8576b"
          ],
          [
           0.6666666666666666,
           "#ed7953"
          ],
          [
           0.7777777777777778,
           "#fb9f3a"
          ],
          [
           0.8888888888888888,
           "#fdca26"
          ],
          [
           1,
           "#f0f921"
          ]
         ]
        },
        "legend": {
         "tracegroupgap": 0
        },
        "margin": {
         "t": 60
        },
        "template": {
         "data": {
          "bar": [
           {
            "error_x": {
             "color": "#2a3f5f"
            },
            "error_y": {
             "color": "#2a3f5f"
            },
            "marker": {
             "line": {
              "color": "#E5ECF6",
              "width": 0.5
             }
            },
            "type": "bar"
           }
          ],
          "barpolar": [
           {
            "marker": {
             "line": {
              "color": "#E5ECF6",
              "width": 0.5
             }
            },
            "type": "barpolar"
           }
          ],
          "carpet": [
           {
            "aaxis": {
             "endlinecolor": "#2a3f5f",
             "gridcolor": "white",
             "linecolor": "white",
             "minorgridcolor": "white",
             "startlinecolor": "#2a3f5f"
            },
            "baxis": {
             "endlinecolor": "#2a3f5f",
             "gridcolor": "white",
             "linecolor": "white",
             "minorgridcolor": "white",
             "startlinecolor": "#2a3f5f"
            },
            "type": "carpet"
           }
          ],
          "choropleth": [
           {
            "colorbar": {
             "outlinewidth": 0,
             "ticks": ""
            },
            "type": "choropleth"
           }
          ],
          "contour": [
           {
            "colorbar": {
             "outlinewidth": 0,
             "ticks": ""
            },
            "colorscale": [
             [
              0,
              "#0d0887"
             ],
             [
              0.1111111111111111,
              "#46039f"
             ],
             [
              0.2222222222222222,
              "#7201a8"
             ],
             [
              0.3333333333333333,
              "#9c179e"
             ],
             [
              0.4444444444444444,
              "#bd3786"
             ],
             [
              0.5555555555555556,
              "#d8576b"
             ],
             [
              0.6666666666666666,
              "#ed7953"
             ],
             [
              0.7777777777777778,
              "#fb9f3a"
             ],
             [
              0.8888888888888888,
              "#fdca26"
             ],
             [
              1,
              "#f0f921"
             ]
            ],
            "type": "contour"
           }
          ],
          "contourcarpet": [
           {
            "colorbar": {
             "outlinewidth": 0,
             "ticks": ""
            },
            "type": "contourcarpet"
           }
          ],
          "heatmap": [
           {
            "colorbar": {
             "outlinewidth": 0,
             "ticks": ""
            },
            "colorscale": [
             [
              0,
              "#0d0887"
             ],
             [
              0.1111111111111111,
              "#46039f"
             ],
             [
              0.2222222222222222,
              "#7201a8"
             ],
             [
              0.3333333333333333,
              "#9c179e"
             ],
             [
              0.4444444444444444,
              "#bd3786"
             ],
             [
              0.5555555555555556,
              "#d8576b"
             ],
             [
              0.6666666666666666,
              "#ed7953"
             ],
             [
              0.7777777777777778,
              "#fb9f3a"
             ],
             [
              0.8888888888888888,
              "#fdca26"
             ],
             [
              1,
              "#f0f921"
             ]
            ],
            "type": "heatmap"
           }
          ],
          "heatmapgl": [
           {
            "colorbar": {
             "outlinewidth": 0,
             "ticks": ""
            },
            "colorscale": [
             [
              0,
              "#0d0887"
             ],
             [
              0.1111111111111111,
              "#46039f"
             ],
             [
              0.2222222222222222,
              "#7201a8"
             ],
             [
              0.3333333333333333,
              "#9c179e"
             ],
             [
              0.4444444444444444,
              "#bd3786"
             ],
             [
              0.5555555555555556,
              "#d8576b"
             ],
             [
              0.6666666666666666,
              "#ed7953"
             ],
             [
              0.7777777777777778,
              "#fb9f3a"
             ],
             [
              0.8888888888888888,
              "#fdca26"
             ],
             [
              1,
              "#f0f921"
             ]
            ],
            "type": "heatmapgl"
           }
          ],
          "histogram": [
           {
            "marker": {
             "colorbar": {
              "outlinewidth": 0,
              "ticks": ""
             }
            },
            "type": "histogram"
           }
          ],
          "histogram2d": [
           {
            "colorbar": {
             "outlinewidth": 0,
             "ticks": ""
            },
            "colorscale": [
             [
              0,
              "#0d0887"
             ],
             [
              0.1111111111111111,
              "#46039f"
             ],
             [
              0.2222222222222222,
              "#7201a8"
             ],
             [
              0.3333333333333333,
              "#9c179e"
             ],
             [
              0.4444444444444444,
              "#bd3786"
             ],
             [
              0.5555555555555556,
              "#d8576b"
             ],
             [
              0.6666666666666666,
              "#ed7953"
             ],
             [
              0.7777777777777778,
              "#fb9f3a"
             ],
             [
              0.8888888888888888,
              "#fdca26"
             ],
             [
              1,
              "#f0f921"
             ]
            ],
            "type": "histogram2d"
           }
          ],
          "histogram2dcontour": [
           {
            "colorbar": {
             "outlinewidth": 0,
             "ticks": ""
            },
            "colorscale": [
             [
              0,
              "#0d0887"
             ],
             [
              0.1111111111111111,
              "#46039f"
             ],
             [
              0.2222222222222222,
              "#7201a8"
             ],
             [
              0.3333333333333333,
              "#9c179e"
             ],
             [
              0.4444444444444444,
              "#bd3786"
             ],
             [
              0.5555555555555556,
              "#d8576b"
             ],
             [
              0.6666666666666666,
              "#ed7953"
             ],
             [
              0.7777777777777778,
              "#fb9f3a"
             ],
             [
              0.8888888888888888,
              "#fdca26"
             ],
             [
              1,
              "#f0f921"
             ]
            ],
            "type": "histogram2dcontour"
           }
          ],
          "mesh3d": [
           {
            "colorbar": {
             "outlinewidth": 0,
             "ticks": ""
            },
            "type": "mesh3d"
           }
          ],
          "parcoords": [
           {
            "line": {
             "colorbar": {
              "outlinewidth": 0,
              "ticks": ""
             }
            },
            "type": "parcoords"
           }
          ],
          "pie": [
           {
            "automargin": true,
            "type": "pie"
           }
          ],
          "scatter": [
           {
            "marker": {
             "colorbar": {
              "outlinewidth": 0,
              "ticks": ""
             }
            },
            "type": "scatter"
           }
          ],
          "scatter3d": [
           {
            "line": {
             "colorbar": {
              "outlinewidth": 0,
              "ticks": ""
             }
            },
            "marker": {
             "colorbar": {
              "outlinewidth": 0,
              "ticks": ""
             }
            },
            "type": "scatter3d"
           }
          ],
          "scattercarpet": [
           {
            "marker": {
             "colorbar": {
              "outlinewidth": 0,
              "ticks": ""
             }
            },
            "type": "scattercarpet"
           }
          ],
          "scattergeo": [
           {
            "marker": {
             "colorbar": {
              "outlinewidth": 0,
              "ticks": ""
             }
            },
            "type": "scattergeo"
           }
          ],
          "scattergl": [
           {
            "marker": {
             "colorbar": {
              "outlinewidth": 0,
              "ticks": ""
             }
            },
            "type": "scattergl"
           }
          ],
          "scattermapbox": [
           {
            "marker": {
             "colorbar": {
              "outlinewidth": 0,
              "ticks": ""
             }
            },
            "type": "scattermapbox"
           }
          ],
          "scatterpolar": [
           {
            "marker": {
             "colorbar": {
              "outlinewidth": 0,
              "ticks": ""
             }
            },
            "type": "scatterpolar"
           }
          ],
          "scatterpolargl": [
           {
            "marker": {
             "colorbar": {
              "outlinewidth": 0,
              "ticks": ""
             }
            },
            "type": "scatterpolargl"
           }
          ],
          "scatterternary": [
           {
            "marker": {
             "colorbar": {
              "outlinewidth": 0,
              "ticks": ""
             }
            },
            "type": "scatterternary"
           }
          ],
          "surface": [
           {
            "colorbar": {
             "outlinewidth": 0,
             "ticks": ""
            },
            "colorscale": [
             [
              0,
              "#0d0887"
             ],
             [
              0.1111111111111111,
              "#46039f"
             ],
             [
              0.2222222222222222,
              "#7201a8"
             ],
             [
              0.3333333333333333,
              "#9c179e"
             ],
             [
              0.4444444444444444,
              "#bd3786"
             ],
             [
              0.5555555555555556,
              "#d8576b"
             ],
             [
              0.6666666666666666,
              "#ed7953"
             ],
             [
              0.7777777777777778,
              "#fb9f3a"
             ],
             [
              0.8888888888888888,
              "#fdca26"
             ],
             [
              1,
              "#f0f921"
             ]
            ],
            "type": "surface"
           }
          ],
          "table": [
           {
            "cells": {
             "fill": {
              "color": "#EBF0F8"
             },
             "line": {
              "color": "white"
             }
            },
            "header": {
             "fill": {
              "color": "#C8D4E3"
             },
             "line": {
              "color": "white"
             }
            },
            "type": "table"
           }
          ]
         },
         "layout": {
          "annotationdefaults": {
           "arrowcolor": "#2a3f5f",
           "arrowhead": 0,
           "arrowwidth": 1
          },
          "autotypenumbers": "strict",
          "coloraxis": {
           "colorbar": {
            "outlinewidth": 0,
            "ticks": ""
           }
          },
          "colorscale": {
           "diverging": [
            [
             0,
             "#8e0152"
            ],
            [
             0.1,
             "#c51b7d"
            ],
            [
             0.2,
             "#de77ae"
            ],
            [
             0.3,
             "#f1b6da"
            ],
            [
             0.4,
             "#fde0ef"
            ],
            [
             0.5,
             "#f7f7f7"
            ],
            [
             0.6,
             "#e6f5d0"
            ],
            [
             0.7,
             "#b8e186"
            ],
            [
             0.8,
             "#7fbc41"
            ],
            [
             0.9,
             "#4d9221"
            ],
            [
             1,
             "#276419"
            ]
           ],
           "sequential": [
            [
             0,
             "#0d0887"
            ],
            [
             0.1111111111111111,
             "#46039f"
            ],
            [
             0.2222222222222222,
             "#7201a8"
            ],
            [
             0.3333333333333333,
             "#9c179e"
            ],
            [
             0.4444444444444444,
             "#bd3786"
            ],
            [
             0.5555555555555556,
             "#d8576b"
            ],
            [
             0.6666666666666666,
             "#ed7953"
            ],
            [
             0.7777777777777778,
             "#fb9f3a"
            ],
            [
             0.8888888888888888,
             "#fdca26"
            ],
            [
             1,
             "#f0f921"
            ]
           ],
           "sequentialminus": [
            [
             0,
             "#0d0887"
            ],
            [
             0.1111111111111111,
             "#46039f"
            ],
            [
             0.2222222222222222,
             "#7201a8"
            ],
            [
             0.3333333333333333,
             "#9c179e"
            ],
            [
             0.4444444444444444,
             "#bd3786"
            ],
            [
             0.5555555555555556,
             "#d8576b"
            ],
            [
             0.6666666666666666,
             "#ed7953"
            ],
            [
             0.7777777777777778,
             "#fb9f3a"
            ],
            [
             0.8888888888888888,
             "#fdca26"
            ],
            [
             1,
             "#f0f921"
            ]
           ]
          },
          "colorway": [
           "#636efa",
           "#EF553B",
           "#00cc96",
           "#ab63fa",
           "#FFA15A",
           "#19d3f3",
           "#FF6692",
           "#B6E880",
           "#FF97FF",
           "#FECB52"
          ],
          "font": {
           "color": "#2a3f5f"
          },
          "geo": {
           "bgcolor": "white",
           "lakecolor": "white",
           "landcolor": "#E5ECF6",
           "showlakes": true,
           "showland": true,
           "subunitcolor": "white"
          },
          "hoverlabel": {
           "align": "left"
          },
          "hovermode": "closest",
          "mapbox": {
           "style": "light"
          },
          "paper_bgcolor": "white",
          "plot_bgcolor": "#E5ECF6",
          "polar": {
           "angularaxis": {
            "gridcolor": "white",
            "linecolor": "white",
            "ticks": ""
           },
           "bgcolor": "#E5ECF6",
           "radialaxis": {
            "gridcolor": "white",
            "linecolor": "white",
            "ticks": ""
           }
          },
          "scene": {
           "xaxis": {
            "backgroundcolor": "#E5ECF6",
            "gridcolor": "white",
            "gridwidth": 2,
            "linecolor": "white",
            "showbackground": true,
            "ticks": "",
            "zerolinecolor": "white"
           },
           "yaxis": {
            "backgroundcolor": "#E5ECF6",
            "gridcolor": "white",
            "gridwidth": 2,
            "linecolor": "white",
            "showbackground": true,
            "ticks": "",
            "zerolinecolor": "white"
           },
           "zaxis": {
            "backgroundcolor": "#E5ECF6",
            "gridcolor": "white",
            "gridwidth": 2,
            "linecolor": "white",
            "showbackground": true,
            "ticks": "",
            "zerolinecolor": "white"
           }
          },
          "shapedefaults": {
           "line": {
            "color": "#2a3f5f"
           }
          },
          "ternary": {
           "aaxis": {
            "gridcolor": "white",
            "linecolor": "white",
            "ticks": ""
           },
           "baxis": {
            "gridcolor": "white",
            "linecolor": "white",
            "ticks": ""
           },
           "bgcolor": "#E5ECF6",
           "caxis": {
            "gridcolor": "white",
            "linecolor": "white",
            "ticks": ""
           }
          },
          "title": {
           "x": 0.05
          },
          "xaxis": {
           "automargin": true,
           "gridcolor": "white",
           "linecolor": "white",
           "ticks": "",
           "title": {
            "standoff": 15
           },
           "zerolinecolor": "white",
           "zerolinewidth": 2
          },
          "yaxis": {
           "automargin": true,
           "gridcolor": "white",
           "linecolor": "white",
           "ticks": "",
           "title": {
            "standoff": 15
           },
           "zerolinecolor": "white",
           "zerolinewidth": 2
          }
         }
        }
       }
      },
      "text/html": [
       "<div>                            <div id=\"83ebdb86-7970-4623-9444-caeeb024aab4\" class=\"plotly-graph-div\" style=\"height:525px; width:100%;\"></div>            <script type=\"text/javascript\">                require([\"plotly\"], function(Plotly) {                    window.PLOTLYENV=window.PLOTLYENV || {};                                    if (document.getElementById(\"83ebdb86-7970-4623-9444-caeeb024aab4\")) {                    Plotly.newPlot(                        \"83ebdb86-7970-4623-9444-caeeb024aab4\",                        [{\"branchvalues\": \"total\", \"customdata\": [[4.83], [5.08], [5.16], [5.16], [5.44], [5.07], [5.28], [5.39], [5.19], [5.54], [4.68], [4.69], [4.74], [4.81], [5.17], [4.8], [5.49], [5.14], [5.59], [5.74], [4.89], [4.86], [5.07], [5.23], [5.33], [4.59], [4.86], [4.79], [5.12], [5.16], [4.778426966292136], [4.9286315789473685], [5.027084639498433], [5.1524427480916035], [5.364071428571427]], \"domain\": {\"x\": [0.0, 1.0], \"y\": [0.0, 1.0]}, \"hovertemplate\": \"labels=%{label}<br>percentaje %=%{value}<br>parent=%{parent}<br>id=%{id}<br>GPA=%{color}<extra></extra>\", \"ids\": [\"group A/associate's degree\", \"group B/associate's degree\", \"group C/associate's degree\", \"group D/associate's degree\", \"group E/associate's degree\", \"group A/bachelor's degree\", \"group B/bachelor's degree\", \"group C/bachelor's degree\", \"group D/bachelor's degree\", \"group E/bachelor's degree\", \"group A/high school\", \"group B/high school\", \"group C/high school\", \"group D/high school\", \"group E/high school\", \"group A/master's degree\", \"group B/master's degree\", \"group C/master's degree\", \"group D/master's degree\", \"group E/master's degree\", \"group A/some college\", \"group B/some college\", \"group C/some college\", \"group D/some college\", \"group E/some college\", \"group A/some high school\", \"group B/some high school\", \"group C/some high school\", \"group D/some high school\", \"group E/some high school\", \"group A\", \"group B\", \"group C\", \"group D\", \"group E\"], \"labels\": [\"associate's degree\", \"associate's degree\", \"associate's degree\", \"associate's degree\", \"associate's degree\", \"bachelor's degree\", \"bachelor's degree\", \"bachelor's degree\", \"bachelor's degree\", \"bachelor's degree\", \"high school\", \"high school\", \"high school\", \"high school\", \"high school\", \"master's degree\", \"master's degree\", \"master's degree\", \"master's degree\", \"master's degree\", \"some college\", \"some college\", \"some college\", \"some college\", \"some college\", \"some high school\", \"some high school\", \"some high school\", \"some high school\", \"some high school\", \"group A\", \"group B\", \"group C\", \"group D\", \"group E\"], \"marker\": {\"coloraxis\": \"coloraxis\", \"colors\": [4.83, 5.08, 5.16, 5.16, 5.44, 5.07, 5.28, 5.39, 5.19, 5.54, 4.68, 4.69, 4.74, 4.81, 5.17, 4.8, 5.49, 5.14, 5.59, 5.74, 4.89, 4.86, 5.07, 5.23, 5.33, 4.59, 4.86, 4.79, 5.12, 5.16, 4.778426966292136, 4.9286315789473685, 5.027084639498433, 5.1524427480916035, 5.364071428571427]}, \"name\": \"\", \"parents\": [\"group A\", \"group B\", \"group C\", \"group D\", \"group E\", \"group A\", \"group B\", \"group C\", \"group D\", \"group E\", \"group A\", \"group B\", \"group C\", \"group D\", \"group E\", \"group A\", \"group B\", \"group C\", \"group D\", \"group E\", \"group A\", \"group B\", \"group C\", \"group D\", \"group E\", \"group A\", \"group B\", \"group C\", \"group D\", \"group E\", \"\", \"\", \"\", \"\", \"\"], \"type\": \"sunburst\", \"values\": [1.4, 4.1, 7.8, 5.0, 3.9, 1.2, 2.0, 4.0, 2.8, 1.8, 1.8, 4.8, 6.4, 4.4, 2.2, 0.3, 0.6, 1.9, 2.3, 0.8, 1.8, 3.7, 6.9, 6.7, 3.5, 2.4, 3.8, 4.9, 5.0, 1.8, 8.899999999999999, 19.0, 31.9, 26.2, 14.000000000000002]}],                        {\"coloraxis\": {\"colorbar\": {\"title\": {\"text\": \"GPA\"}}, \"colorscale\": [[0.0, \"#0d0887\"], [0.1111111111111111, \"#46039f\"], [0.2222222222222222, \"#7201a8\"], [0.3333333333333333, \"#9c179e\"], [0.4444444444444444, \"#bd3786\"], [0.5555555555555556, \"#d8576b\"], [0.6666666666666666, \"#ed7953\"], [0.7777777777777778, \"#fb9f3a\"], [0.8888888888888888, \"#fdca26\"], [1.0, \"#f0f921\"]]}, \"legend\": {\"tracegroupgap\": 0}, \"margin\": {\"t\": 60}, \"template\": {\"data\": {\"bar\": [{\"error_x\": {\"color\": \"#2a3f5f\"}, \"error_y\": {\"color\": \"#2a3f5f\"}, \"marker\": {\"line\": {\"color\": \"#E5ECF6\", \"width\": 0.5}}, \"type\": \"bar\"}], \"barpolar\": [{\"marker\": {\"line\": {\"color\": \"#E5ECF6\", \"width\": 0.5}}, \"type\": \"barpolar\"}], \"carpet\": [{\"aaxis\": {\"endlinecolor\": \"#2a3f5f\", \"gridcolor\": \"white\", \"linecolor\": \"white\", \"minorgridcolor\": \"white\", \"startlinecolor\": \"#2a3f5f\"}, \"baxis\": {\"endlinecolor\": \"#2a3f5f\", \"gridcolor\": \"white\", \"linecolor\": \"white\", \"minorgridcolor\": \"white\", \"startlinecolor\": \"#2a3f5f\"}, \"type\": \"carpet\"}], \"choropleth\": [{\"colorbar\": {\"outlinewidth\": 0, \"ticks\": \"\"}, \"type\": \"choropleth\"}], \"contour\": [{\"colorbar\": {\"outlinewidth\": 0, \"ticks\": \"\"}, \"colorscale\": [[0.0, \"#0d0887\"], [0.1111111111111111, \"#46039f\"], [0.2222222222222222, \"#7201a8\"], [0.3333333333333333, \"#9c179e\"], [0.4444444444444444, \"#bd3786\"], [0.5555555555555556, \"#d8576b\"], [0.6666666666666666, \"#ed7953\"], [0.7777777777777778, \"#fb9f3a\"], [0.8888888888888888, \"#fdca26\"], [1.0, \"#f0f921\"]], \"type\": \"contour\"}], \"contourcarpet\": [{\"colorbar\": {\"outlinewidth\": 0, \"ticks\": \"\"}, \"type\": \"contourcarpet\"}], \"heatmap\": [{\"colorbar\": {\"outlinewidth\": 0, \"ticks\": \"\"}, \"colorscale\": [[0.0, \"#0d0887\"], [0.1111111111111111, \"#46039f\"], [0.2222222222222222, \"#7201a8\"], [0.3333333333333333, \"#9c179e\"], [0.4444444444444444, \"#bd3786\"], [0.5555555555555556, \"#d8576b\"], [0.6666666666666666, \"#ed7953\"], [0.7777777777777778, \"#fb9f3a\"], [0.8888888888888888, \"#fdca26\"], [1.0, \"#f0f921\"]], \"type\": \"heatmap\"}], \"heatmapgl\": [{\"colorbar\": {\"outlinewidth\": 0, \"ticks\": \"\"}, \"colorscale\": [[0.0, \"#0d0887\"], [0.1111111111111111, \"#46039f\"], [0.2222222222222222, \"#7201a8\"], [0.3333333333333333, \"#9c179e\"], [0.4444444444444444, \"#bd3786\"], [0.5555555555555556, \"#d8576b\"], [0.6666666666666666, \"#ed7953\"], [0.7777777777777778, \"#fb9f3a\"], [0.8888888888888888, \"#fdca26\"], [1.0, \"#f0f921\"]], \"type\": \"heatmapgl\"}], \"histogram\": [{\"marker\": {\"colorbar\": {\"outlinewidth\": 0, \"ticks\": \"\"}}, \"type\": \"histogram\"}], \"histogram2d\": [{\"colorbar\": {\"outlinewidth\": 0, \"ticks\": \"\"}, \"colorscale\": [[0.0, \"#0d0887\"], [0.1111111111111111, \"#46039f\"], [0.2222222222222222, \"#7201a8\"], [0.3333333333333333, \"#9c179e\"], [0.4444444444444444, \"#bd3786\"], [0.5555555555555556, \"#d8576b\"], [0.6666666666666666, \"#ed7953\"], [0.7777777777777778, \"#fb9f3a\"], [0.8888888888888888, \"#fdca26\"], [1.0, \"#f0f921\"]], \"type\": \"histogram2d\"}], \"histogram2dcontour\": [{\"colorbar\": {\"outlinewidth\": 0, \"ticks\": \"\"}, \"colorscale\": [[0.0, \"#0d0887\"], [0.1111111111111111, \"#46039f\"], [0.2222222222222222, \"#7201a8\"], [0.3333333333333333, \"#9c179e\"], [0.4444444444444444, \"#bd3786\"], [0.5555555555555556, \"#d8576b\"], [0.6666666666666666, \"#ed7953\"], [0.7777777777777778, \"#fb9f3a\"], [0.8888888888888888, \"#fdca26\"], [1.0, \"#f0f921\"]], \"type\": \"histogram2dcontour\"}], \"mesh3d\": [{\"colorbar\": {\"outlinewidth\": 0, \"ticks\": \"\"}, \"type\": \"mesh3d\"}], \"parcoords\": [{\"line\": {\"colorbar\": {\"outlinewidth\": 0, \"ticks\": \"\"}}, \"type\": \"parcoords\"}], \"pie\": [{\"automargin\": true, \"type\": \"pie\"}], \"scatter\": [{\"marker\": {\"colorbar\": {\"outlinewidth\": 0, \"ticks\": \"\"}}, \"type\": \"scatter\"}], \"scatter3d\": [{\"line\": {\"colorbar\": {\"outlinewidth\": 0, \"ticks\": \"\"}}, \"marker\": {\"colorbar\": {\"outlinewidth\": 0, \"ticks\": \"\"}}, \"type\": \"scatter3d\"}], \"scattercarpet\": [{\"marker\": {\"colorbar\": {\"outlinewidth\": 0, \"ticks\": \"\"}}, \"type\": \"scattercarpet\"}], \"scattergeo\": [{\"marker\": {\"colorbar\": {\"outlinewidth\": 0, \"ticks\": \"\"}}, \"type\": \"scattergeo\"}], \"scattergl\": [{\"marker\": {\"colorbar\": {\"outlinewidth\": 0, \"ticks\": \"\"}}, \"type\": \"scattergl\"}], \"scattermapbox\": [{\"marker\": {\"colorbar\": {\"outlinewidth\": 0, \"ticks\": \"\"}}, \"type\": \"scattermapbox\"}], \"scatterpolar\": [{\"marker\": {\"colorbar\": {\"outlinewidth\": 0, \"ticks\": \"\"}}, \"type\": \"scatterpolar\"}], \"scatterpolargl\": [{\"marker\": {\"colorbar\": {\"outlinewidth\": 0, \"ticks\": \"\"}}, \"type\": \"scatterpolargl\"}], \"scatterternary\": [{\"marker\": {\"colorbar\": {\"outlinewidth\": 0, \"ticks\": \"\"}}, \"type\": \"scatterternary\"}], \"surface\": [{\"colorbar\": {\"outlinewidth\": 0, \"ticks\": \"\"}, \"colorscale\": [[0.0, \"#0d0887\"], [0.1111111111111111, \"#46039f\"], [0.2222222222222222, \"#7201a8\"], [0.3333333333333333, \"#9c179e\"], [0.4444444444444444, \"#bd3786\"], [0.5555555555555556, \"#d8576b\"], [0.6666666666666666, \"#ed7953\"], [0.7777777777777778, \"#fb9f3a\"], [0.8888888888888888, \"#fdca26\"], [1.0, \"#f0f921\"]], \"type\": \"surface\"}], \"table\": [{\"cells\": {\"fill\": {\"color\": \"#EBF0F8\"}, \"line\": {\"color\": \"white\"}}, \"header\": {\"fill\": {\"color\": \"#C8D4E3\"}, \"line\": {\"color\": \"white\"}}, \"type\": \"table\"}]}, \"layout\": {\"annotationdefaults\": {\"arrowcolor\": \"#2a3f5f\", \"arrowhead\": 0, \"arrowwidth\": 1}, \"autotypenumbers\": \"strict\", \"coloraxis\": {\"colorbar\": {\"outlinewidth\": 0, \"ticks\": \"\"}}, \"colorscale\": {\"diverging\": [[0, \"#8e0152\"], [0.1, \"#c51b7d\"], [0.2, \"#de77ae\"], [0.3, \"#f1b6da\"], [0.4, \"#fde0ef\"], [0.5, \"#f7f7f7\"], [0.6, \"#e6f5d0\"], [0.7, \"#b8e186\"], [0.8, \"#7fbc41\"], [0.9, \"#4d9221\"], [1, \"#276419\"]], \"sequential\": [[0.0, \"#0d0887\"], [0.1111111111111111, \"#46039f\"], [0.2222222222222222, \"#7201a8\"], [0.3333333333333333, \"#9c179e\"], [0.4444444444444444, \"#bd3786\"], [0.5555555555555556, \"#d8576b\"], [0.6666666666666666, \"#ed7953\"], [0.7777777777777778, \"#fb9f3a\"], [0.8888888888888888, \"#fdca26\"], [1.0, \"#f0f921\"]], \"sequentialminus\": [[0.0, \"#0d0887\"], [0.1111111111111111, \"#46039f\"], [0.2222222222222222, \"#7201a8\"], [0.3333333333333333, \"#9c179e\"], [0.4444444444444444, \"#bd3786\"], [0.5555555555555556, \"#d8576b\"], [0.6666666666666666, \"#ed7953\"], [0.7777777777777778, \"#fb9f3a\"], [0.8888888888888888, \"#fdca26\"], [1.0, \"#f0f921\"]]}, \"colorway\": [\"#636efa\", \"#EF553B\", \"#00cc96\", \"#ab63fa\", \"#FFA15A\", \"#19d3f3\", \"#FF6692\", \"#B6E880\", \"#FF97FF\", \"#FECB52\"], \"font\": {\"color\": \"#2a3f5f\"}, \"geo\": {\"bgcolor\": \"white\", \"lakecolor\": \"white\", \"landcolor\": \"#E5ECF6\", \"showlakes\": true, \"showland\": true, \"subunitcolor\": \"white\"}, \"hoverlabel\": {\"align\": \"left\"}, \"hovermode\": \"closest\", \"mapbox\": {\"style\": \"light\"}, \"paper_bgcolor\": \"white\", \"plot_bgcolor\": \"#E5ECF6\", \"polar\": {\"angularaxis\": {\"gridcolor\": \"white\", \"linecolor\": \"white\", \"ticks\": \"\"}, \"bgcolor\": \"#E5ECF6\", \"radialaxis\": {\"gridcolor\": \"white\", \"linecolor\": \"white\", \"ticks\": \"\"}}, \"scene\": {\"xaxis\": {\"backgroundcolor\": \"#E5ECF6\", \"gridcolor\": \"white\", \"gridwidth\": 2, \"linecolor\": \"white\", \"showbackground\": true, \"ticks\": \"\", \"zerolinecolor\": \"white\"}, \"yaxis\": {\"backgroundcolor\": \"#E5ECF6\", \"gridcolor\": \"white\", \"gridwidth\": 2, \"linecolor\": \"white\", \"showbackground\": true, \"ticks\": \"\", \"zerolinecolor\": \"white\"}, \"zaxis\": {\"backgroundcolor\": \"#E5ECF6\", \"gridcolor\": \"white\", \"gridwidth\": 2, \"linecolor\": \"white\", \"showbackground\": true, \"ticks\": \"\", \"zerolinecolor\": \"white\"}}, \"shapedefaults\": {\"line\": {\"color\": \"#2a3f5f\"}}, \"ternary\": {\"aaxis\": {\"gridcolor\": \"white\", \"linecolor\": \"white\", \"ticks\": \"\"}, \"baxis\": {\"gridcolor\": \"white\", \"linecolor\": \"white\", \"ticks\": \"\"}, \"bgcolor\": \"#E5ECF6\", \"caxis\": {\"gridcolor\": \"white\", \"linecolor\": \"white\", \"ticks\": \"\"}}, \"title\": {\"x\": 0.05}, \"xaxis\": {\"automargin\": true, \"gridcolor\": \"white\", \"linecolor\": \"white\", \"ticks\": \"\", \"title\": {\"standoff\": 15}, \"zerolinecolor\": \"white\", \"zerolinewidth\": 2}, \"yaxis\": {\"automargin\": true, \"gridcolor\": \"white\", \"linecolor\": \"white\", \"ticks\": \"\", \"title\": {\"standoff\": 15}, \"zerolinecolor\": \"white\", \"zerolinewidth\": 2}}}},                        {\"responsive\": true}                    ).then(function(){\n",
       "                            \n",
       "var gd = document.getElementById('83ebdb86-7970-4623-9444-caeeb024aab4');\n",
       "var x = new MutationObserver(function (mutations, observer) {{\n",
       "        var display = window.getComputedStyle(gd).display;\n",
       "        if (!display || display === 'none') {{\n",
       "            console.log([gd, 'removed!']);\n",
       "            Plotly.purge(gd);\n",
       "            observer.disconnect();\n",
       "        }}\n",
       "}});\n",
       "\n",
       "// Listen for the removal of the full notebook cells\n",
       "var notebookContainer = gd.closest('#notebook-container');\n",
       "if (notebookContainer) {{\n",
       "    x.observe(notebookContainer, {childList: true});\n",
       "}}\n",
       "\n",
       "// Listen for the clearing of the current output cell\n",
       "var outputEl = gd.closest('.output');\n",
       "if (outputEl) {{\n",
       "    x.observe(outputEl, {childList: true});\n",
       "}}\n",
       "\n",
       "                        })                };                });            </script>        </div>"
      ]
     },
     "metadata": {},
     "output_type": "display_data"
    }
   ],
   "source": [
    "df =  compara_promedios(df_grades).reset_index()\n",
    "px.sunburst(df, path=['race/ethnicity', 'parental level of education'], \n",
    "                  values='percentaje %', color = 'GPA')"
   ]
  },
  {
   "cell_type": "markdown",
   "metadata": {
    "id": "loUzspGXijp1"
   },
   "source": [
    "> Comente los resultados obtenidos. ¿Hay alguna diferencia entre los grupos graficados?, ¿Es útil esta visualización?"
   ]
  },
  {
   "cell_type": "markdown",
   "metadata": {
    "id": "jb9sjfJlwolM"
   },
   "source": [
    "**Justifique:**"
   ]
  },
  {
   "cell_type": "markdown",
   "metadata": {
    "id": "vDl7h7JbwrKh"
   },
   "source": [
    "```\n",
    "Efectivamente hay diferencia entre los grupos graficados, en el primer nivel de la variable 'race/ethnicity', se pueden apreciar resultados diferentes entre los grupos, por ejemplo el grupo E tiene un promedio de GPA de 5.36 y el grupo A tiene un promedio de 4.78, lo cuál es bastante diferencia, es más el grupo A representa un 8.9% de los estudiantes y el grupo E un 14%, aunque el grupo que tiene un porcentaje mayor es el C, con un 31.9 de los estudiantes.\n",
    "Ahora, si nos vamos a la segunda variable 'parental level of education', nuevamente se evidencian resultados diferentes entre los alumnos que pertenecen a uno y otro.\n",
    "\n",
    "Es muy útil la visualización, rápidamente de manera interactiva muestra las diferencias entre los diferentes grupos, y los diferentes niveles de educación de sus padres, además la barra de colores al lado nos favorece para buscar rápidamente los que tienen menores o mayores GPA e incluso nos da una idea de la distribución de los valores de GPA.\n",
    "```"
   ]
  },
  {
   "cell_type": "markdown",
   "metadata": {
    "id": "PzF4GclNrwAt"
   },
   "source": [
    "### 1.3.5 Combinar Dataset [1 punto]"
   ]
  },
  {
   "cell_type": "markdown",
   "metadata": {
    "id": "8p4P1F9q06SP"
   },
   "source": [
    "Al notificarle los resultados obtenidos en la etapa de descubrimiento a Don Caguayo, este les informa que ha encontrado un Excel con nueva información, en esta se tienen los valores de dos asignaturas y desea que la unan con el dataset original (```students_grades.csv```).\n",
    "\n",
    "Busque la forma de unir ambos DataFrames, para esto deberá anexar las columnas de ```history score``` y ```science score``` al final del DataFrame original.\n",
    "\n",
    "**To-Do**\n",
    "\n",
    "- [ ] Unir DataFrame ```students_grades.csv``` y ```other_grades.csv```."
   ]
  },
  {
   "cell_type": "code",
   "execution_count": 207,
   "metadata": {
    "id": "WKBJJqLJ0DXN"
   },
   "outputs": [],
   "source": [
    "df_other_grades = pd.read_csv(dir+'other_grades.csv')\n",
    "df_grades = pd.read_csv(dir+'students_grades.csv')"
   ]
  },
  {
   "cell_type": "code",
   "execution_count": 208,
   "metadata": {
    "id": "049S-To9X8_Q"
   },
   "outputs": [
    {
     "data": {
      "text/html": [
       "<div>\n",
       "<style scoped>\n",
       "    .dataframe tbody tr th:only-of-type {\n",
       "        vertical-align: middle;\n",
       "    }\n",
       "\n",
       "    .dataframe tbody tr th {\n",
       "        vertical-align: top;\n",
       "    }\n",
       "\n",
       "    .dataframe thead th {\n",
       "        text-align: right;\n",
       "    }\n",
       "</style>\n",
       "<table border=\"1\" class=\"dataframe\">\n",
       "  <thead>\n",
       "    <tr style=\"text-align: right;\">\n",
       "      <th></th>\n",
       "      <th>names</th>\n",
       "      <th>gender</th>\n",
       "      <th>race/ethnicity</th>\n",
       "      <th>parental level of education</th>\n",
       "      <th>lunch</th>\n",
       "      <th>test preparation course</th>\n",
       "      <th>math score</th>\n",
       "      <th>reading score</th>\n",
       "      <th>writing score</th>\n",
       "      <th>science score</th>\n",
       "      <th>history score</th>\n",
       "    </tr>\n",
       "  </thead>\n",
       "  <tbody>\n",
       "    <tr>\n",
       "      <th>0</th>\n",
       "      <td>Rita Courtney</td>\n",
       "      <td>female</td>\n",
       "      <td>group B</td>\n",
       "      <td>some high school</td>\n",
       "      <td>standard</td>\n",
       "      <td>none</td>\n",
       "      <td>37.0</td>\n",
       "      <td>46.0</td>\n",
       "      <td>46.0</td>\n",
       "      <td>25</td>\n",
       "      <td>3.8</td>\n",
       "    </tr>\n",
       "    <tr>\n",
       "      <th>1</th>\n",
       "      <td>Rita Courtney</td>\n",
       "      <td>female</td>\n",
       "      <td>group B</td>\n",
       "      <td>some high school</td>\n",
       "      <td>standard</td>\n",
       "      <td>none</td>\n",
       "      <td>193.0</td>\n",
       "      <td>193.0</td>\n",
       "      <td>193.0</td>\n",
       "      <td>25</td>\n",
       "      <td>3.8</td>\n",
       "    </tr>\n",
       "    <tr>\n",
       "      <th>2</th>\n",
       "      <td>Charles Linstrom</td>\n",
       "      <td>male</td>\n",
       "      <td>group A</td>\n",
       "      <td>bachelor's degree</td>\n",
       "      <td>standard</td>\n",
       "      <td>completed</td>\n",
       "      <td>80.0</td>\n",
       "      <td>78.0</td>\n",
       "      <td>81.0</td>\n",
       "      <td>56</td>\n",
       "      <td>5.2</td>\n",
       "    </tr>\n",
       "    <tr>\n",
       "      <th>3</th>\n",
       "      <td>Brian Young</td>\n",
       "      <td>male</td>\n",
       "      <td>group C</td>\n",
       "      <td>some high school</td>\n",
       "      <td>standard</td>\n",
       "      <td>none</td>\n",
       "      <td>73.0</td>\n",
       "      <td>66.0</td>\n",
       "      <td>63.0</td>\n",
       "      <td>58</td>\n",
       "      <td>3.8</td>\n",
       "    </tr>\n",
       "    <tr>\n",
       "      <th>4</th>\n",
       "      <td>Brian Young</td>\n",
       "      <td>male</td>\n",
       "      <td>group C</td>\n",
       "      <td>some high school</td>\n",
       "      <td>standard</td>\n",
       "      <td>none</td>\n",
       "      <td>NaN</td>\n",
       "      <td>NaN</td>\n",
       "      <td>NaN</td>\n",
       "      <td>58</td>\n",
       "      <td>3.8</td>\n",
       "    </tr>\n",
       "    <tr>\n",
       "      <th>...</th>\n",
       "      <td>...</td>\n",
       "      <td>...</td>\n",
       "      <td>...</td>\n",
       "      <td>...</td>\n",
       "      <td>...</td>\n",
       "      <td>...</td>\n",
       "      <td>...</td>\n",
       "      <td>...</td>\n",
       "      <td>...</td>\n",
       "      <td>...</td>\n",
       "      <td>...</td>\n",
       "    </tr>\n",
       "    <tr>\n",
       "      <th>1242</th>\n",
       "      <td>Richard Young</td>\n",
       "      <td>male</td>\n",
       "      <td>group D</td>\n",
       "      <td>high school</td>\n",
       "      <td>standard</td>\n",
       "      <td>none</td>\n",
       "      <td>69.0</td>\n",
       "      <td>75.0</td>\n",
       "      <td>71.0</td>\n",
       "      <td>62</td>\n",
       "      <td>4.2</td>\n",
       "    </tr>\n",
       "    <tr>\n",
       "      <th>1243</th>\n",
       "      <td>Wanda Russell</td>\n",
       "      <td>female</td>\n",
       "      <td>group B</td>\n",
       "      <td>high school</td>\n",
       "      <td>free/reduced</td>\n",
       "      <td>completed</td>\n",
       "      <td>23.0</td>\n",
       "      <td>44.0</td>\n",
       "      <td>36.0</td>\n",
       "      <td>16</td>\n",
       "      <td>3.6</td>\n",
       "    </tr>\n",
       "    <tr>\n",
       "      <th>1244</th>\n",
       "      <td>Marina Zeigler</td>\n",
       "      <td>female</td>\n",
       "      <td>group C</td>\n",
       "      <td>bachelor's degree</td>\n",
       "      <td>free/reduced</td>\n",
       "      <td>completed</td>\n",
       "      <td>66.0</td>\n",
       "      <td>74.0</td>\n",
       "      <td>81.0</td>\n",
       "      <td>59</td>\n",
       "      <td>4.1</td>\n",
       "    </tr>\n",
       "    <tr>\n",
       "      <th>1245</th>\n",
       "      <td>Laurie Carter</td>\n",
       "      <td>female</td>\n",
       "      <td>group B</td>\n",
       "      <td>some high school</td>\n",
       "      <td>standard</td>\n",
       "      <td>completed</td>\n",
       "      <td>54.0</td>\n",
       "      <td>61.0</td>\n",
       "      <td>62.0</td>\n",
       "      <td>43</td>\n",
       "      <td>4.3</td>\n",
       "    </tr>\n",
       "    <tr>\n",
       "      <th>1246</th>\n",
       "      <td>Amanda Perez</td>\n",
       "      <td>female</td>\n",
       "      <td>group A</td>\n",
       "      <td>high school</td>\n",
       "      <td>standard</td>\n",
       "      <td>completed</td>\n",
       "      <td>68.0</td>\n",
       "      <td>80.0</td>\n",
       "      <td>76.0</td>\n",
       "      <td>61</td>\n",
       "      <td>5.3</td>\n",
       "    </tr>\n",
       "  </tbody>\n",
       "</table>\n",
       "<p>1247 rows × 11 columns</p>\n",
       "</div>"
      ],
      "text/plain": [
       "                 names  gender race/ethnicity parental level of education  \\\n",
       "0        Rita Courtney  female        group B            some high school   \n",
       "1        Rita Courtney  female        group B            some high school   \n",
       "2     Charles Linstrom    male        group A           bachelor's degree   \n",
       "3          Brian Young    male        group C            some high school   \n",
       "4          Brian Young    male        group C            some high school   \n",
       "...                ...     ...            ...                         ...   \n",
       "1242     Richard Young    male        group D                 high school   \n",
       "1243     Wanda Russell  female        group B                 high school   \n",
       "1244    Marina Zeigler  female        group C           bachelor's degree   \n",
       "1245     Laurie Carter  female        group B            some high school   \n",
       "1246      Amanda Perez  female        group A                 high school   \n",
       "\n",
       "             lunch test preparation course  math score  reading score  \\\n",
       "0         standard                    none        37.0           46.0   \n",
       "1         standard                    none       193.0          193.0   \n",
       "2         standard               completed        80.0           78.0   \n",
       "3         standard                    none        73.0           66.0   \n",
       "4         standard                    none         NaN            NaN   \n",
       "...            ...                     ...         ...            ...   \n",
       "1242      standard                    none        69.0           75.0   \n",
       "1243  free/reduced               completed        23.0           44.0   \n",
       "1244  free/reduced               completed        66.0           74.0   \n",
       "1245      standard               completed        54.0           61.0   \n",
       "1246      standard               completed        68.0           80.0   \n",
       "\n",
       "      writing score  science score  history score  \n",
       "0              46.0             25            3.8  \n",
       "1             193.0             25            3.8  \n",
       "2              81.0             56            5.2  \n",
       "3              63.0             58            3.8  \n",
       "4               NaN             58            3.8  \n",
       "...             ...            ...            ...  \n",
       "1242           71.0             62            4.2  \n",
       "1243           36.0             16            3.6  \n",
       "1244           81.0             59            4.1  \n",
       "1245           62.0             43            4.3  \n",
       "1246           76.0             61            5.3  \n",
       "\n",
       "[1247 rows x 11 columns]"
      ]
     },
     "execution_count": 208,
     "metadata": {},
     "output_type": "execute_result"
    }
   ],
   "source": [
    "pd.merge(left=df_grades, right= df_other_grades, on='names', how=\"inner\")"
   ]
  },
  {
   "cell_type": "markdown",
   "metadata": {
    "id": "gaLnb8Qfm_Od"
   },
   "source": [
    "> Explique (pensando en una operación de conjuntos) que hace la operación de combinación por defecto (`inner`).\n",
    "\n",
    "La operación inner lo que hace es unir los elementos que se encuentran en ambas tablas, descartando el resto, es decir si tenemos un alumno que se encuentra en df_grades, pero no en df_other_grades, se descarta. Además, si un alumno se encuentra dos veces como pudimos ver en la primera parte de este laboratorio, los valores de las columnas nuevas que se encuentran en df_other_grades se copian para ambos, manteniendo ambas filas.\n",
    "\n",
    "> Explique que hubiese sucedido si aplicaramos los siguientes merge en las variables anteriores:\n",
    "\n",
    "- `left` \n",
    "\n",
    "Entrega sólo los elementos que se combinaron correctamente del primer set de datos que le entregamos, df_grades, es decir devuelve todo lo de ese dataset, y añade cuando puede (existe la llave) los valores de las columnas nuevas.\n",
    "\n",
    "- `right`\n",
    "\n",
    "Es análogo a Left pero esta vez se mantienen los elementos del set de datos que le entregamos en la posición right= de pd.merge.\n",
    "\n",
    "- `outer`\n",
    "\n",
    "Esta vez combina todos los elementos posibles (que tengan la misma llave en ambos set de datos) y conserva todos los elementos pertenecientes a ambos dataframes.\n"
   ]
  },
  {
   "cell_type": "markdown",
   "metadata": {
    "id": "Z3cHrefknWvm"
   },
   "source": [
    "**Justificación:**"
   ]
  },
  {
   "cell_type": "markdown",
   "metadata": {
    "id": "j_J_btAenZ8t"
   },
   "source": [
    "```\n",
    "Hay diferentes operaciones que nos entregarían resultados similares o de buena manera, pero en especial para no perder información bajo la idea de la primera pregunta que indica que los NA igualmente nos entregan valor, utilizaría outer, para luego filtrar los que están fuera de rango, \n",
    "\n",
    "```"
   ]
  },
  {
   "cell_type": "markdown",
   "metadata": {
    "id": "pj7LOu6GTH5Q"
   },
   "source": [
    "## 1.4 Más visualizaciones [Bonus] [1 punto]\n",
    "\n",
    "\n",
    "**Desde aquí parte el bonus para el lab.**\n",
    "\n",
    "\n",
    "<p align=\"center\">\n",
    "  <img src=\"https://media4.giphy.com/media/xT5LMWNOjGqJzUfyve/giphy.gif?cid=ecf05e47phkhvg6vadqvcoobvxwj9bzxxk38jjvkcc6eak6t&rid=giphy.gif&ct=g\">\n",
    "</p>\n",
    "\n",
    "\n"
   ]
  },
  {
   "cell_type": "markdown",
   "metadata": {
    "id": "fUvSUj7Oswsf"
   },
   "source": [
    "### 1.4.1 Rendimiento por Asignatura"
   ]
  },
  {
   "cell_type": "markdown",
   "metadata": {
    "id": "C4fJhrgAViEk"
   },
   "source": [
    "Con el DataFrame de rendimiento para cada uno de los alumnos grafique como distribuyen los datos para cada uno de los puntajes obtenidos en cada una de las asignaturas.\n",
    "\n",
    "Para realizar esta tarea se les recomienda que utilicen el comando ```px.histogram``` de plotly. Para esto puede ser útil procesar los datos con un melt, agrupando en una columna las asignaturas y en otra columna la nota obtenida en dicha asignatura.\n",
    "\n",
    "Ejemplo del melt:\n",
    "\n",
    "|    Variable   | Value |\n",
    "|:-------------:|:-----:|\n",
    "| math score    | 6.4   |\n",
    "| math score    | 5.2   |\n",
    "| ...           | ...   |\n",
    "| writing score | 4.5   |\n",
    "\n",
    "**To-Do:**\n",
    "\n",
    "- [ ] Utilice `plotly` para visualizar el rendimiento para los diferentes grupos que componen el dataset.\n",
    "- [ ] Responder a la pregunta, ¿Cuál es la asignatura que más les cuesta a los alumnos de la universidad de la Cachaña?\n"
   ]
  },
  {
   "cell_type": "code",
   "execution_count": null,
   "metadata": {
    "id": "1fOQ8_x3X_AT"
   },
   "outputs": [],
   "source": [
    "#### Codigo Aquí ####"
   ]
  },
  {
   "cell_type": "markdown",
   "metadata": {
    "id": "5OK5ZBip0TCk"
   },
   "source": [
    "> ¿Cuál es la asignatura que más les cuesta a los alumnos de la universidad de la Cachaña?"
   ]
  },
  {
   "cell_type": "markdown",
   "metadata": {
    "id": "4TSEgQp-0Jza"
   },
   "source": [
    "**Comente:**"
   ]
  },
  {
   "cell_type": "markdown",
   "metadata": {
    "id": "sCy8Eda90MNO"
   },
   "source": [
    "```\n",
    "Escriba su respuesta aquí\n",
    "```"
   ]
  },
  {
   "cell_type": "markdown",
   "metadata": {
    "id": "PtnBYR8vs0e7"
   },
   "source": [
    "### 1.4.2 Otras Visualizaciones"
   ]
  },
  {
   "cell_type": "markdown",
   "metadata": {
    "id": "4f1PIBgMDt5H"
   },
   "source": [
    "Genere dos visualizaciones extras que encuentre interesantes con estos datos. Agrupe los atributos que estime convenientes.\n",
    "\n",
    "\n",
    "**To-Do:**\n",
    "- [ ] Generar dos nuevas visualizaciones con los datos."
   ]
  },
  {
   "cell_type": "code",
   "execution_count": null,
   "metadata": {
    "id": "zbmipI7AYAs7"
   },
   "outputs": [],
   "source": [
    "#### Codigo Aquí ####"
   ]
  },
  {
   "cell_type": "markdown",
   "metadata": {
    "id": "Rg4ZMq8ezAH6"
   },
   "source": [
    "# Conclusión\n",
    "Eso ha sido todo para el lab de hoy, recuerden que el laboratorio tiene un plazo de entrega de una semana y que **los días de atraso no se pueden utilizar para entregas de lab** solo para tareas. Cualquier duda del laboratorio, no duden en contactarnos por mail o U-cursos.\n",
    "\n",
    "<p align=\"center\">\n",
    "  <img src=\"https://media1.tenor.com/images/2f7df460196625edc45b8380d158e5ee/tenor.gif?itemid=16669403\">\n",
    "</p>"
   ]
  },
  {
   "cell_type": "markdown",
   "metadata": {
    "id": "wCL1lACBzAH7"
   },
   "source": [
    "<br>\n",
    "<center>\n",
    "<img src=\"https://i.kym-cdn.com/photos/images/original/001/194/195/b18.png\" width=100 height=50 />\n",
    "</center>\n",
    "<br>"
   ]
  }
 ],
 "metadata": {
  "colab": {
   "collapsed_sections": [],
   "name": "Laboratoriov2.ipynb",
   "provenance": [],
   "toc_visible": true
  },
  "kernelspec": {
   "display_name": "Python 3",
   "language": "python",
   "name": "python3"
  },
  "language_info": {
   "codemirror_mode": {
    "name": "ipython",
    "version": 3
   },
   "file_extension": ".py",
   "mimetype": "text/x-python",
   "name": "python",
   "nbconvert_exporter": "python",
   "pygments_lexer": "ipython3",
   "version": "3.8.5"
  },
  "toc": {
   "base_numbering": 1,
   "nav_menu": {},
   "number_sections": true,
   "sideBar": true,
   "skip_h1_title": true,
   "title_cell": "Tabla de Contenidos",
   "title_sidebar": "Contenidos",
   "toc_cell": false,
   "toc_position": {
    "height": "calc(100% - 180px)",
    "left": "10px",
    "top": "150px",
    "width": "241.867px"
   },
   "toc_section_display": true,
   "toc_window_display": true
  },
  "varInspector": {
   "cols": {
    "lenName": 16,
    "lenType": 16,
    "lenVar": 40
   },
   "kernels_config": {
    "python": {
     "delete_cmd_postfix": "",
     "delete_cmd_prefix": "del ",
     "library": "var_list.py",
     "varRefreshCmd": "print(var_dic_list())"
    },
    "r": {
     "delete_cmd_postfix": ") ",
     "delete_cmd_prefix": "rm(",
     "library": "var_list.r",
     "varRefreshCmd": "cat(var_dic_list()) "
    }
   },
   "types_to_exclude": [
    "module",
    "function",
    "builtin_function_or_method",
    "instance",
    "_Feature"
   ],
   "window_display": false
  }
 },
 "nbformat": 4,
 "nbformat_minor": 1
}
