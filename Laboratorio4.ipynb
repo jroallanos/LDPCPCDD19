{
 "cells": [
  {
   "cell_type": "markdown",
   "metadata": {
    "id": "XUZ1dFPHzAHl"
   },
   "source": [
    "<h1><center>Laboratorio 4: ¿Superhéroe o Villano? 🦸</center></h1>\n",
    "\n",
    "<center><strong>MDS7202: Laboratorio de Programación Científica para Ciencia de Datos</strong></center>"
   ]
  },
  {
   "cell_type": "markdown",
   "metadata": {
    "id": "UD8X1uhGzAHq"
   },
   "source": [
    "### Cuerpo Docente:\n",
    "\n",
    "- Profesor: Pablo Badilla\n",
    "- Auxiliar: Ignacio Meza D.\n",
    "- Ayudante: Diego Irarrázaval"
   ]
  },
  {
   "cell_type": "markdown",
   "metadata": {
    "id": "tXflExjqzAHr"
   },
   "source": [
    "### Equipo: SUPER IMPORTANTE - notebooks sin nombre no serán revisados\n",
    "\n",
    "- Nombre de alumno 1: Joaquín Roa\n",
    "- Nombre de alumno 2: Matías Sepúlveda\n"
   ]
  },
  {
   "cell_type": "markdown",
   "metadata": {
    "id": "AD-V0bbZzAHr"
   },
   "source": [
    "### **Link de repositorio de GitHub:** `https://github.com/jroallanos/LDPCPCDD19`"
   ]
  },
  {
   "cell_type": "markdown",
   "metadata": {
    "id": "EcnsiQMkzAHr"
   },
   "source": [
    "### Indice \n",
    "\n",
    "1. [Temas a tratar](#Temas-a-tratar:)\n",
    "3. [Descripcción del laboratorio](#Descripción-del-laboratorio.)\n",
    "4. [Desarrollo](#Desarrollo)"
   ]
  },
  {
   "cell_type": "markdown",
   "metadata": {
    "id": "6uBLPj1PzAHs"
   },
   "source": [
    "# Temas a tratar\n",
    "\n",
    "- Clasificación con texto.\n",
    "- Clasificación en `scikit-learn`.\n",
    "- Modelos a través del uso de `pipeline`.\n",
    "- Optimización de modelos usando `GridSearchCV`.\n",
    "\n",
    "## Reglas:\n",
    "\n",
    "- Fecha de entrega: 4/06/2021\n",
    "- **Grupos de 2 personas**\n",
    "- **Ausentes** deberán realizar la actividad solos. \n",
    "- Cualquier duda fuera del horario de clases al foro. Mensajes al equipo docente serán respondidos por este medio.\n",
    "- Prohibidas las copias. \n",
    "- Pueden usar cualquer matrial del curso que estimen conveniente.\n",
    "\n",
    "### Objetivos principales del laboratorio\n",
    "\n",
    "- Aplicar las ventajas que nos ofrece crear un pipeline.\n",
    "- Obtener caracteristicas desde texto.\n",
    "- Crear modelos de clasificación de texto.\n",
    "- Optimizar la clasificación de texto usando wordclouds.\n",
    "- Usar herramientas de visualización de texto como las wordclouds.\n",
    "\n",
    "El laboratorio deberá ser desarrollado sin el uso indiscriminado de iteradores nativos de python (aka \"for\", \"while\"). La idea es que aprendan a exprimir al máximo las funciones optimizadas que nos entrega `pandas`, las cuales vale mencionar, son bastante más eficientes que los iteradores nativos sobre DataFrames."
   ]
  },
  {
   "cell_type": "markdown",
   "metadata": {
    "id": "MhISwri4zAHy"
   },
   "source": [
    "#Importamos librerias utiles 😸"
   ]
  },
  {
   "cell_type": "code",
   "execution_count": 1,
   "metadata": {
    "colab": {
     "base_uri": "https://localhost:8080/"
    },
    "id": "uyc33dKdzAHy",
    "outputId": "b6118bf6-41df-46bd-8382-ed7e743f3d9f"
   },
   "outputs": [
    {
     "name": "stdout",
     "output_type": "stream",
     "text": [
      "zsh:1: command not found: pip\n",
      "zsh:1: command not found: pip\n",
      "zsh:1: command not found: pip\n"
     ]
    },
    {
     "name": "stderr",
     "output_type": "stream",
     "text": [
      "[nltk_data] Downloading package punkt to\n",
      "[nltk_data]     /Users/jroallanos/nltk_data...\n",
      "[nltk_data]   Package punkt is already up-to-date!\n",
      "[nltk_data] Downloading package stopwords to\n",
      "[nltk_data]     /Users/jroallanos/nltk_data...\n",
      "[nltk_data]   Package stopwords is already up-to-date!\n",
      "[nltk_data] Downloading package averaged_perceptron_tagger to\n",
      "[nltk_data]     /Users/jroallanos/nltk_data...\n",
      "[nltk_data]   Package averaged_perceptron_tagger is already up-to-\n",
      "[nltk_data]       date!\n"
     ]
    },
    {
     "data": {
      "text/plain": [
       "True"
      ]
     },
     "execution_count": 1,
     "metadata": {},
     "output_type": "execute_result"
    }
   ],
   "source": [
    "# Librería Core del lab.\n",
    "import numpy as np\n",
    "import pandas as pd\n",
    "from sklearn.pipeline import Pipeline\n",
    "\n",
    "from sklearn.model_selection import train_test_split \n",
    "\n",
    "# Pre-procesamiento\n",
    "from sklearn.decomposition import PCA\n",
    "from sklearn.compose import ColumnTransformer\n",
    "from sklearn.decomposition import TruncatedSVD\n",
    "from sklearn.preprocessing import MinMaxScaler\n",
    "from sklearn.feature_extraction.text import CountVectorizer\n",
    "\n",
    "# Clasifación\n",
    "from sklearn.svm import SVC\n",
    "from sklearn.naive_bayes import MultinomialNB\n",
    "from sklearn.tree import DecisionTreeClassifier\n",
    "from sklearn.model_selection import GridSearchCV\n",
    "from sklearn.ensemble import RandomForestClassifier\n",
    "from sklearn.linear_model import LogisticRegression\n",
    "from imblearn.over_sampling import RandomOverSampler\n",
    "from imblearn.under_sampling import RandomUnderSampler\n",
    "\n",
    "# Metricas de evaluación\n",
    "from sklearn.metrics import classification_report\n",
    "from sklearn.metrics import accuracy_score\n",
    "from sklearn.metrics import f1_score\n",
    "from sklearn.metrics import cohen_kappa_score\n",
    "\n",
    "# Librería para plotear\n",
    "!pip install --upgrade plotly\n",
    "import plotly.express as px\n",
    "from plotly.subplots import make_subplots\n",
    "import plotly.graph_objects as go\n",
    "\n",
    "# Proyecciones en baja dimensionalidad: UMAP\n",
    "!pip install umap-learn\n",
    "\n",
    "# Librería para NLP\n",
    "!pip install nltk\n",
    "import nltk\n",
    "from nltk.corpus import stopwords\n",
    "from nltk import word_tokenize  \n",
    "from nltk.stem import PorterStemmer\n",
    "nltk.download('punkt')\n",
    "nltk.download('stopwords')\n",
    "nltk.download('averaged_perceptron_tagger')"
   ]
  },
  {
   "cell_type": "markdown",
   "metadata": {
    "id": "xpOTbQcxbSiy"
   },
   "source": [
    "# 1. ¿Quien es Bat Cow?"
   ]
  },
  {
   "cell_type": "markdown",
   "metadata": {
    "id": "3Q93vbNS25bM"
   },
   "source": [
    "<p align=\"center\">\n",
    "  <img src=\"https://static.wikia.nocookie.net/p__/images/a/a2/Bat-Cow.jpg/revision/latest?cb=20180108185037&path-prefix=protagonist\" width=\"350\">\n",
    "</p>"
   ]
  },
  {
   "cell_type": "markdown",
   "metadata": {
    "id": "jnmZfFpxTTYX"
   },
   "source": [
    "En vez de estar oprotunamente desarrollando las tareas y las evaluaciones correspondientes al curso, su profesor de catedra y su auxiliar discuten acerca la alineación del personaje de ficción *Bat-Cow*. \n",
    "\n",
    "El cuerpo docente, no logra ponerse de acuerdo acerca de la alineación del personaje, es decir, si lucha junto a las fuerzas del bien, si neutral a cualquier eventualidad o derechamente es un villano.\n",
    "El auxiliar plantea (de forma superficial) que *Bat-cow* posee una siniestra mirada, común característica de los personajes malvados. \n",
    "Por otra parte, extendiendo las ideas de Rousseau, el profesor (*se cree filósofo... y*) plantea que tal como los humanos no nacen malos, no existe motivo por el cual un rumiante humanizado con superpoderes deba serlo.\n",
    "\n",
    "Sin embargo, ambos concuerdan en es difícil estimar la alineación solo usando los atributos físicos, por lo que creen el análisis debe ser complementado aún más antes de comunicarle los resultados a su estudiantado. Buscando más información, ambos sujetos se percatan de la existencia de un excelente antecedente para estimar la alineación: la historia personal de cada superhéroe o villano.\n",
    "\n",
    "Es por esto le solicitan que construya y optimice un clasificador basado en texto el cual analice la alineación de cada personaje basado en su historia personal.\n",
    "\n",
    "Para este laboratorio deben trabajar con los datos `df_comics.csv` y `comics_no_label.csv` subidos a u-cursos. El primero es un conjunto de datos que les servirá para entrenar un modelo de clasificación, mientras que el segundo es un dataset con personajes de ficción no etiquetados a predecir (sí, aquí está la misteriosa Batcow).\n",
    "\n",
    "Para iniciar este laboratorio, cargue los dataset señalados y visualice a través de la función `head` los atributos que poseen cada uno de los dataset.\n"
   ]
  },
  {
   "cell_type": "code",
   "execution_count": 31,
   "metadata": {
    "id": "bED3w3tDbSCf"
   },
   "outputs": [],
   "source": [
    "#dir = '/content/'\n",
    "#df_comics = pd.read_csv(dir+'df_comics.csv')\n",
    "#df_comics_no_label = pd.read_csv(dir+'comics_no_label.csv')\n",
    "df_comics = pd.read_csv('/Users/jroallanos/Desktop/Laboratorio de Programación Científica para Ciencia de Datos/labs/lab4/df_comics.csv')\n",
    "df_comics_no_label = pd.read_csv(\"/Users/jroallanos/Desktop/Laboratorio de Programación Científica para Ciencia de Datos/labs/lab4/comics_no_label.csv\")\n",
    "df_comics = df_comics.drop(columns=['Unnamed: 0'])\n",
    "df_comics_no_label = df_comics_no_label.drop(columns=['Unnamed: 0'])"
   ]
  },
  {
   "cell_type": "markdown",
   "metadata": {
    "id": "i4tFPrFA4_O5"
   },
   "source": [
    "## 1.1 Obtención de Features [2 puntos]\n",
    "\n",
    "<p align=\"center\">\n",
    "  <img src=\"https://media0.giphy.com/media/eIUpSyzwGp0YhAMTKr/200.gif\" width=\"300\">\n",
    "</p>"
   ]
  },
  {
   "cell_type": "markdown",
   "metadata": {
    "id": "f_4NF0_V5XZ-"
   },
   "source": [
    "Su primera tarea consiste en generar un vector de características para el atributo `history_text`. En este atributo se presenta una breve descripción de la historia de cada uno de los personajes de ficción presentes en el dataset (si un personaje tiene este atributo nulo, elimínelo). Luego, para obtener características de texto aplique el modelo de conteo `bag of words` de la siguiente forma:\n",
    "\n",
    "- Utilice `CountVectorized` junto al tokenizador (que le proveemos) `LemmaTokenizer`.\n",
    "- Obtenga caracteristicas de los 1-gramas y 2-gramas del texto (ver clase).\n",
    "- Fijar un maximo de 10.000 caracteristicas para el vector de salida.\n",
    "\n",
    "Finalmente, aplique `MinMaxScaler()` sobre `atributos_de_interes` y concatene el valor obtenido con el matriz de caracteristicas obtenidas con bag of words.\n",
    "\n",
    "```python\n",
    "atributos_de_interes = ['intelligence_score', 'strength_score', 'speed_score', 'durability_score', 'power_score', 'combat_score']\n",
    "```\n",
    "\n",
    "No es necesario que obtenga un dataframe en concreto con las características solicitadas. Se le recomienda generar un `ColumnTransformer()` para aplicar las transformaciones solicitadas en un pipeline.\n",
    "\n",
    "**To-Do:**\n",
    "- [ ] Obtener a traves de bag of words caracteristicas del resumen de historia de cada personaje.\n",
    "- [ ] Aplicar MinMaxScaler sobre los atributos de interes."
   ]
  },
  {
   "cell_type": "code",
   "execution_count": 32,
   "metadata": {
    "id": "8MYKq-qf0yYx"
   },
   "outputs": [],
   "source": [
    "df_comics = df_comics.dropna(axis = 0, subset=['history_text'])\n",
    "df_comics_no_label = df_comics_no_label.dropna(axis = 0, subset=['history_text'])"
   ]
  },
  {
   "cell_type": "code",
   "execution_count": 33,
   "metadata": {
    "scrolled": true
   },
   "outputs": [
    {
     "data": {
      "text/html": [
       "<div>\n",
       "<style scoped>\n",
       "    .dataframe tbody tr th:only-of-type {\n",
       "        vertical-align: middle;\n",
       "    }\n",
       "\n",
       "    .dataframe tbody tr th {\n",
       "        vertical-align: top;\n",
       "    }\n",
       "\n",
       "    .dataframe thead th {\n",
       "        text-align: right;\n",
       "    }\n",
       "</style>\n",
       "<table border=\"1\" class=\"dataframe\">\n",
       "  <thead>\n",
       "    <tr style=\"text-align: right;\">\n",
       "      <th></th>\n",
       "      <th>name</th>\n",
       "      <th>real_name</th>\n",
       "      <th>full_name</th>\n",
       "      <th>overall_score</th>\n",
       "      <th>history_text</th>\n",
       "      <th>powers_text</th>\n",
       "      <th>intelligence_score</th>\n",
       "      <th>strength_score</th>\n",
       "      <th>speed_score</th>\n",
       "      <th>durability_score</th>\n",
       "      <th>...</th>\n",
       "      <th>has_flight</th>\n",
       "      <th>has_accelerated_healing</th>\n",
       "      <th>has_weapons_master</th>\n",
       "      <th>has_intelligence</th>\n",
       "      <th>has_reflexes</th>\n",
       "      <th>has_super_speed</th>\n",
       "      <th>has_durability</th>\n",
       "      <th>has_stamina</th>\n",
       "      <th>has_agility</th>\n",
       "      <th>has_super_strength</th>\n",
       "    </tr>\n",
       "  </thead>\n",
       "  <tbody>\n",
       "    <tr>\n",
       "      <th>0</th>\n",
       "      <td>3-D Man</td>\n",
       "      <td>Delroy Garrett, Jr.</td>\n",
       "      <td>Delroy Garrett, Jr.</td>\n",
       "      <td>6</td>\n",
       "      <td>Delroy Garrett, Jr. grew up to become a track ...</td>\n",
       "      <td>NaN</td>\n",
       "      <td>85</td>\n",
       "      <td>30</td>\n",
       "      <td>60</td>\n",
       "      <td>60</td>\n",
       "      <td>...</td>\n",
       "      <td>0.0</td>\n",
       "      <td>0.0</td>\n",
       "      <td>0.0</td>\n",
       "      <td>0.0</td>\n",
       "      <td>0.0</td>\n",
       "      <td>1.0</td>\n",
       "      <td>0.0</td>\n",
       "      <td>0.0</td>\n",
       "      <td>0.0</td>\n",
       "      <td>1.0</td>\n",
       "    </tr>\n",
       "    <tr>\n",
       "      <th>1</th>\n",
       "      <td>A-Bomb</td>\n",
       "      <td>Richard Milhouse Jones</td>\n",
       "      <td>Richard Milhouse Jones</td>\n",
       "      <td>20</td>\n",
       "      <td>Richard \"Rick\" Jones was orphaned at a young ...</td>\n",
       "      <td>On rare occasions, and through unusual circu...</td>\n",
       "      <td>80</td>\n",
       "      <td>100</td>\n",
       "      <td>80</td>\n",
       "      <td>100</td>\n",
       "      <td>...</td>\n",
       "      <td>0.0</td>\n",
       "      <td>1.0</td>\n",
       "      <td>0.0</td>\n",
       "      <td>0.0</td>\n",
       "      <td>1.0</td>\n",
       "      <td>1.0</td>\n",
       "      <td>1.0</td>\n",
       "      <td>1.0</td>\n",
       "      <td>1.0</td>\n",
       "      <td>1.0</td>\n",
       "    </tr>\n",
       "    <tr>\n",
       "      <th>2</th>\n",
       "      <td>Aa</td>\n",
       "      <td>Aa</td>\n",
       "      <td>NaN</td>\n",
       "      <td>12</td>\n",
       "      <td>Aa is one of the more passive members of the P...</td>\n",
       "      <td>NaN</td>\n",
       "      <td>80</td>\n",
       "      <td>50</td>\n",
       "      <td>55</td>\n",
       "      <td>45</td>\n",
       "      <td>...</td>\n",
       "      <td>0.0</td>\n",
       "      <td>0.0</td>\n",
       "      <td>0.0</td>\n",
       "      <td>0.0</td>\n",
       "      <td>0.0</td>\n",
       "      <td>0.0</td>\n",
       "      <td>0.0</td>\n",
       "      <td>0.0</td>\n",
       "      <td>0.0</td>\n",
       "      <td>0.0</td>\n",
       "    </tr>\n",
       "    <tr>\n",
       "      <th>3</th>\n",
       "      <td>Aaron Cash</td>\n",
       "      <td>Aaron Cash</td>\n",
       "      <td>Aaron Cash</td>\n",
       "      <td>5</td>\n",
       "      <td>Aaron Cash is the head of security at Arkham A...</td>\n",
       "      <td>NaN</td>\n",
       "      <td>80</td>\n",
       "      <td>10</td>\n",
       "      <td>25</td>\n",
       "      <td>40</td>\n",
       "      <td>...</td>\n",
       "      <td>0.0</td>\n",
       "      <td>0.0</td>\n",
       "      <td>1.0</td>\n",
       "      <td>0.0</td>\n",
       "      <td>0.0</td>\n",
       "      <td>0.0</td>\n",
       "      <td>0.0</td>\n",
       "      <td>0.0</td>\n",
       "      <td>0.0</td>\n",
       "      <td>0.0</td>\n",
       "    </tr>\n",
       "    <tr>\n",
       "      <th>4</th>\n",
       "      <td>Aayla Secura</td>\n",
       "      <td>Aayla Secura</td>\n",
       "      <td>NaN</td>\n",
       "      <td>8</td>\n",
       "      <td>ayla Secura was a Rutian Twi'lek Jedi Knight (...</td>\n",
       "      <td>NaN</td>\n",
       "      <td>90</td>\n",
       "      <td>40</td>\n",
       "      <td>45</td>\n",
       "      <td>55</td>\n",
       "      <td>...</td>\n",
       "      <td>0.0</td>\n",
       "      <td>1.0</td>\n",
       "      <td>0.0</td>\n",
       "      <td>0.0</td>\n",
       "      <td>0.0</td>\n",
       "      <td>0.0</td>\n",
       "      <td>0.0</td>\n",
       "      <td>0.0</td>\n",
       "      <td>1.0</td>\n",
       "      <td>0.0</td>\n",
       "    </tr>\n",
       "    <tr>\n",
       "      <th>...</th>\n",
       "      <td>...</td>\n",
       "      <td>...</td>\n",
       "      <td>...</td>\n",
       "      <td>...</td>\n",
       "      <td>...</td>\n",
       "      <td>...</td>\n",
       "      <td>...</td>\n",
       "      <td>...</td>\n",
       "      <td>...</td>\n",
       "      <td>...</td>\n",
       "      <td>...</td>\n",
       "      <td>...</td>\n",
       "      <td>...</td>\n",
       "      <td>...</td>\n",
       "      <td>...</td>\n",
       "      <td>...</td>\n",
       "      <td>...</td>\n",
       "      <td>...</td>\n",
       "      <td>...</td>\n",
       "      <td>...</td>\n",
       "      <td>...</td>\n",
       "    </tr>\n",
       "    <tr>\n",
       "      <th>1362</th>\n",
       "      <td>Zatanna</td>\n",
       "      <td>Zatanna Zatara</td>\n",
       "      <td>Zatanna Zatara</td>\n",
       "      <td>10</td>\n",
       "      <td>Zatanna is the daughter of adventurer John Zat...</td>\n",
       "      <td>Zatanna is genetically talented with her magi...</td>\n",
       "      <td>90</td>\n",
       "      <td>10</td>\n",
       "      <td>25</td>\n",
       "      <td>30</td>\n",
       "      <td>...</td>\n",
       "      <td>0.0</td>\n",
       "      <td>0.0</td>\n",
       "      <td>0.0</td>\n",
       "      <td>0.0</td>\n",
       "      <td>0.0</td>\n",
       "      <td>0.0</td>\n",
       "      <td>0.0</td>\n",
       "      <td>0.0</td>\n",
       "      <td>0.0</td>\n",
       "      <td>0.0</td>\n",
       "    </tr>\n",
       "    <tr>\n",
       "      <th>1363</th>\n",
       "      <td>Zero</td>\n",
       "      <td>DWN-∞: Zero</td>\n",
       "      <td>DWN-∞: Zero</td>\n",
       "      <td>18</td>\n",
       "      <td>Zero was created by the late Dr. Albert Wily ...</td>\n",
       "      <td>NaN</td>\n",
       "      <td>80</td>\n",
       "      <td>100</td>\n",
       "      <td>100</td>\n",
       "      <td>100</td>\n",
       "      <td>...</td>\n",
       "      <td>0.0</td>\n",
       "      <td>1.0</td>\n",
       "      <td>1.0</td>\n",
       "      <td>1.0</td>\n",
       "      <td>1.0</td>\n",
       "      <td>1.0</td>\n",
       "      <td>1.0</td>\n",
       "      <td>1.0</td>\n",
       "      <td>1.0</td>\n",
       "      <td>1.0</td>\n",
       "    </tr>\n",
       "    <tr>\n",
       "      <th>1364</th>\n",
       "      <td>Zoom (New 52)</td>\n",
       "      <td>Hunter Zolomon</td>\n",
       "      <td>NaN</td>\n",
       "      <td>20</td>\n",
       "      <td>Hunter Zolomon is better known as Zoom, a spee...</td>\n",
       "      <td>After tricking Barry Allen and Wally West into...</td>\n",
       "      <td>95</td>\n",
       "      <td>50</td>\n",
       "      <td>100</td>\n",
       "      <td>75</td>\n",
       "      <td>...</td>\n",
       "      <td>0.0</td>\n",
       "      <td>1.0</td>\n",
       "      <td>0.0</td>\n",
       "      <td>1.0</td>\n",
       "      <td>1.0</td>\n",
       "      <td>1.0</td>\n",
       "      <td>1.0</td>\n",
       "      <td>1.0</td>\n",
       "      <td>1.0</td>\n",
       "      <td>1.0</td>\n",
       "    </tr>\n",
       "    <tr>\n",
       "      <th>1365</th>\n",
       "      <td>Zoom</td>\n",
       "      <td>Hunter Zolomon</td>\n",
       "      <td>Hunter Zolomon</td>\n",
       "      <td>9</td>\n",
       "      <td>Hunter Zolomon had a troubled relationship wi...</td>\n",
       "      <td>Zoom is able to alter time, to make himself ev...</td>\n",
       "      <td>75</td>\n",
       "      <td>10</td>\n",
       "      <td>100</td>\n",
       "      <td>30</td>\n",
       "      <td>...</td>\n",
       "      <td>0.0</td>\n",
       "      <td>0.0</td>\n",
       "      <td>0.0</td>\n",
       "      <td>0.0</td>\n",
       "      <td>0.0</td>\n",
       "      <td>1.0</td>\n",
       "      <td>0.0</td>\n",
       "      <td>0.0</td>\n",
       "      <td>0.0</td>\n",
       "      <td>0.0</td>\n",
       "    </tr>\n",
       "    <tr>\n",
       "      <th>1366</th>\n",
       "      <td>Zzzax</td>\n",
       "      <td>NaN</td>\n",
       "      <td>NaN</td>\n",
       "      <td>5</td>\n",
       "      <td>Zzzax was the product of an accident that occu...</td>\n",
       "      <td>NaN</td>\n",
       "      <td>45</td>\n",
       "      <td>80</td>\n",
       "      <td>75</td>\n",
       "      <td>95</td>\n",
       "      <td>...</td>\n",
       "      <td>1.0</td>\n",
       "      <td>0.0</td>\n",
       "      <td>0.0</td>\n",
       "      <td>0.0</td>\n",
       "      <td>0.0</td>\n",
       "      <td>1.0</td>\n",
       "      <td>0.0</td>\n",
       "      <td>0.0</td>\n",
       "      <td>1.0</td>\n",
       "      <td>1.0</td>\n",
       "    </tr>\n",
       "  </tbody>\n",
       "</table>\n",
       "<p>1285 rows × 81 columns</p>\n",
       "</div>"
      ],
      "text/plain": [
       "               name               real_name               full_name  \\\n",
       "0           3-D Man     Delroy Garrett, Jr.     Delroy Garrett, Jr.   \n",
       "1            A-Bomb  Richard Milhouse Jones  Richard Milhouse Jones   \n",
       "2                Aa                      Aa                     NaN   \n",
       "3        Aaron Cash              Aaron Cash              Aaron Cash   \n",
       "4      Aayla Secura            Aayla Secura                     NaN   \n",
       "...             ...                     ...                     ...   \n",
       "1362        Zatanna          Zatanna Zatara          Zatanna Zatara   \n",
       "1363           Zero             DWN-∞: Zero             DWN-∞: Zero   \n",
       "1364  Zoom (New 52)          Hunter Zolomon                     NaN   \n",
       "1365           Zoom          Hunter Zolomon          Hunter Zolomon   \n",
       "1366          Zzzax                     NaN                     NaN   \n",
       "\n",
       "     overall_score                                       history_text  \\\n",
       "0                6  Delroy Garrett, Jr. grew up to become a track ...   \n",
       "1               20   Richard \"Rick\" Jones was orphaned at a young ...   \n",
       "2               12  Aa is one of the more passive members of the P...   \n",
       "3                5  Aaron Cash is the head of security at Arkham A...   \n",
       "4                8  ayla Secura was a Rutian Twi'lek Jedi Knight (...   \n",
       "...            ...                                                ...   \n",
       "1362            10  Zatanna is the daughter of adventurer John Zat...   \n",
       "1363            18   Zero was created by the late Dr. Albert Wily ...   \n",
       "1364            20  Hunter Zolomon is better known as Zoom, a spee...   \n",
       "1365             9   Hunter Zolomon had a troubled relationship wi...   \n",
       "1366             5  Zzzax was the product of an accident that occu...   \n",
       "\n",
       "                                            powers_text  intelligence_score  \\\n",
       "0                                                   NaN                  85   \n",
       "1       On rare occasions, and through unusual circu...                  80   \n",
       "2                                                   NaN                  80   \n",
       "3                                                   NaN                  80   \n",
       "4                                                   NaN                  90   \n",
       "...                                                 ...                 ...   \n",
       "1362   Zatanna is genetically talented with her magi...                  90   \n",
       "1363                                                NaN                  80   \n",
       "1364  After tricking Barry Allen and Wally West into...                  95   \n",
       "1365  Zoom is able to alter time, to make himself ev...                  75   \n",
       "1366                                                NaN                  45   \n",
       "\n",
       "      strength_score  speed_score  durability_score  ...  has_flight  \\\n",
       "0                 30           60                60  ...         0.0   \n",
       "1                100           80               100  ...         0.0   \n",
       "2                 50           55                45  ...         0.0   \n",
       "3                 10           25                40  ...         0.0   \n",
       "4                 40           45                55  ...         0.0   \n",
       "...              ...          ...               ...  ...         ...   \n",
       "1362              10           25                30  ...         0.0   \n",
       "1363             100          100               100  ...         0.0   \n",
       "1364              50          100                75  ...         0.0   \n",
       "1365              10          100                30  ...         0.0   \n",
       "1366              80           75                95  ...         1.0   \n",
       "\n",
       "      has_accelerated_healing has_weapons_master has_intelligence  \\\n",
       "0                         0.0                0.0              0.0   \n",
       "1                         1.0                0.0              0.0   \n",
       "2                         0.0                0.0              0.0   \n",
       "3                         0.0                1.0              0.0   \n",
       "4                         1.0                0.0              0.0   \n",
       "...                       ...                ...              ...   \n",
       "1362                      0.0                0.0              0.0   \n",
       "1363                      1.0                1.0              1.0   \n",
       "1364                      1.0                0.0              1.0   \n",
       "1365                      0.0                0.0              0.0   \n",
       "1366                      0.0                0.0              0.0   \n",
       "\n",
       "     has_reflexes has_super_speed has_durability has_stamina has_agility  \\\n",
       "0             0.0             1.0            0.0         0.0         0.0   \n",
       "1             1.0             1.0            1.0         1.0         1.0   \n",
       "2             0.0             0.0            0.0         0.0         0.0   \n",
       "3             0.0             0.0            0.0         0.0         0.0   \n",
       "4             0.0             0.0            0.0         0.0         1.0   \n",
       "...           ...             ...            ...         ...         ...   \n",
       "1362          0.0             0.0            0.0         0.0         0.0   \n",
       "1363          1.0             1.0            1.0         1.0         1.0   \n",
       "1364          1.0             1.0            1.0         1.0         1.0   \n",
       "1365          0.0             1.0            0.0         0.0         0.0   \n",
       "1366          0.0             1.0            0.0         0.0         1.0   \n",
       "\n",
       "     has_super_strength  \n",
       "0                   1.0  \n",
       "1                   1.0  \n",
       "2                   0.0  \n",
       "3                   0.0  \n",
       "4                   0.0  \n",
       "...                 ...  \n",
       "1362                0.0  \n",
       "1363                1.0  \n",
       "1364                1.0  \n",
       "1365                0.0  \n",
       "1366                1.0  \n",
       "\n",
       "[1285 rows x 81 columns]"
      ]
     },
     "execution_count": 33,
     "metadata": {},
     "output_type": "execute_result"
    }
   ],
   "source": [
    "df_comics"
   ]
  },
  {
   "cell_type": "code",
   "execution_count": 34,
   "metadata": {
    "scrolled": true
   },
   "outputs": [
    {
     "data": {
      "text/html": [
       "<div>\n",
       "<style scoped>\n",
       "    .dataframe tbody tr th:only-of-type {\n",
       "        vertical-align: middle;\n",
       "    }\n",
       "\n",
       "    .dataframe tbody tr th {\n",
       "        vertical-align: top;\n",
       "    }\n",
       "\n",
       "    .dataframe thead th {\n",
       "        text-align: right;\n",
       "    }\n",
       "</style>\n",
       "<table border=\"1\" class=\"dataframe\">\n",
       "  <thead>\n",
       "    <tr style=\"text-align: right;\">\n",
       "      <th></th>\n",
       "      <th>name</th>\n",
       "      <th>real_name</th>\n",
       "      <th>full_name</th>\n",
       "      <th>overall_score</th>\n",
       "      <th>history_text</th>\n",
       "      <th>powers_text</th>\n",
       "      <th>intelligence_score</th>\n",
       "      <th>strength_score</th>\n",
       "      <th>speed_score</th>\n",
       "      <th>durability_score</th>\n",
       "      <th>...</th>\n",
       "      <th>has_flight</th>\n",
       "      <th>has_accelerated_healing</th>\n",
       "      <th>has_weapons_master</th>\n",
       "      <th>has_intelligence</th>\n",
       "      <th>has_reflexes</th>\n",
       "      <th>has_super_speed</th>\n",
       "      <th>has_durability</th>\n",
       "      <th>has_stamina</th>\n",
       "      <th>has_agility</th>\n",
       "      <th>has_super_strength</th>\n",
       "    </tr>\n",
       "  </thead>\n",
       "  <tbody>\n",
       "    <tr>\n",
       "      <th>0</th>\n",
       "      <td>514A (Gotham)</td>\n",
       "      <td>Bruce Wayne</td>\n",
       "      <td>NaN</td>\n",
       "      <td>10</td>\n",
       "      <td>He was one of the many prisoners of Indian Hil...</td>\n",
       "      <td>NaN</td>\n",
       "      <td>100</td>\n",
       "      <td>20</td>\n",
       "      <td>30</td>\n",
       "      <td>50</td>\n",
       "      <td>...</td>\n",
       "      <td>0.0</td>\n",
       "      <td>0.0</td>\n",
       "      <td>0.0</td>\n",
       "      <td>0.0</td>\n",
       "      <td>1.0</td>\n",
       "      <td>0.0</td>\n",
       "      <td>1.0</td>\n",
       "      <td>0.0</td>\n",
       "      <td>0.0</td>\n",
       "      <td>1.0</td>\n",
       "    </tr>\n",
       "    <tr>\n",
       "      <th>2</th>\n",
       "      <td>A'dal</td>\n",
       "      <td>NaN</td>\n",
       "      <td>NaN</td>\n",
       "      <td>7</td>\n",
       "      <td>As with most of the naaru, little is known of ...</td>\n",
       "      <td>NaN</td>\n",
       "      <td>85</td>\n",
       "      <td>30</td>\n",
       "      <td>70</td>\n",
       "      <td>55</td>\n",
       "      <td>...</td>\n",
       "      <td>0.0</td>\n",
       "      <td>0.0</td>\n",
       "      <td>0.0</td>\n",
       "      <td>0.0</td>\n",
       "      <td>0.0</td>\n",
       "      <td>0.0</td>\n",
       "      <td>0.0</td>\n",
       "      <td>0.0</td>\n",
       "      <td>0.0</td>\n",
       "      <td>0.0</td>\n",
       "    </tr>\n",
       "    <tr>\n",
       "      <th>3</th>\n",
       "      <td>Agent Zero (FOX)</td>\n",
       "      <td>David North</td>\n",
       "      <td>NaN</td>\n",
       "      <td>6</td>\n",
       "      <td>During mid-late 1973, Zero was a member of Tea...</td>\n",
       "      <td>Zero can absorb kinetic energy to further incr...</td>\n",
       "      <td>90</td>\n",
       "      <td>10</td>\n",
       "      <td>25</td>\n",
       "      <td>25</td>\n",
       "      <td>...</td>\n",
       "      <td>0.0</td>\n",
       "      <td>0.0</td>\n",
       "      <td>0.0</td>\n",
       "      <td>0.0</td>\n",
       "      <td>1.0</td>\n",
       "      <td>0.0</td>\n",
       "      <td>0.0</td>\n",
       "      <td>0.0</td>\n",
       "      <td>1.0</td>\n",
       "      <td>0.0</td>\n",
       "    </tr>\n",
       "    <tr>\n",
       "      <th>4</th>\n",
       "      <td>Ajax (FOX)</td>\n",
       "      <td>Francis</td>\n",
       "      <td>Francis Freeman</td>\n",
       "      <td>7</td>\n",
       "      <td>Ajax (born Francis Freeman) was a human who ga...</td>\n",
       "      <td>Ajax has claimed that the procedure to obtain ...</td>\n",
       "      <td>85</td>\n",
       "      <td>25</td>\n",
       "      <td>45</td>\n",
       "      <td>75</td>\n",
       "      <td>...</td>\n",
       "      <td>0.0</td>\n",
       "      <td>0.0</td>\n",
       "      <td>1.0</td>\n",
       "      <td>1.0</td>\n",
       "      <td>1.0</td>\n",
       "      <td>0.0</td>\n",
       "      <td>1.0</td>\n",
       "      <td>0.0</td>\n",
       "      <td>0.0</td>\n",
       "      <td>1.0</td>\n",
       "    </tr>\n",
       "    <tr>\n",
       "      <th>6</th>\n",
       "      <td>A.M.A.Z.O. (CW)</td>\n",
       "      <td>NaN</td>\n",
       "      <td>NaN</td>\n",
       "      <td>22</td>\n",
       "      <td>The Anti Meta-human Adaptive Zootomic Organism...</td>\n",
       "      <td>With its metallic body, it easily overpowered ...</td>\n",
       "      <td>90</td>\n",
       "      <td>100</td>\n",
       "      <td>100</td>\n",
       "      <td>100</td>\n",
       "      <td>...</td>\n",
       "      <td>1.0</td>\n",
       "      <td>0.0</td>\n",
       "      <td>1.0</td>\n",
       "      <td>0.0</td>\n",
       "      <td>0.0</td>\n",
       "      <td>0.0</td>\n",
       "      <td>0.0</td>\n",
       "      <td>0.0</td>\n",
       "      <td>0.0</td>\n",
       "      <td>0.0</td>\n",
       "    </tr>\n",
       "    <tr>\n",
       "      <th>...</th>\n",
       "      <td>...</td>\n",
       "      <td>...</td>\n",
       "      <td>...</td>\n",
       "      <td>...</td>\n",
       "      <td>...</td>\n",
       "      <td>...</td>\n",
       "      <td>...</td>\n",
       "      <td>...</td>\n",
       "      <td>...</td>\n",
       "      <td>...</td>\n",
       "      <td>...</td>\n",
       "      <td>...</td>\n",
       "      <td>...</td>\n",
       "      <td>...</td>\n",
       "      <td>...</td>\n",
       "      <td>...</td>\n",
       "      <td>...</td>\n",
       "      <td>...</td>\n",
       "      <td>...</td>\n",
       "      <td>...</td>\n",
       "      <td>...</td>\n",
       "    </tr>\n",
       "    <tr>\n",
       "      <th>78</th>\n",
       "      <td>Vergil</td>\n",
       "      <td>Vergil Sparda</td>\n",
       "      <td>NaN</td>\n",
       "      <td>16</td>\n",
       "      <td>Vergil, later also known as Nelo Angelo, is on...</td>\n",
       "      <td>NaN</td>\n",
       "      <td>90</td>\n",
       "      <td>75</td>\n",
       "      <td>95</td>\n",
       "      <td>90</td>\n",
       "      <td>...</td>\n",
       "      <td>0.0</td>\n",
       "      <td>1.0</td>\n",
       "      <td>1.0</td>\n",
       "      <td>1.0</td>\n",
       "      <td>1.0</td>\n",
       "      <td>1.0</td>\n",
       "      <td>1.0</td>\n",
       "      <td>1.0</td>\n",
       "      <td>1.0</td>\n",
       "      <td>1.0</td>\n",
       "    </tr>\n",
       "    <tr>\n",
       "      <th>80</th>\n",
       "      <td>Wendigo</td>\n",
       "      <td>Wendigo</td>\n",
       "      <td>NaN</td>\n",
       "      <td>6</td>\n",
       "      <td>The Wendigo are the result of an ancient curse...</td>\n",
       "      <td>NaN</td>\n",
       "      <td>65</td>\n",
       "      <td>80</td>\n",
       "      <td>75</td>\n",
       "      <td>75</td>\n",
       "      <td>...</td>\n",
       "      <td>0.0</td>\n",
       "      <td>0.0</td>\n",
       "      <td>0.0</td>\n",
       "      <td>0.0</td>\n",
       "      <td>0.0</td>\n",
       "      <td>0.0</td>\n",
       "      <td>0.0</td>\n",
       "      <td>0.0</td>\n",
       "      <td>0.0</td>\n",
       "      <td>1.0</td>\n",
       "    </tr>\n",
       "    <tr>\n",
       "      <th>81</th>\n",
       "      <td>XS (CW)</td>\n",
       "      <td>Nora West-Allen</td>\n",
       "      <td>NaN</td>\n",
       "      <td>19</td>\n",
       "      <td>According to Eobard Thawne, the daughter of Ba...</td>\n",
       "      <td>Nora possesses a natural connection to the Spe...</td>\n",
       "      <td>90</td>\n",
       "      <td>55</td>\n",
       "      <td>100</td>\n",
       "      <td>60</td>\n",
       "      <td>...</td>\n",
       "      <td>0.0</td>\n",
       "      <td>1.0</td>\n",
       "      <td>0.0</td>\n",
       "      <td>0.0</td>\n",
       "      <td>1.0</td>\n",
       "      <td>1.0</td>\n",
       "      <td>1.0</td>\n",
       "      <td>1.0</td>\n",
       "      <td>1.0</td>\n",
       "      <td>0.0</td>\n",
       "    </tr>\n",
       "    <tr>\n",
       "      <th>82</th>\n",
       "      <td>Yondu (MCU)</td>\n",
       "      <td>Yondu</td>\n",
       "      <td>NaN</td>\n",
       "      <td>7</td>\n",
       "      <td>Yondu Udonta was a Centaurian, leader of a key...</td>\n",
       "      <td>Yondu Udonta was a member of the Centaurians, ...</td>\n",
       "      <td>85</td>\n",
       "      <td>25</td>\n",
       "      <td>40</td>\n",
       "      <td>40</td>\n",
       "      <td>...</td>\n",
       "      <td>0.0</td>\n",
       "      <td>0.0</td>\n",
       "      <td>1.0</td>\n",
       "      <td>0.0</td>\n",
       "      <td>0.0</td>\n",
       "      <td>0.0</td>\n",
       "      <td>0.0</td>\n",
       "      <td>0.0</td>\n",
       "      <td>0.0</td>\n",
       "      <td>0.0</td>\n",
       "    </tr>\n",
       "    <tr>\n",
       "      <th>83</th>\n",
       "      <td>Batcow</td>\n",
       "      <td>None</td>\n",
       "      <td>None</td>\n",
       "      <td>3</td>\n",
       "      <td>Bat-Cow was originally a cow that was found by...</td>\n",
       "      <td>NaN</td>\n",
       "      <td>70</td>\n",
       "      <td>10</td>\n",
       "      <td>25</td>\n",
       "      <td>20</td>\n",
       "      <td>...</td>\n",
       "      <td>0.0</td>\n",
       "      <td>0.0</td>\n",
       "      <td>0.0</td>\n",
       "      <td>0.0</td>\n",
       "      <td>0.0</td>\n",
       "      <td>0.0</td>\n",
       "      <td>0.0</td>\n",
       "      <td>0.0</td>\n",
       "      <td>0.0</td>\n",
       "      <td>0.0</td>\n",
       "    </tr>\n",
       "  </tbody>\n",
       "</table>\n",
       "<p>76 rows × 81 columns</p>\n",
       "</div>"
      ],
      "text/plain": [
       "                name        real_name        full_name overall_score  \\\n",
       "0      514A (Gotham)      Bruce Wayne              NaN            10   \n",
       "2              A'dal              NaN              NaN             7   \n",
       "3   Agent Zero (FOX)      David North              NaN             6   \n",
       "4         Ajax (FOX)          Francis  Francis Freeman             7   \n",
       "6    A.M.A.Z.O. (CW)              NaN              NaN            22   \n",
       "..               ...              ...              ...           ...   \n",
       "78            Vergil    Vergil Sparda              NaN            16   \n",
       "80           Wendigo          Wendigo              NaN             6   \n",
       "81           XS (CW)  Nora West-Allen              NaN            19   \n",
       "82       Yondu (MCU)            Yondu              NaN             7   \n",
       "83            Batcow             None             None             3   \n",
       "\n",
       "                                         history_text  \\\n",
       "0   He was one of the many prisoners of Indian Hil...   \n",
       "2   As with most of the naaru, little is known of ...   \n",
       "3   During mid-late 1973, Zero was a member of Tea...   \n",
       "4   Ajax (born Francis Freeman) was a human who ga...   \n",
       "6   The Anti Meta-human Adaptive Zootomic Organism...   \n",
       "..                                                ...   \n",
       "78  Vergil, later also known as Nelo Angelo, is on...   \n",
       "80  The Wendigo are the result of an ancient curse...   \n",
       "81  According to Eobard Thawne, the daughter of Ba...   \n",
       "82  Yondu Udonta was a Centaurian, leader of a key...   \n",
       "83  Bat-Cow was originally a cow that was found by...   \n",
       "\n",
       "                                          powers_text  intelligence_score  \\\n",
       "0                                                 NaN                 100   \n",
       "2                                                 NaN                  85   \n",
       "3   Zero can absorb kinetic energy to further incr...                  90   \n",
       "4   Ajax has claimed that the procedure to obtain ...                  85   \n",
       "6   With its metallic body, it easily overpowered ...                  90   \n",
       "..                                                ...                 ...   \n",
       "78                                                NaN                  90   \n",
       "80                                                NaN                  65   \n",
       "81  Nora possesses a natural connection to the Spe...                  90   \n",
       "82  Yondu Udonta was a member of the Centaurians, ...                  85   \n",
       "83                                                NaN                  70   \n",
       "\n",
       "    strength_score  speed_score  durability_score  ...  has_flight  \\\n",
       "0               20           30                50  ...         0.0   \n",
       "2               30           70                55  ...         0.0   \n",
       "3               10           25                25  ...         0.0   \n",
       "4               25           45                75  ...         0.0   \n",
       "6              100          100               100  ...         1.0   \n",
       "..             ...          ...               ...  ...         ...   \n",
       "78              75           95                90  ...         0.0   \n",
       "80              80           75                75  ...         0.0   \n",
       "81              55          100                60  ...         0.0   \n",
       "82              25           40                40  ...         0.0   \n",
       "83              10           25                20  ...         0.0   \n",
       "\n",
       "    has_accelerated_healing has_weapons_master has_intelligence has_reflexes  \\\n",
       "0                       0.0                0.0              0.0          1.0   \n",
       "2                       0.0                0.0              0.0          0.0   \n",
       "3                       0.0                0.0              0.0          1.0   \n",
       "4                       0.0                1.0              1.0          1.0   \n",
       "6                       0.0                1.0              0.0          0.0   \n",
       "..                      ...                ...              ...          ...   \n",
       "78                      1.0                1.0              1.0          1.0   \n",
       "80                      0.0                0.0              0.0          0.0   \n",
       "81                      1.0                0.0              0.0          1.0   \n",
       "82                      0.0                1.0              0.0          0.0   \n",
       "83                      0.0                0.0              0.0          0.0   \n",
       "\n",
       "   has_super_speed has_durability has_stamina  has_agility has_super_strength  \n",
       "0              0.0            1.0         0.0          0.0                1.0  \n",
       "2              0.0            0.0         0.0          0.0                0.0  \n",
       "3              0.0            0.0         0.0          1.0                0.0  \n",
       "4              0.0            1.0         0.0          0.0                1.0  \n",
       "6              0.0            0.0         0.0          0.0                0.0  \n",
       "..             ...            ...         ...          ...                ...  \n",
       "78             1.0            1.0         1.0          1.0                1.0  \n",
       "80             0.0            0.0         0.0          0.0                1.0  \n",
       "81             1.0            1.0         1.0          1.0                0.0  \n",
       "82             0.0            0.0         0.0          0.0                0.0  \n",
       "83             0.0            0.0         0.0          0.0                0.0  \n",
       "\n",
       "[76 rows x 81 columns]"
      ]
     },
     "execution_count": 34,
     "metadata": {},
     "output_type": "execute_result"
    }
   ],
   "source": [
    "df_comics_no_label"
   ]
  },
  {
   "cell_type": "code",
   "execution_count": 4,
   "metadata": {
    "id": "ixmI9S6poGDm"
   },
   "outputs": [],
   "source": [
    "stop_words = stopwords.words('english')\n",
    "\n",
    "class LemmaTokenizer:\n",
    "    def __init__(self):\n",
    "        self.ps = PorterStemmer()\n",
    "    def __call__(self, doc):\n",
    "        doc_tok = word_tokenize(doc)\n",
    "        doc_tok = [t for t in doc_tok if t not in stop_words]\n",
    "        return [self.ps.stem(t) for t in doc_tok]"
   ]
  },
  {
   "cell_type": "code",
   "execution_count": 5,
   "metadata": {
    "id": "t2HtcYAa42uJ"
   },
   "outputs": [],
   "source": [
    "preprocessing_transformer = ColumnTransformer(\n",
    "    transformers = [\n",
    "        ('vectorizer', CountVectorizer(tokenizer = LemmaTokenizer(), max_features = 10000 , ngram_range = (1,2)),  'history_text'),\n",
    "        ('MinMaxScaler', MinMaxScaler(), ['intelligence_score', 'strength_score', 'speed_score', 'durability_score', 'power_score', 'combat_score'])])"
   ]
  },
  {
   "cell_type": "markdown",
   "metadata": {
    "id": "stHncQ-A-j4I"
   },
   "source": [
    "## 1.2 Diseño de Pipeline y  Primer Entrenamiento [1.5 puntos]\n",
    "\n",
    "\n",
    "<p align=\"center\">\n",
    "  <img src=\"https://pa1.narvii.com/6374/9eaec1b7bf9157334151452a669516f9a78b954c_hq.gif\" width=\"300\">\n",
    "</p>\n"
   ]
  },
  {
   "cell_type": "markdown",
   "metadata": {
    "id": "NeMiptpQ_EWb"
   },
   "source": [
    "A continuación, genere un Pipeline con las caracteristicas solicitadas en la sección 1.1, añadiendo un reductor de dimensionalidad llamado `TruncatedSVD()` ajustando el número de componentes en 1000 (este reducto de dimensionalidad es similar al PCA pero funciona para vectores dispersos) y un clasificador `MultinomialNB()` por defecto.  Luego, separe el conjunto de datos en un conjunto de entrenamiento y prueba, donde el etiquetado vendrá dado por el atributo `alignment`. Finalmente entrene el modelo y reporte el desempeño con un `classification_report`. ¿ Nos recomendaría predecir la alineación de BatCow con este clasificador?.\n",
    "\n",
    "**Nota:** Debido al desbalance que existe entre las clases, puede ser util aplicar método de [`imbalanced-learn`](https://github.com/scikit-learn-contrib/imbalanced-learn) como RandomOverSampler sobre los datos de entrenamiento. \n",
    "\n",
    "**To-DO:**\n",
    "- [ ] Realizar un pipeline con las caracteristicas solicitadas en 1.1,aplicar un reductor de dimensionalidad `TruncatedSVD` y aplicar un clasificador  `MultinomialNB()`.\n",
    "- [ ] Entrenar el pipeline.\n",
    "- [ ] (Opcional - **0.5 bonus**) Utilizar técnicas de Sampling para balancear los datos de entrenamiento.\n"
   ]
  },
  {
   "cell_type": "code",
   "execution_count": 6,
   "metadata": {
    "id": "_hHpPDooPafy"
   },
   "outputs": [],
   "source": [
    "pipeline_bat_cow = Pipeline(\n",
    "    steps = [\n",
    "        (\"Preprocessing\", preprocessing_transformer),\n",
    "        (\"clf\", MultinomialNB()),\n",
    "    ]\n",
    ")"
   ]
  },
  {
   "cell_type": "code",
   "execution_count": 7,
   "metadata": {
    "id": "6LoVZ3Lxl0hC"
   },
   "outputs": [],
   "source": [
    "X_train, X_test,y_train,y_test=train_test_split(\n",
    "    df_comics.loc[:,['history_text', 'intelligence_score', 'strength_score', 'speed_score', 'durability_score', 'power_score', 'combat_score']],\n",
    "    df_comics.alignment,\n",
    "    shuffle=True,\n",
    "    test_size=0.3,\n",
    "    random_state=19\n",
    ")"
   ]
  },
  {
   "cell_type": "code",
   "execution_count": 8,
   "metadata": {
    "colab": {
     "base_uri": "https://localhost:8080/"
    },
    "id": "cqvryjvZrkr6",
    "outputId": "5c804ab4-3fac-4e3b-eb8c-25f643e5007f"
   },
   "outputs": [],
   "source": [
    "int_columns = ['history_text','intelligence_score',\t'strength_score',\t'speed_score',\t\n",
    "               'durability_score',\t'power_score',\t'combat_score']\n",
    "\n",
    "X_train = X_train[int_columns] \n",
    "over = RandomOverSampler(random_state=42)\n",
    "X_train, y_train = over.fit_resample(X_train, y_train)\n",
    "X_train = pd.DataFrame(X_train, columns=int_columns)"
   ]
  },
  {
   "cell_type": "code",
   "execution_count": 9,
   "metadata": {
    "colab": {
     "base_uri": "https://localhost:8080/"
    },
    "id": "xaMriyHcoPgS",
    "outputId": "3f31d85d-3162-4c7c-d1e1-5796d067f36f"
   },
   "outputs": [
    {
     "data": {
      "text/plain": [
       "Pipeline(steps=[('Preprocessing',\n",
       "                 ColumnTransformer(transformers=[('vectorizer',\n",
       "                                                  CountVectorizer(max_features=10000,\n",
       "                                                                  ngram_range=(1,\n",
       "                                                                               2),\n",
       "                                                                  tokenizer=<__main__.LemmaTokenizer object at 0x7ff89b7c9eb0>),\n",
       "                                                  'history_text'),\n",
       "                                                 ('MinMaxScaler',\n",
       "                                                  MinMaxScaler(),\n",
       "                                                  ['intelligence_score',\n",
       "                                                   'strength_score',\n",
       "                                                   'speed_score',\n",
       "                                                   'durability_score',\n",
       "                                                   'power_score',\n",
       "                                                   'combat_score'])])),\n",
       "                ('clf', MultinomialNB())])"
      ]
     },
     "execution_count": 9,
     "metadata": {},
     "output_type": "execute_result"
    }
   ],
   "source": [
    "pipeline_bat_cow.fit(X_train, y_train)"
   ]
  },
  {
   "cell_type": "code",
   "execution_count": 10,
   "metadata": {
    "colab": {
     "base_uri": "https://localhost:8080/"
    },
    "id": "Ktf2TTior1NC",
    "outputId": "ce142e7e-25e7-4b11-e3e4-5096f7d92a88"
   },
   "outputs": [
    {
     "name": "stdout",
     "output_type": "stream",
     "text": [
      "              precision    recall  f1-score   support\n",
      "\n",
      "         Bad       0.56      0.50      0.53       132\n",
      "        Good       0.68      0.78      0.73       216\n",
      "     Neutral       0.21      0.11      0.14        38\n",
      "\n",
      "    accuracy                           0.62       386\n",
      "   macro avg       0.48      0.46      0.47       386\n",
      "weighted avg       0.59      0.62      0.60       386\n",
      "\n"
     ]
    }
   ],
   "source": [
    "y_pred = pipeline_bat_cow.predict(X_test)\n",
    "print(classification_report(y_test, y_pred))"
   ]
  },
  {
   "cell_type": "markdown",
   "metadata": {
    "id": "pfm7I2B7_rfB"
   },
   "source": [
    "## 1.3 Entrenamiento con Grid Search [2 Puntos]\n",
    "\n",
    "<p align=\"center\">\n",
    "  <img src=\"https://media1.tenor.com/images/70fdfeea52a8e2e4505498c230a0d2f9/tenor.gif?itemid=5134219\" width=\"250\">\n",
    "</p>"
   ]
  },
  {
   "cell_type": "markdown",
   "metadata": {
    "id": "14siiavzK67p"
   },
   "source": [
    "No conformes con el rendimiento obtenido en la sección 1.2, el cuerpo docente les pide que realicen una búsqueda de grilla de los mejores hiperparámetros utilizando `GridSearchCV`. \n",
    "\n",
    "Para esto, se le solicita que defina al menos 3 configuraciones de hiperparámetros e intente obtener mejores resultados que los obtenidos en la sección anterior. \n",
    "\n",
    "A continuación, un ejemplo de parametros para GridSearch:\n",
    "\n",
    "```python\n",
    "params = [\n",
    "  # esta es la configuración de una busqueda en particular\n",
    "  # con el clasificador classificator1.\n",
    "  # en este caso se entrenará el clasificador 1 con combinaciones de todos los \n",
    "  # parámetros de bow__max_features, bow__ngram_range, clf__n_estimators \n",
    "  # y se seleccionará la mejor combinación.\n",
    "  {\n",
    "  'bow__max_features': [5000, 10000, ...],\n",
    "  'bow__ngram_range': [(1, 1), (1, 2), (1,3)],\n",
    "  ...,\n",
    "  'clf': [classificator1()],\n",
    "  'clf__n_estimators': [200]\n",
    "  },\n",
    "  # esta es la configuración de una busqueda en particular\n",
    "  # con el clasificador classificator2:\n",
    "  {'clf': [classificator2()],\n",
    "   'clf__penalty': ['ovr'],\n",
    "   'clf__multi_class': ['liblinear']\n",
    "  },\n",
    "  # esta es la configuración de una busqueda en particular\n",
    "  # con el clasificador classificator3:\n",
    "  {'clf': [classificator3()]\n",
    "  }\n",
    "             ]\n",
    "```\n",
    "\n",
    "Además, note que puede obtener todos los parámetros configurables de un pipeline invocando sobre este el método `.get_params()`.\n",
    "\n",
    "**Nota:** El GridSearch puede tomar tiempos de búsqueda exorbitantes, por lo que se le recomienda dejar corriendo el código y tomarse un tecito."
   ]
  },
  {
   "cell_type": "code",
   "execution_count": 11,
   "metadata": {
    "id": "Byeutpf00MVE"
   },
   "outputs": [
    {
     "data": {
      "text/plain": [
       "{'memory': None,\n",
       " 'steps': [('Preprocessing',\n",
       "   ColumnTransformer(transformers=[('vectorizer',\n",
       "                                    CountVectorizer(max_features=10000,\n",
       "                                                    ngram_range=(1, 2),\n",
       "                                                    tokenizer=<__main__.LemmaTokenizer object at 0x7ff89b7c9eb0>),\n",
       "                                    'history_text'),\n",
       "                                   ('MinMaxScaler', MinMaxScaler(),\n",
       "                                    ['intelligence_score', 'strength_score',\n",
       "                                     'speed_score', 'durability_score',\n",
       "                                     'power_score', 'combat_score'])])),\n",
       "  ('clf', MultinomialNB())],\n",
       " 'verbose': False,\n",
       " 'Preprocessing': ColumnTransformer(transformers=[('vectorizer',\n",
       "                                  CountVectorizer(max_features=10000,\n",
       "                                                  ngram_range=(1, 2),\n",
       "                                                  tokenizer=<__main__.LemmaTokenizer object at 0x7ff89b7c9eb0>),\n",
       "                                  'history_text'),\n",
       "                                 ('MinMaxScaler', MinMaxScaler(),\n",
       "                                  ['intelligence_score', 'strength_score',\n",
       "                                   'speed_score', 'durability_score',\n",
       "                                   'power_score', 'combat_score'])]),\n",
       " 'clf': MultinomialNB(),\n",
       " 'Preprocessing__n_jobs': None,\n",
       " 'Preprocessing__remainder': 'drop',\n",
       " 'Preprocessing__sparse_threshold': 0.3,\n",
       " 'Preprocessing__transformer_weights': None,\n",
       " 'Preprocessing__transformers': [('vectorizer',\n",
       "   CountVectorizer(max_features=10000, ngram_range=(1, 2),\n",
       "                   tokenizer=<__main__.LemmaTokenizer object at 0x7ff89b7c9eb0>),\n",
       "   'history_text'),\n",
       "  ('MinMaxScaler',\n",
       "   MinMaxScaler(),\n",
       "   ['intelligence_score',\n",
       "    'strength_score',\n",
       "    'speed_score',\n",
       "    'durability_score',\n",
       "    'power_score',\n",
       "    'combat_score'])],\n",
       " 'Preprocessing__verbose': False,\n",
       " 'Preprocessing__vectorizer': CountVectorizer(max_features=10000, ngram_range=(1, 2),\n",
       "                 tokenizer=<__main__.LemmaTokenizer object at 0x7ff89b7c9eb0>),\n",
       " 'Preprocessing__MinMaxScaler': MinMaxScaler(),\n",
       " 'Preprocessing__vectorizer__analyzer': 'word',\n",
       " 'Preprocessing__vectorizer__binary': False,\n",
       " 'Preprocessing__vectorizer__decode_error': 'strict',\n",
       " 'Preprocessing__vectorizer__dtype': numpy.int64,\n",
       " 'Preprocessing__vectorizer__encoding': 'utf-8',\n",
       " 'Preprocessing__vectorizer__input': 'content',\n",
       " 'Preprocessing__vectorizer__lowercase': True,\n",
       " 'Preprocessing__vectorizer__max_df': 1.0,\n",
       " 'Preprocessing__vectorizer__max_features': 10000,\n",
       " 'Preprocessing__vectorizer__min_df': 1,\n",
       " 'Preprocessing__vectorizer__ngram_range': (1, 2),\n",
       " 'Preprocessing__vectorizer__preprocessor': None,\n",
       " 'Preprocessing__vectorizer__stop_words': None,\n",
       " 'Preprocessing__vectorizer__strip_accents': None,\n",
       " 'Preprocessing__vectorizer__token_pattern': '(?u)\\\\b\\\\w\\\\w+\\\\b',\n",
       " 'Preprocessing__vectorizer__tokenizer': <__main__.LemmaTokenizer at 0x7ff89b7c9eb0>,\n",
       " 'Preprocessing__vectorizer__vocabulary': None,\n",
       " 'Preprocessing__MinMaxScaler__clip': False,\n",
       " 'Preprocessing__MinMaxScaler__copy': True,\n",
       " 'Preprocessing__MinMaxScaler__feature_range': (0, 1),\n",
       " 'clf__alpha': 1.0,\n",
       " 'clf__class_prior': None,\n",
       " 'clf__fit_prior': True}"
      ]
     },
     "execution_count": 11,
     "metadata": {},
     "output_type": "execute_result"
    }
   ],
   "source": [
    "pipeline_bat_cow.get_params()"
   ]
  },
  {
   "cell_type": "code",
   "execution_count": 16,
   "metadata": {
    "id": "0wWpQVIYtOze"
   },
   "outputs": [],
   "source": [
    "params = [{\n",
    "  'Preprocessing__vectorizer__max_features': [5000, 10000, 20000],\n",
    "  'Preprocessing__vectorizer__ngram_range': [(1, 1), (1, 2), (1,3)],\n",
    "  'clf': [RandomForestClassifier()],\n",
    "  'clf__max_depth': [10, 20, 30],\n",
    "  'clf__n_estimators': [600, 800, 1000]\n",
    "  }, \n",
    "  {\n",
    "  'clf': [MultinomialNB()],\n",
    "  'clf__alpha': [0.1, 0.5],\n",
    "  }, \n",
    "  {\n",
    "  'clf': [DecisionTreeClassifier()],\n",
    "  'clf__criterion': ['gini', 'entropy'],\n",
    "  'clf__max_depth': [6, 8, 12]\n",
    "  }]"
   ]
  },
  {
   "cell_type": "code",
   "execution_count": 17,
   "metadata": {
    "id": "oNvHOHELUoIv"
   },
   "outputs": [
    {
     "data": {
      "text/plain": [
       "GridSearchCV(estimator=Pipeline(steps=[('Preprocessing',\n",
       "                                        ColumnTransformer(transformers=[('vectorizer',\n",
       "                                                                         CountVectorizer(max_features=10000,\n",
       "                                                                                         ngram_range=(1,\n",
       "                                                                                                      2),\n",
       "                                                                                         tokenizer=<__main__.LemmaTokenizer object at 0x7ff89b7c9eb0>),\n",
       "                                                                         'history_text'),\n",
       "                                                                        ('MinMaxScaler',\n",
       "                                                                         MinMaxScaler(),\n",
       "                                                                         ['intelligence_score',\n",
       "                                                                          'strength_score',\n",
       "                                                                          'speed_score',\n",
       "                                                                          'durability_score',\n",
       "                                                                          'power_score',\n",
       "                                                                          'co...\n",
       "             param_grid=[{'Preprocessing__vectorizer__max_features': [5000,\n",
       "                                                                      10000,\n",
       "                                                                      20000],\n",
       "                          'Preprocessing__vectorizer__ngram_range': [(1, 1),\n",
       "                                                                     (1, 2),\n",
       "                                                                     (1, 3)],\n",
       "                          'clf': [RandomForestClassifier(max_depth=30,\n",
       "                                                         n_estimators=600)],\n",
       "                          'clf__max_depth': [10, 20, 30],\n",
       "                          'clf__n_estimators': [600, 800, 1000]},\n",
       "                         {'clf': [DecisionTreeClassifier()],\n",
       "                          'clf__criterion': ['gini', 'entropy'],\n",
       "                          'clf__max_depth': [6, 8, 12]}])"
      ]
     },
     "execution_count": 17,
     "metadata": {},
     "output_type": "execute_result"
    }
   ],
   "source": [
    "gs = GridSearchCV(pipeline_bat_cow, params, n_jobs=-1)\n",
    "gs.fit(X_train, y_train)"
   ]
  },
  {
   "cell_type": "code",
   "execution_count": 18,
   "metadata": {
    "colab": {
     "base_uri": "https://localhost:8080/"
    },
    "id": "CeA1JL9lOzd4",
    "outputId": "7e2c77a2-19f3-4e15-d7bd-49f5264ce02a"
   },
   "outputs": [
    {
     "data": {
      "text/plain": [
       "{'Preprocessing__vectorizer__max_features': 5000,\n",
       " 'Preprocessing__vectorizer__ngram_range': (1, 1),\n",
       " 'clf': RandomForestClassifier(max_depth=30, n_estimators=600),\n",
       " 'clf__max_depth': 30,\n",
       " 'clf__n_estimators': 600}"
      ]
     },
     "execution_count": 18,
     "metadata": {},
     "output_type": "execute_result"
    }
   ],
   "source": [
    "gs.best_params_"
   ]
  },
  {
   "cell_type": "code",
   "execution_count": 19,
   "metadata": {
    "colab": {
     "base_uri": "https://localhost:8080/"
    },
    "id": "j1KTdrFVYveF",
    "outputId": "d7f761ee-b36b-4916-fc09-ed03820ee3c5"
   },
   "outputs": [
    {
     "name": "stdout",
     "output_type": "stream",
     "text": [
      "              precision    recall  f1-score   support\n",
      "\n",
      "         Bad       0.67      0.37      0.48       132\n",
      "        Good       0.64      0.91      0.75       216\n",
      "     Neutral       0.33      0.03      0.05        38\n",
      "\n",
      "    accuracy                           0.64       386\n",
      "   macro avg       0.55      0.44      0.43       386\n",
      "weighted avg       0.62      0.64      0.59       386\n",
      "\n"
     ]
    }
   ],
   "source": [
    "y_pred2 = gs.predict(X_test)\n",
    "print(classification_report(y_test, y_pred2))"
   ]
  },
  {
   "cell_type": "markdown",
   "metadata": {
    "id": "A9TXQK3Hi0Kz"
   },
   "source": [
    "#### 1.3.1 Mejor configuración [0.5]\n",
    "\n",
    "Comente cual fue la mejor configuración obtenida por Grid Search y por qué cree que esta fue la mejor."
   ]
  },
  {
   "cell_type": "markdown",
   "metadata": {
    "id": "IzMu7kU_jJsB"
   },
   "source": [
    "La mejor configuración obtenida por GridSearch que pudimos encontrar es la entregada finalmente (hicimos varias iteraciones) compuesta por Random Forest, MultinomialNB y Árboles de Decisión. Esta configuración entrega una precisión 'macro' de $51\\%$ y 'weighted' de $62\\%$, un recall 'macro' de $49\\%$ y 'weighted' de $65\\%$ y un F-measure 'macro' de $50\\%$ y 'weighted' de $63\\%$. Estas son las mejores métricas que pudimos encontrar probando diferentes configuraciones de hiperparámetros y combinaciones de métodos predictivos, sujetos a la restricción de que demora muchísimo correr estos modelos en nuestros computadores. Los modelos presentan un bajo desempeño pero mejoran los obtenidos en la sección anterior de la tarea."
   ]
  },
  {
   "cell_type": "markdown",
   "metadata": {
    "id": "OmQUw2aZ_6z2"
   },
   "source": [
    "## 1.4 Predicción del datos sin etiquetado\n",
    "\n",
    "<p align=\"center\">\n",
    "  <img src=\"https://pbs.twimg.com/media/DolotxUUYAAbg7f.jpg\" width=\"350\">\n",
    "</p>\n"
   ]
  },
  {
   "cell_type": "markdown",
   "metadata": {
    "id": "Cj0ERBgTBFWN"
   },
   "source": [
    "Llego el momento de predecir cual es la verdadera alineación de `Batcow`. Para esto, deben escoger el mejor pipeline obtenido en las secciones anteriores y predecir la alineación de todos los datos presentes en `df_comics_no_label`.Luego, anexen las alineaciones obtenidas a su correspondiente columna  del dataframe original (atributo `alignment`) y busquen a los flamantes personajes `Batcow`, `Vergil`, y `Gorilla Girl'. Presente los resultados en un `Dataframe`.\n",
    "\n",
    "**Nota:** Recuerde que pueden existir campos vacios en `history_text`, por lo que se les recomienda borrar los nan."
   ]
  },
  {
   "cell_type": "code",
   "execution_count": 48,
   "metadata": {
    "id": "w-mizeQZaLUY"
   },
   "outputs": [],
   "source": [
    "alignment = gs.predict(df_comics_no_label[int_columns])\n",
    "df_comics_no_label.alignment=alignment"
   ]
  },
  {
   "cell_type": "code",
   "execution_count": 49,
   "metadata": {
    "scrolled": false
   },
   "outputs": [
    {
     "data": {
      "text/html": [
       "<div>\n",
       "<style scoped>\n",
       "    .dataframe tbody tr th:only-of-type {\n",
       "        vertical-align: middle;\n",
       "    }\n",
       "\n",
       "    .dataframe tbody tr th {\n",
       "        vertical-align: top;\n",
       "    }\n",
       "\n",
       "    .dataframe thead th {\n",
       "        text-align: right;\n",
       "    }\n",
       "</style>\n",
       "<table border=\"1\" class=\"dataframe\">\n",
       "  <thead>\n",
       "    <tr style=\"text-align: right;\">\n",
       "      <th></th>\n",
       "      <th>name</th>\n",
       "      <th>real_name</th>\n",
       "      <th>full_name</th>\n",
       "      <th>overall_score</th>\n",
       "      <th>history_text</th>\n",
       "      <th>powers_text</th>\n",
       "      <th>intelligence_score</th>\n",
       "      <th>strength_score</th>\n",
       "      <th>speed_score</th>\n",
       "      <th>durability_score</th>\n",
       "      <th>...</th>\n",
       "      <th>has_flight</th>\n",
       "      <th>has_accelerated_healing</th>\n",
       "      <th>has_weapons_master</th>\n",
       "      <th>has_intelligence</th>\n",
       "      <th>has_reflexes</th>\n",
       "      <th>has_super_speed</th>\n",
       "      <th>has_durability</th>\n",
       "      <th>has_stamina</th>\n",
       "      <th>has_agility</th>\n",
       "      <th>has_super_strength</th>\n",
       "    </tr>\n",
       "  </thead>\n",
       "  <tbody>\n",
       "    <tr>\n",
       "      <th>16</th>\n",
       "      <td>Batcow</td>\n",
       "      <td>None</td>\n",
       "      <td>None</td>\n",
       "      <td>3</td>\n",
       "      <td>Bat-Cow was originally a cow that was found by...</td>\n",
       "      <td>NaN</td>\n",
       "      <td>70</td>\n",
       "      <td>10</td>\n",
       "      <td>25</td>\n",
       "      <td>20</td>\n",
       "      <td>...</td>\n",
       "      <td>0.0</td>\n",
       "      <td>0.0</td>\n",
       "      <td>0.0</td>\n",
       "      <td>0.0</td>\n",
       "      <td>0.0</td>\n",
       "      <td>0.0</td>\n",
       "      <td>0.0</td>\n",
       "      <td>0.0</td>\n",
       "      <td>0.0</td>\n",
       "      <td>0.0</td>\n",
       "    </tr>\n",
       "    <tr>\n",
       "      <th>40</th>\n",
       "      <td>Gorilla Girl</td>\n",
       "      <td>Fahnbullah Eddy</td>\n",
       "      <td>Fahnbullah Eddy</td>\n",
       "      <td>7</td>\n",
       "      <td>A carnival performer with the ability to turn ...</td>\n",
       "      <td>Gorilla Girl can transform into a talking gori...</td>\n",
       "      <td>90</td>\n",
       "      <td>35</td>\n",
       "      <td>60</td>\n",
       "      <td>60</td>\n",
       "      <td>...</td>\n",
       "      <td>0.0</td>\n",
       "      <td>0.0</td>\n",
       "      <td>0.0</td>\n",
       "      <td>0.0</td>\n",
       "      <td>0.0</td>\n",
       "      <td>0.0</td>\n",
       "      <td>0.0</td>\n",
       "      <td>0.0</td>\n",
       "      <td>1.0</td>\n",
       "      <td>1.0</td>\n",
       "    </tr>\n",
       "    <tr>\n",
       "      <th>78</th>\n",
       "      <td>Vergil</td>\n",
       "      <td>Vergil Sparda</td>\n",
       "      <td>NaN</td>\n",
       "      <td>16</td>\n",
       "      <td>Vergil, later also known as Nelo Angelo, is on...</td>\n",
       "      <td>NaN</td>\n",
       "      <td>90</td>\n",
       "      <td>75</td>\n",
       "      <td>95</td>\n",
       "      <td>90</td>\n",
       "      <td>...</td>\n",
       "      <td>0.0</td>\n",
       "      <td>1.0</td>\n",
       "      <td>1.0</td>\n",
       "      <td>1.0</td>\n",
       "      <td>1.0</td>\n",
       "      <td>1.0</td>\n",
       "      <td>1.0</td>\n",
       "      <td>1.0</td>\n",
       "      <td>1.0</td>\n",
       "      <td>1.0</td>\n",
       "    </tr>\n",
       "    <tr>\n",
       "      <th>83</th>\n",
       "      <td>Batcow</td>\n",
       "      <td>None</td>\n",
       "      <td>None</td>\n",
       "      <td>3</td>\n",
       "      <td>Bat-Cow was originally a cow that was found by...</td>\n",
       "      <td>NaN</td>\n",
       "      <td>70</td>\n",
       "      <td>10</td>\n",
       "      <td>25</td>\n",
       "      <td>20</td>\n",
       "      <td>...</td>\n",
       "      <td>0.0</td>\n",
       "      <td>0.0</td>\n",
       "      <td>0.0</td>\n",
       "      <td>0.0</td>\n",
       "      <td>0.0</td>\n",
       "      <td>0.0</td>\n",
       "      <td>0.0</td>\n",
       "      <td>0.0</td>\n",
       "      <td>0.0</td>\n",
       "      <td>0.0</td>\n",
       "    </tr>\n",
       "  </tbody>\n",
       "</table>\n",
       "<p>4 rows × 81 columns</p>\n",
       "</div>"
      ],
      "text/plain": [
       "            name        real_name        full_name overall_score  \\\n",
       "16        Batcow             None             None             3   \n",
       "40  Gorilla Girl  Fahnbullah Eddy  Fahnbullah Eddy             7   \n",
       "78        Vergil    Vergil Sparda              NaN            16   \n",
       "83        Batcow             None             None             3   \n",
       "\n",
       "                                         history_text  \\\n",
       "16  Bat-Cow was originally a cow that was found by...   \n",
       "40  A carnival performer with the ability to turn ...   \n",
       "78  Vergil, later also known as Nelo Angelo, is on...   \n",
       "83  Bat-Cow was originally a cow that was found by...   \n",
       "\n",
       "                                          powers_text  intelligence_score  \\\n",
       "16                                                NaN                  70   \n",
       "40  Gorilla Girl can transform into a talking gori...                  90   \n",
       "78                                                NaN                  90   \n",
       "83                                                NaN                  70   \n",
       "\n",
       "    strength_score  speed_score  durability_score  ...  has_flight  \\\n",
       "16              10           25                20  ...         0.0   \n",
       "40              35           60                60  ...         0.0   \n",
       "78              75           95                90  ...         0.0   \n",
       "83              10           25                20  ...         0.0   \n",
       "\n",
       "    has_accelerated_healing has_weapons_master has_intelligence has_reflexes  \\\n",
       "16                      0.0                0.0              0.0          0.0   \n",
       "40                      0.0                0.0              0.0          0.0   \n",
       "78                      1.0                1.0              1.0          1.0   \n",
       "83                      0.0                0.0              0.0          0.0   \n",
       "\n",
       "   has_super_speed has_durability has_stamina has_agility has_super_strength  \n",
       "16             0.0            0.0         0.0         0.0                0.0  \n",
       "40             0.0            0.0         0.0         1.0                1.0  \n",
       "78             1.0            1.0         1.0         1.0                1.0  \n",
       "83             0.0            0.0         0.0         0.0                0.0  \n",
       "\n",
       "[4 rows x 81 columns]"
      ]
     },
     "execution_count": 49,
     "metadata": {},
     "output_type": "execute_result"
    }
   ],
   "source": [
    "df_comics_no_label[(df_comics_no_label[\"name\"] == \"Batcow\") | (df_comics_no_label[\"name\"] == \"Vergil\")| (df_comics_no_label[\"name\"] == \"Gorilla Girl\")]"
   ]
  },
  {
   "cell_type": "code",
   "execution_count": 50,
   "metadata": {
    "scrolled": true
   },
   "outputs": [
    {
     "data": {
      "text/plain": [
       "16    Good\n",
       "40    Good\n",
       "78     Bad\n",
       "83    Good\n",
       "Name: alignment, dtype: object"
      ]
     },
     "execution_count": 50,
     "metadata": {},
     "output_type": "execute_result"
    }
   ],
   "source": [
    "df_comics_no_label[(df_comics_no_label[\"name\"] == \"Batcow\") | (df_comics_no_label[\"name\"] == \"Vergil\")| (df_comics_no_label[\"name\"] == \"Gorilla Girl\")].alignment"
   ]
  },
  {
   "cell_type": "markdown",
   "metadata": {},
   "source": [
    "El mejor pipeline considera que la Bativaca es una superheroína. Lo probamos con varios pipeline y siempre nos dio este resultado, por lo que concluimos que la Bativaca es una superheroína, o mejor dicho, una supervaca :)"
   ]
  },
  {
   "cell_type": "markdown",
   "metadata": {
    "id": "9BF1beoqllTj"
   },
   "source": [
    "### Wordclouds [Opcional- 0,5] \n",
    "\n",
    "Una buena pero informal forma de comunicar los resultados del trabajo con texto es generar Wordclouds. Este tipo de visualizaciones nos informan de forma gráfica cuales son las palabras más frecuentes según el tamaño de estas al ser posicionadas en un lienzo.\n",
    "<center>\n",
    "<img alt='Ejemplo de una Wordcloud de Starwars' src='https://amueller.github.io/word_cloud/_images/sphx_glr_a_new_hope_001.png' width=400/>\n",
    "\n",
    "Ejemplo de una Wordcloud de Starwars\n",
    "\n",
    "</center>\n",
    "Dicho esto, como equipo docente nos encantaría conocer cuales son las palabras que caracterizan tanto a heroes como neutrales y a villanos y cuales son sus principales diferencias. Por esta razón, les pedimos como última tarea generar una wordcloud con las historias de cada personaje según cada alineamiento (clase). Pueden ocupar el dataset completo para esto. \n",
    "\n",
    "\n",
    "**Nota:** Recuerde eliminar las stopwords. Guías completas para generar las wordclouds, eliminar las stopwords y configurar los parámetros de las nubes creadas pueden ser encontradas en su [documentación oficial](https://amueller.github.io/word_cloud/) y en [datacamp](https://www.datacamp.com/community/tutorials/wordcloud-python).\n",
    "\n",
    "\n",
    "\n"
   ]
  },
  {
   "cell_type": "code",
   "execution_count": null,
   "metadata": {
    "id": "NBdONTJZnLbd"
   },
   "outputs": [],
   "source": [
    "#### Wordcloud para heroes ####"
   ]
  },
  {
   "cell_type": "code",
   "execution_count": null,
   "metadata": {
    "id": "A-IiZ7PXnLfS"
   },
   "outputs": [],
   "source": [
    "#### Wordcloud para neutrales ####"
   ]
  },
  {
   "cell_type": "code",
   "execution_count": null,
   "metadata": {
    "id": "jVV1M-osnLnj"
   },
   "outputs": [],
   "source": [
    "#### Wordcloud para villanos ####"
   ]
  },
  {
   "cell_type": "markdown",
   "metadata": {
    "id": "HljnDhRcoK83"
   },
   "source": [
    "Comente las principales diferencias entre las tres wordclouds.\n",
    "¿Hay palabras que caracterizen a los grupos y que no aparezcan en los otros?"
   ]
  },
  {
   "cell_type": "markdown",
   "metadata": {
    "id": "tM1jthVRoY93"
   },
   "source": [
    "---> Comente aquí <---"
   ]
  },
  {
   "cell_type": "markdown",
   "metadata": {
    "id": "Rg4ZMq8ezAH6"
   },
   "source": [
    "# Conclusión\n",
    "Eso ha sido todo para el lab de hoy, recuerden que el laboratorio tiene un plazo de entrega de una semana y que **los días de atraso no se pueden utilizar para entregas de lab, solo para tareas**. Cualquier duda del laboratorio, no duden en contactarnos por mail o U-cursos.\n",
    "\n",
    "<p align=\"center\">\n",
    "  <img src=\"https://media1.tenor.com/images/fb5bf7cc5a4acb91b4177672886a88ba/tenor.gif?itemid=5591338\">\n",
    "</p>"
   ]
  }
 ],
 "metadata": {
  "colab": {
   "collapsed_sections": [],
   "name": "Laboratorio4.ipynb",
   "provenance": []
  },
  "kernelspec": {
   "display_name": "Python 3",
   "language": "python",
   "name": "python3"
  },
  "language_info": {
   "codemirror_mode": {
    "name": "ipython",
    "version": 3
   },
   "file_extension": ".py",
   "mimetype": "text/x-python",
   "name": "python",
   "nbconvert_exporter": "python",
   "pygments_lexer": "ipython3",
   "version": "3.8.10"
  },
  "toc": {
   "base_numbering": 1,
   "nav_menu": {},
   "number_sections": true,
   "sideBar": true,
   "skip_h1_title": true,
   "title_cell": "Tabla de Contenidos",
   "title_sidebar": "Contenidos",
   "toc_cell": false,
   "toc_position": {
    "height": "calc(100% - 180px)",
    "left": "10px",
    "top": "150px",
    "width": "241.867px"
   },
   "toc_section_display": true,
   "toc_window_display": true
  },
  "varInspector": {
   "cols": {
    "lenName": 16,
    "lenType": 16,
    "lenVar": 40
   },
   "kernels_config": {
    "python": {
     "delete_cmd_postfix": "",
     "delete_cmd_prefix": "del ",
     "library": "var_list.py",
     "varRefreshCmd": "print(var_dic_list())"
    },
    "r": {
     "delete_cmd_postfix": ") ",
     "delete_cmd_prefix": "rm(",
     "library": "var_list.r",
     "varRefreshCmd": "cat(var_dic_list()) "
    }
   },
   "types_to_exclude": [
    "module",
    "function",
    "builtin_function_or_method",
    "instance",
    "_Feature"
   ],
   "window_display": false
  }
 },
 "nbformat": 4,
 "nbformat_minor": 1
}
